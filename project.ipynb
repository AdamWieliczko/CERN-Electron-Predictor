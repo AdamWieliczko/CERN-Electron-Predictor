{
 "cells": [
  {
   "cell_type": "code",
   "execution_count": 1,
   "metadata": {},
   "outputs": [],
   "source": [
    "import numpy as np\n",
    "import pandas as pd\n",
    "import matplotlib.pyplot as plt\n",
    "from sklearn import metrics"
   ]
  },
  {
   "cell_type": "markdown",
   "metadata": {},
   "source": [
    "## Pobranie danych"
   ]
  },
  {
   "cell_type": "code",
   "execution_count": 2,
   "metadata": {},
   "outputs": [],
   "source": [
    "import os\n",
    "path = os.path.join(\"parseddata.csv\")"
   ]
  },
  {
   "cell_type": "code",
   "execution_count": 3,
   "metadata": {},
   "outputs": [],
   "source": [
    "import pandas as pd\n",
    "from sklearn.model_selection import train_test_split\n",
    "\n",
    "data = pd.read_csv(path)"
   ]
  },
  {
   "cell_type": "code",
   "execution_count": 4,
   "metadata": {},
   "outputs": [
    {
     "data": {
      "text/plain": [
       "False"
      ]
     },
     "execution_count": 4,
     "metadata": {},
     "output_type": "execute_result"
    }
   ],
   "source": [
    "data.Q2.isnull().values.any()"
   ]
  },
  {
   "cell_type": "code",
   "execution_count": 5,
   "metadata": {},
   "outputs": [
    {
     "name": "stdout",
     "output_type": "stream",
     "text": [
      "<class 'pandas.core.frame.DataFrame'>\n",
      "RangeIndex: 2000 entries, 0 to 1999\n",
      "Data columns (total 19 columns):\n",
      " #   Column  Non-Null Count  Dtype  \n",
      "---  ------  --------------  -----  \n",
      " 0   Run     2000 non-null   int64  \n",
      " 1   Event   2000 non-null   int64  \n",
      " 2   E1      2000 non-null   float64\n",
      " 3   px1     2000 non-null   float64\n",
      " 4   py1     2000 non-null   float64\n",
      " 5   pz1     2000 non-null   float64\n",
      " 6   pt1     2000 non-null   float64\n",
      " 7   eta1    2000 non-null   float64\n",
      " 8   phi1    1977 non-null   float64\n",
      " 9   Q1      1967 non-null   float64\n",
      " 10  E2      1977 non-null   float64\n",
      " 11  px2     2000 non-null   float64\n",
      " 12  py2     2000 non-null   float64\n",
      " 13  pz2     2000 non-null   float64\n",
      " 14  pt2     2000 non-null   float64\n",
      " 15  eta2    2000 non-null   float64\n",
      " 16  phi2    2000 non-null   float64\n",
      " 17  Q2      2000 non-null   int64  \n",
      " 18  M       2000 non-null   float64\n",
      "dtypes: float64(16), int64(3)\n",
      "memory usage: 297.0 KB\n"
     ]
    }
   ],
   "source": [
    "data.info()"
   ]
  },
  {
   "cell_type": "markdown",
   "metadata": {},
   "source": [
    "Teraz zamienię inty na stringi żeby potem je naprawić"
   ]
  },
  {
   "cell_type": "code",
   "execution_count": 6,
   "metadata": {},
   "outputs": [],
   "source": [
    "data.Run = data.Run.astype(str)"
   ]
  },
  {
   "cell_type": "code",
   "execution_count": 7,
   "metadata": {},
   "outputs": [],
   "source": [
    "data_train, data_test = train_test_split(data, train_size=0.9, shuffle=True)"
   ]
  },
  {
   "cell_type": "markdown",
   "metadata": {},
   "source": [
    "Sprawdzam jak wyglądają dane"
   ]
  },
  {
   "cell_type": "code",
   "execution_count": 8,
   "metadata": {},
   "outputs": [
    {
     "data": {
      "text/html": [
       "<div>\n",
       "<style scoped>\n",
       "    .dataframe tbody tr th:only-of-type {\n",
       "        vertical-align: middle;\n",
       "    }\n",
       "\n",
       "    .dataframe tbody tr th {\n",
       "        vertical-align: top;\n",
       "    }\n",
       "\n",
       "    .dataframe thead th {\n",
       "        text-align: right;\n",
       "    }\n",
       "</style>\n",
       "<table border=\"1\" class=\"dataframe\">\n",
       "  <thead>\n",
       "    <tr style=\"text-align: right;\">\n",
       "      <th></th>\n",
       "      <th>Run</th>\n",
       "      <th>Event</th>\n",
       "      <th>E1</th>\n",
       "      <th>px1</th>\n",
       "      <th>py1</th>\n",
       "      <th>pz1</th>\n",
       "      <th>pt1</th>\n",
       "      <th>eta1</th>\n",
       "      <th>phi1</th>\n",
       "      <th>Q1</th>\n",
       "      <th>E2</th>\n",
       "      <th>px2</th>\n",
       "      <th>py2</th>\n",
       "      <th>pz2</th>\n",
       "      <th>pt2</th>\n",
       "      <th>eta2</th>\n",
       "      <th>phi2</th>\n",
       "      <th>Q2</th>\n",
       "      <th>M</th>\n",
       "    </tr>\n",
       "  </thead>\n",
       "  <tbody>\n",
       "    <tr>\n",
       "      <th>0</th>\n",
       "      <td>147115</td>\n",
       "      <td>368546272</td>\n",
       "      <td>9.34051</td>\n",
       "      <td>-2.015710</td>\n",
       "      <td>0.520275</td>\n",
       "      <td>-9.10556</td>\n",
       "      <td>2.08177</td>\n",
       "      <td>-2.181630</td>\n",
       "      <td>2.889000</td>\n",
       "      <td>1.0</td>\n",
       "      <td>19.4326</td>\n",
       "      <td>-11.80940</td>\n",
       "      <td>-9.27687</td>\n",
       "      <td>-12.3330</td>\n",
       "      <td>15.0174</td>\n",
       "      <td>-0.749175</td>\n",
       "      <td>-2.475720</td>\n",
       "      <td>-1</td>\n",
       "      <td>10.02330</td>\n",
       "    </tr>\n",
       "    <tr>\n",
       "      <th>1</th>\n",
       "      <td>147115</td>\n",
       "      <td>14990913</td>\n",
       "      <td>5.20570</td>\n",
       "      <td>4.572420</td>\n",
       "      <td>-1.138860</td>\n",
       "      <td>2.21254</td>\n",
       "      <td>4.71212</td>\n",
       "      <td>0.453805</td>\n",
       "      <td>-0.244105</td>\n",
       "      <td>1.0</td>\n",
       "      <td>103.7640</td>\n",
       "      <td>-18.48930</td>\n",
       "      <td>-8.89345</td>\n",
       "      <td>101.7160</td>\n",
       "      <td>20.5170</td>\n",
       "      <td>2.304090</td>\n",
       "      <td>-2.693260</td>\n",
       "      <td>1</td>\n",
       "      <td>27.91160</td>\n",
       "    </tr>\n",
       "    <tr>\n",
       "      <th>2</th>\n",
       "      <td>147115</td>\n",
       "      <td>482260690</td>\n",
       "      <td>4.41252</td>\n",
       "      <td>-0.974871</td>\n",
       "      <td>-2.007580</td>\n",
       "      <td>3.80651</td>\n",
       "      <td>2.23176</td>\n",
       "      <td>1.303660</td>\n",
       "      <td>-2.022850</td>\n",
       "      <td>-1.0</td>\n",
       "      <td>90.8150</td>\n",
       "      <td>6.10354</td>\n",
       "      <td>15.58020</td>\n",
       "      <td>89.2601</td>\n",
       "      <td>16.7331</td>\n",
       "      <td>2.375980</td>\n",
       "      <td>1.197420</td>\n",
       "      <td>-1</td>\n",
       "      <td>14.01300</td>\n",
       "    </tr>\n",
       "    <tr>\n",
       "      <th>3</th>\n",
       "      <td>147115</td>\n",
       "      <td>166685143</td>\n",
       "      <td>14.12550</td>\n",
       "      <td>-0.440379</td>\n",
       "      <td>-5.169440</td>\n",
       "      <td>-13.13820</td>\n",
       "      <td>5.18817</td>\n",
       "      <td>-1.659180</td>\n",
       "      <td>-1.655780</td>\n",
       "      <td>-1.0</td>\n",
       "      <td>52.9553</td>\n",
       "      <td>-13.36680</td>\n",
       "      <td>-13.59660</td>\n",
       "      <td>-49.4037</td>\n",
       "      <td>19.0667</td>\n",
       "      <td>-1.680540</td>\n",
       "      <td>-2.347670</td>\n",
       "      <td>1</td>\n",
       "      <td>6.74841</td>\n",
       "    </tr>\n",
       "    <tr>\n",
       "      <th>4</th>\n",
       "      <td>147115</td>\n",
       "      <td>482102034</td>\n",
       "      <td>47.78880</td>\n",
       "      <td>-14.024100</td>\n",
       "      <td>-13.218200</td>\n",
       "      <td>43.73070</td>\n",
       "      <td>19.27160</td>\n",
       "      <td>1.557920</td>\n",
       "      <td>-2.385770</td>\n",
       "      <td>-1.0</td>\n",
       "      <td>12.2436</td>\n",
       "      <td>3.08141</td>\n",
       "      <td>1.28393</td>\n",
       "      <td>11.7798</td>\n",
       "      <td>3.3382</td>\n",
       "      <td>1.973600</td>\n",
       "      <td>0.394792</td>\n",
       "      <td>-1</td>\n",
       "      <td>16.13420</td>\n",
       "    </tr>\n",
       "  </tbody>\n",
       "</table>\n",
       "</div>"
      ],
      "text/plain": [
       "      Run      Event        E1        px1        py1       pz1       pt1  \\\n",
       "0  147115  368546272   9.34051  -2.015710   0.520275  -9.10556   2.08177   \n",
       "1  147115   14990913   5.20570   4.572420  -1.138860   2.21254   4.71212   \n",
       "2  147115  482260690   4.41252  -0.974871  -2.007580   3.80651   2.23176   \n",
       "3  147115  166685143  14.12550  -0.440379  -5.169440 -13.13820   5.18817   \n",
       "4  147115  482102034  47.78880 -14.024100 -13.218200  43.73070  19.27160   \n",
       "\n",
       "       eta1      phi1   Q1        E2       px2       py2       pz2      pt2  \\\n",
       "0 -2.181630  2.889000  1.0   19.4326 -11.80940  -9.27687  -12.3330  15.0174   \n",
       "1  0.453805 -0.244105  1.0  103.7640 -18.48930  -8.89345  101.7160  20.5170   \n",
       "2  1.303660 -2.022850 -1.0   90.8150   6.10354  15.58020   89.2601  16.7331   \n",
       "3 -1.659180 -1.655780 -1.0   52.9553 -13.36680 -13.59660  -49.4037  19.0667   \n",
       "4  1.557920 -2.385770 -1.0   12.2436   3.08141   1.28393   11.7798   3.3382   \n",
       "\n",
       "       eta2      phi2  Q2         M  \n",
       "0 -0.749175 -2.475720  -1  10.02330  \n",
       "1  2.304090 -2.693260   1  27.91160  \n",
       "2  2.375980  1.197420  -1  14.01300  \n",
       "3 -1.680540 -2.347670   1   6.74841  \n",
       "4  1.973600  0.394792  -1  16.13420  "
      ]
     },
     "execution_count": 8,
     "metadata": {},
     "output_type": "execute_result"
    }
   ],
   "source": [
    "data.head()"
   ]
  },
  {
   "cell_type": "code",
   "execution_count": 9,
   "metadata": {},
   "outputs": [
    {
     "data": {
      "text/html": [
       "<div>\n",
       "<style scoped>\n",
       "    .dataframe tbody tr th:only-of-type {\n",
       "        vertical-align: middle;\n",
       "    }\n",
       "\n",
       "    .dataframe tbody tr th {\n",
       "        vertical-align: top;\n",
       "    }\n",
       "\n",
       "    .dataframe thead th {\n",
       "        text-align: right;\n",
       "    }\n",
       "</style>\n",
       "<table border=\"1\" class=\"dataframe\">\n",
       "  <thead>\n",
       "    <tr style=\"text-align: right;\">\n",
       "      <th></th>\n",
       "      <th>Run</th>\n",
       "      <th>Event</th>\n",
       "      <th>E1</th>\n",
       "      <th>px1</th>\n",
       "      <th>py1</th>\n",
       "      <th>pz1</th>\n",
       "      <th>pt1</th>\n",
       "      <th>eta1</th>\n",
       "      <th>phi1</th>\n",
       "      <th>Q1</th>\n",
       "      <th>E2</th>\n",
       "      <th>px2</th>\n",
       "      <th>py2</th>\n",
       "      <th>pz2</th>\n",
       "      <th>pt2</th>\n",
       "      <th>eta2</th>\n",
       "      <th>phi2</th>\n",
       "      <th>Q2</th>\n",
       "      <th>M</th>\n",
       "    </tr>\n",
       "  </thead>\n",
       "  <tbody>\n",
       "    <tr>\n",
       "      <th>1995</th>\n",
       "      <td>147115</td>\n",
       "      <td>262763738</td>\n",
       "      <td>31.42320</td>\n",
       "      <td>-4.81677</td>\n",
       "      <td>18.48960</td>\n",
       "      <td>24.94690</td>\n",
       "      <td>19.10670</td>\n",
       "      <td>1.081900</td>\n",
       "      <td>1.825640</td>\n",
       "      <td>1.0</td>\n",
       "      <td>2.87905</td>\n",
       "      <td>0.918533</td>\n",
       "      <td>-1.97035</td>\n",
       "      <td>1.88757</td>\n",
       "      <td>2.17393</td>\n",
       "      <td>0.785099</td>\n",
       "      <td>-1.13457</td>\n",
       "      <td>1</td>\n",
       "      <td>12.97960</td>\n",
       "    </tr>\n",
       "    <tr>\n",
       "      <th>1996</th>\n",
       "      <td>147115</td>\n",
       "      <td>303068443</td>\n",
       "      <td>24.95120</td>\n",
       "      <td>15.00330</td>\n",
       "      <td>-4.27880</td>\n",
       "      <td>19.47190</td>\n",
       "      <td>15.60150</td>\n",
       "      <td>1.046390</td>\n",
       "      <td>-0.277815</td>\n",
       "      <td>-1.0</td>\n",
       "      <td>10.31190</td>\n",
       "      <td>-3.944290</td>\n",
       "      <td>-3.72314</td>\n",
       "      <td>-8.77021</td>\n",
       "      <td>5.42395</td>\n",
       "      <td>-1.257930</td>\n",
       "      <td>-2.38503</td>\n",
       "      <td>1</td>\n",
       "      <td>30.70220</td>\n",
       "    </tr>\n",
       "    <tr>\n",
       "      <th>1997</th>\n",
       "      <td>147115</td>\n",
       "      <td>414734899</td>\n",
       "      <td>98.13490</td>\n",
       "      <td>-31.40010</td>\n",
       "      <td>13.97930</td>\n",
       "      <td>-91.91890</td>\n",
       "      <td>34.37130</td>\n",
       "      <td>-1.710090</td>\n",
       "      <td>2.722740</td>\n",
       "      <td>-1.0</td>\n",
       "      <td>4.98165</td>\n",
       "      <td>-1.224380</td>\n",
       "      <td>1.22865</td>\n",
       "      <td>-4.66992</td>\n",
       "      <td>1.73456</td>\n",
       "      <td>-1.716370</td>\n",
       "      <td>2.35446</td>\n",
       "      <td>1</td>\n",
       "      <td>2.82803</td>\n",
       "    </tr>\n",
       "    <tr>\n",
       "      <th>1998</th>\n",
       "      <td>147115</td>\n",
       "      <td>403427630</td>\n",
       "      <td>2.66969</td>\n",
       "      <td>-0.59581</td>\n",
       "      <td>-1.92725</td>\n",
       "      <td>1.74871</td>\n",
       "      <td>2.01725</td>\n",
       "      <td>0.784043</td>\n",
       "      <td>-1.870630</td>\n",
       "      <td>-1.0</td>\n",
       "      <td>112.91900</td>\n",
       "      <td>8.054460</td>\n",
       "      <td>22.78790</td>\n",
       "      <td>110.30200</td>\n",
       "      <td>24.16950</td>\n",
       "      <td>2.223070</td>\n",
       "      <td>1.23105</td>\n",
       "      <td>1</td>\n",
       "      <td>17.73640</td>\n",
       "    </tr>\n",
       "    <tr>\n",
       "      <th>1999</th>\n",
       "      <td>147115</td>\n",
       "      <td>373027382</td>\n",
       "      <td>29.49230</td>\n",
       "      <td>13.19170</td>\n",
       "      <td>-12.88570</td>\n",
       "      <td>-23.01590</td>\n",
       "      <td>18.44080</td>\n",
       "      <td>-1.046410</td>\n",
       "      <td>-0.773666</td>\n",
       "      <td>-1.0</td>\n",
       "      <td>17.25330</td>\n",
       "      <td>-3.518780</td>\n",
       "      <td>-1.82520</td>\n",
       "      <td>-16.79180</td>\n",
       "      <td>3.96398</td>\n",
       "      <td>-2.150440</td>\n",
       "      <td>-2.66310</td>\n",
       "      <td>1</td>\n",
       "      <td>17.04470</td>\n",
       "    </tr>\n",
       "  </tbody>\n",
       "</table>\n",
       "</div>"
      ],
      "text/plain": [
       "         Run      Event        E1       px1       py1       pz1       pt1  \\\n",
       "1995  147115  262763738  31.42320  -4.81677  18.48960  24.94690  19.10670   \n",
       "1996  147115  303068443  24.95120  15.00330  -4.27880  19.47190  15.60150   \n",
       "1997  147115  414734899  98.13490 -31.40010  13.97930 -91.91890  34.37130   \n",
       "1998  147115  403427630   2.66969  -0.59581  -1.92725   1.74871   2.01725   \n",
       "1999  147115  373027382  29.49230  13.19170 -12.88570 -23.01590  18.44080   \n",
       "\n",
       "          eta1      phi1   Q1         E2       px2       py2        pz2  \\\n",
       "1995  1.081900  1.825640  1.0    2.87905  0.918533  -1.97035    1.88757   \n",
       "1996  1.046390 -0.277815 -1.0   10.31190 -3.944290  -3.72314   -8.77021   \n",
       "1997 -1.710090  2.722740 -1.0    4.98165 -1.224380   1.22865   -4.66992   \n",
       "1998  0.784043 -1.870630 -1.0  112.91900  8.054460  22.78790  110.30200   \n",
       "1999 -1.046410 -0.773666 -1.0   17.25330 -3.518780  -1.82520  -16.79180   \n",
       "\n",
       "           pt2      eta2     phi2  Q2         M  \n",
       "1995   2.17393  0.785099 -1.13457   1  12.97960  \n",
       "1996   5.42395 -1.257930 -2.38503   1  30.70220  \n",
       "1997   1.73456 -1.716370  2.35446   1   2.82803  \n",
       "1998  24.16950  2.223070  1.23105   1  17.73640  \n",
       "1999   3.96398 -2.150440 -2.66310   1  17.04470  "
      ]
     },
     "execution_count": 9,
     "metadata": {},
     "output_type": "execute_result"
    }
   ],
   "source": [
    "data.tail()"
   ]
  },
  {
   "cell_type": "code",
   "execution_count": 10,
   "metadata": {},
   "outputs": [
    {
     "name": "stdout",
     "output_type": "stream",
     "text": [
      "<class 'pandas.core.frame.DataFrame'>\n",
      "RangeIndex: 2000 entries, 0 to 1999\n",
      "Data columns (total 19 columns):\n",
      " #   Column  Non-Null Count  Dtype  \n",
      "---  ------  --------------  -----  \n",
      " 0   Run     2000 non-null   object \n",
      " 1   Event   2000 non-null   int64  \n",
      " 2   E1      2000 non-null   float64\n",
      " 3   px1     2000 non-null   float64\n",
      " 4   py1     2000 non-null   float64\n",
      " 5   pz1     2000 non-null   float64\n",
      " 6   pt1     2000 non-null   float64\n",
      " 7   eta1    2000 non-null   float64\n",
      " 8   phi1    1977 non-null   float64\n",
      " 9   Q1      1967 non-null   float64\n",
      " 10  E2      1977 non-null   float64\n",
      " 11  px2     2000 non-null   float64\n",
      " 12  py2     2000 non-null   float64\n",
      " 13  pz2     2000 non-null   float64\n",
      " 14  pt2     2000 non-null   float64\n",
      " 15  eta2    2000 non-null   float64\n",
      " 16  phi2    2000 non-null   float64\n",
      " 17  Q2      2000 non-null   int64  \n",
      " 18  M       2000 non-null   float64\n",
      "dtypes: float64(16), int64(2), object(1)\n",
      "memory usage: 297.0+ KB\n"
     ]
    }
   ],
   "source": [
    "data.info()"
   ]
  },
  {
   "cell_type": "code",
   "execution_count": 11,
   "metadata": {},
   "outputs": [
    {
     "data": {
      "text/html": [
       "<div>\n",
       "<style scoped>\n",
       "    .dataframe tbody tr th:only-of-type {\n",
       "        vertical-align: middle;\n",
       "    }\n",
       "\n",
       "    .dataframe tbody tr th {\n",
       "        vertical-align: top;\n",
       "    }\n",
       "\n",
       "    .dataframe thead th {\n",
       "        text-align: right;\n",
       "    }\n",
       "</style>\n",
       "<table border=\"1\" class=\"dataframe\">\n",
       "  <thead>\n",
       "    <tr style=\"text-align: right;\">\n",
       "      <th></th>\n",
       "      <th>Event</th>\n",
       "      <th>E1</th>\n",
       "      <th>px1</th>\n",
       "      <th>py1</th>\n",
       "      <th>pz1</th>\n",
       "      <th>pt1</th>\n",
       "      <th>eta1</th>\n",
       "      <th>phi1</th>\n",
       "      <th>Q1</th>\n",
       "      <th>E2</th>\n",
       "      <th>px2</th>\n",
       "      <th>py2</th>\n",
       "      <th>pz2</th>\n",
       "      <th>pt2</th>\n",
       "      <th>eta2</th>\n",
       "      <th>phi2</th>\n",
       "      <th>Q2</th>\n",
       "      <th>M</th>\n",
       "    </tr>\n",
       "  </thead>\n",
       "  <tbody>\n",
       "    <tr>\n",
       "      <th>count</th>\n",
       "      <td>2.000000e+03</td>\n",
       "      <td>2000.000000</td>\n",
       "      <td>2000.000000</td>\n",
       "      <td>2000.000000</td>\n",
       "      <td>2000.000000</td>\n",
       "      <td>2000.000000</td>\n",
       "      <td>2000.000000</td>\n",
       "      <td>1977.000000</td>\n",
       "      <td>1967.000000</td>\n",
       "      <td>1977.000000</td>\n",
       "      <td>2000.000000</td>\n",
       "      <td>2000.000000</td>\n",
       "      <td>2000.000000</td>\n",
       "      <td>2000.000000</td>\n",
       "      <td>2000.000000</td>\n",
       "      <td>2000.000000</td>\n",
       "      <td>2000.00000</td>\n",
       "      <td>2000.000000</td>\n",
       "    </tr>\n",
       "    <tr>\n",
       "      <th>mean</th>\n",
       "      <td>3.275772e+08</td>\n",
       "      <td>32.583646</td>\n",
       "      <td>0.362022</td>\n",
       "      <td>0.238989</td>\n",
       "      <td>-0.845287</td>\n",
       "      <td>12.407287</td>\n",
       "      <td>-0.038423</td>\n",
       "      <td>0.068352</td>\n",
       "      <td>0.023894</td>\n",
       "      <td>40.343679</td>\n",
       "      <td>-0.013632</td>\n",
       "      <td>0.224399</td>\n",
       "      <td>-0.707894</td>\n",
       "      <td>12.008478</td>\n",
       "      <td>-0.089447</td>\n",
       "      <td>0.026183</td>\n",
       "      <td>0.00000</td>\n",
       "      <td>27.460362</td>\n",
       "    </tr>\n",
       "    <tr>\n",
       "      <th>std</th>\n",
       "      <td>1.508022e+08</td>\n",
       "      <td>35.885805</td>\n",
       "      <td>11.160851</td>\n",
       "      <td>11.887759</td>\n",
       "      <td>45.642403</td>\n",
       "      <td>10.585552</td>\n",
       "      <td>1.494036</td>\n",
       "      <td>1.778407</td>\n",
       "      <td>0.999969</td>\n",
       "      <td>41.717796</td>\n",
       "      <td>11.732437</td>\n",
       "      <td>11.032871</td>\n",
       "      <td>55.852992</td>\n",
       "      <td>10.730759</td>\n",
       "      <td>1.773803</td>\n",
       "      <td>1.832277</td>\n",
       "      <td>1.00025</td>\n",
       "      <td>23.335679</td>\n",
       "    </tr>\n",
       "    <tr>\n",
       "      <th>min</th>\n",
       "      <td>9.500362e+06</td>\n",
       "      <td>0.834900</td>\n",
       "      <td>-56.895300</td>\n",
       "      <td>-73.517500</td>\n",
       "      <td>-253.916000</td>\n",
       "      <td>0.398498</td>\n",
       "      <td>-2.585940</td>\n",
       "      <td>-3.133880</td>\n",
       "      <td>-1.000000</td>\n",
       "      <td>0.472500</td>\n",
       "      <td>-111.342000</td>\n",
       "      <td>-62.579700</td>\n",
       "      <td>-298.311000</td>\n",
       "      <td>0.277460</td>\n",
       "      <td>-2.586640</td>\n",
       "      <td>-3.141400</td>\n",
       "      <td>-1.00000</td>\n",
       "      <td>2.004170</td>\n",
       "    </tr>\n",
       "    <tr>\n",
       "      <th>25%</th>\n",
       "      <td>2.194487e+08</td>\n",
       "      <td>7.633027</td>\n",
       "      <td>-4.173105</td>\n",
       "      <td>-4.574718</td>\n",
       "      <td>-13.365825</td>\n",
       "      <td>3.504293</td>\n",
       "      <td>-1.311073</td>\n",
       "      <td>-1.472760</td>\n",
       "      <td>-1.000000</td>\n",
       "      <td>10.583300</td>\n",
       "      <td>-4.814035</td>\n",
       "      <td>-3.923737</td>\n",
       "      <td>-20.914850</td>\n",
       "      <td>3.482925</td>\n",
       "      <td>-1.943348</td>\n",
       "      <td>-1.590232</td>\n",
       "      <td>-1.00000</td>\n",
       "      <td>11.655375</td>\n",
       "    </tr>\n",
       "    <tr>\n",
       "      <th>50%</th>\n",
       "      <td>3.037173e+08</td>\n",
       "      <td>19.021450</td>\n",
       "      <td>0.157162</td>\n",
       "      <td>0.268929</td>\n",
       "      <td>-0.155179</td>\n",
       "      <td>11.886550</td>\n",
       "      <td>-0.031145</td>\n",
       "      <td>0.102301</td>\n",
       "      <td>1.000000</td>\n",
       "      <td>22.982100</td>\n",
       "      <td>-0.314780</td>\n",
       "      <td>0.121675</td>\n",
       "      <td>-0.917953</td>\n",
       "      <td>9.572210</td>\n",
       "      <td>-0.242269</td>\n",
       "      <td>0.048885</td>\n",
       "      <td>0.00000</td>\n",
       "      <td>19.287450</td>\n",
       "    </tr>\n",
       "    <tr>\n",
       "      <th>75%</th>\n",
       "      <td>4.610019e+08</td>\n",
       "      <td>45.315975</td>\n",
       "      <td>4.812810</td>\n",
       "      <td>5.320955</td>\n",
       "      <td>12.849025</td>\n",
       "      <td>17.717850</td>\n",
       "      <td>1.193810</td>\n",
       "      <td>1.626180</td>\n",
       "      <td>1.000000</td>\n",
       "      <td>62.782400</td>\n",
       "      <td>4.317110</td>\n",
       "      <td>4.727145</td>\n",
       "      <td>18.184650</td>\n",
       "      <td>17.256750</td>\n",
       "      <td>1.796523</td>\n",
       "      <td>1.689635</td>\n",
       "      <td>1.00000</td>\n",
       "      <td>34.732550</td>\n",
       "    </tr>\n",
       "    <tr>\n",
       "      <th>max</th>\n",
       "      <td>6.205406e+08</td>\n",
       "      <td>285.890000</td>\n",
       "      <td>57.078800</td>\n",
       "      <td>103.643000</td>\n",
       "      <td>280.571000</td>\n",
       "      <td>106.337000</td>\n",
       "      <td>2.549170</td>\n",
       "      <td>3.140730</td>\n",
       "      <td>1.000000</td>\n",
       "      <td>303.665000</td>\n",
       "      <td>108.360000</td>\n",
       "      <td>66.940900</td>\n",
       "      <td>272.391000</td>\n",
       "      <td>119.738000</td>\n",
       "      <td>2.575870</td>\n",
       "      <td>3.140660</td>\n",
       "      <td>1.00000</td>\n",
       "      <td>109.903000</td>\n",
       "    </tr>\n",
       "  </tbody>\n",
       "</table>\n",
       "</div>"
      ],
      "text/plain": [
       "              Event           E1          px1          py1          pz1  \\\n",
       "count  2.000000e+03  2000.000000  2000.000000  2000.000000  2000.000000   \n",
       "mean   3.275772e+08    32.583646     0.362022     0.238989    -0.845287   \n",
       "std    1.508022e+08    35.885805    11.160851    11.887759    45.642403   \n",
       "min    9.500362e+06     0.834900   -56.895300   -73.517500  -253.916000   \n",
       "25%    2.194487e+08     7.633027    -4.173105    -4.574718   -13.365825   \n",
       "50%    3.037173e+08    19.021450     0.157162     0.268929    -0.155179   \n",
       "75%    4.610019e+08    45.315975     4.812810     5.320955    12.849025   \n",
       "max    6.205406e+08   285.890000    57.078800   103.643000   280.571000   \n",
       "\n",
       "               pt1         eta1         phi1           Q1           E2  \\\n",
       "count  2000.000000  2000.000000  1977.000000  1967.000000  1977.000000   \n",
       "mean     12.407287    -0.038423     0.068352     0.023894    40.343679   \n",
       "std      10.585552     1.494036     1.778407     0.999969    41.717796   \n",
       "min       0.398498    -2.585940    -3.133880    -1.000000     0.472500   \n",
       "25%       3.504293    -1.311073    -1.472760    -1.000000    10.583300   \n",
       "50%      11.886550    -0.031145     0.102301     1.000000    22.982100   \n",
       "75%      17.717850     1.193810     1.626180     1.000000    62.782400   \n",
       "max     106.337000     2.549170     3.140730     1.000000   303.665000   \n",
       "\n",
       "               px2          py2          pz2          pt2         eta2  \\\n",
       "count  2000.000000  2000.000000  2000.000000  2000.000000  2000.000000   \n",
       "mean     -0.013632     0.224399    -0.707894    12.008478    -0.089447   \n",
       "std      11.732437    11.032871    55.852992    10.730759     1.773803   \n",
       "min    -111.342000   -62.579700  -298.311000     0.277460    -2.586640   \n",
       "25%      -4.814035    -3.923737   -20.914850     3.482925    -1.943348   \n",
       "50%      -0.314780     0.121675    -0.917953     9.572210    -0.242269   \n",
       "75%       4.317110     4.727145    18.184650    17.256750     1.796523   \n",
       "max     108.360000    66.940900   272.391000   119.738000     2.575870   \n",
       "\n",
       "              phi2          Q2            M  \n",
       "count  2000.000000  2000.00000  2000.000000  \n",
       "mean      0.026183     0.00000    27.460362  \n",
       "std       1.832277     1.00025    23.335679  \n",
       "min      -3.141400    -1.00000     2.004170  \n",
       "25%      -1.590232    -1.00000    11.655375  \n",
       "50%       0.048885     0.00000    19.287450  \n",
       "75%       1.689635     1.00000    34.732550  \n",
       "max       3.140660     1.00000   109.903000  "
      ]
     },
     "execution_count": 11,
     "metadata": {},
     "output_type": "execute_result"
    }
   ],
   "source": [
    "data.describe()"
   ]
  },
  {
   "cell_type": "markdown",
   "metadata": {},
   "source": [
    "Naprawiam NaNy występujące w kolumnach"
   ]
  },
  {
   "cell_type": "code",
   "execution_count": 12,
   "metadata": {},
   "outputs": [
    {
     "name": "stdout",
     "output_type": "stream",
     "text": [
      "True\n",
      "True\n",
      "True\n"
     ]
    }
   ],
   "source": [
    "print(data.Q1.isnull().values.any())\n",
    "print(data.phi1.isnull().values.any())\n",
    "print(data.E2.isnull().values.any())"
   ]
  },
  {
   "cell_type": "code",
   "execution_count": 13,
   "metadata": {},
   "outputs": [],
   "source": [
    "for column in data.columns:\n",
    "    \n",
    "    data_train[column].fillna(data_test[column].value_counts().values[0], inplace=True)\n",
    "    data_test[column].fillna(data_test[column].value_counts().values[0], inplace=True)"
   ]
  },
  {
   "cell_type": "code",
   "execution_count": 14,
   "metadata": {},
   "outputs": [
    {
     "name": "stdout",
     "output_type": "stream",
     "text": [
      "True\n",
      "True\n",
      "True\n"
     ]
    }
   ],
   "source": [
    "print(data.Q1.isnull().values.any())\n",
    "print(data.phi1.isnull().values.any())\n",
    "print(data.E2.isnull().values.any())"
   ]
  },
  {
   "cell_type": "markdown",
   "metadata": {},
   "source": [
    "Rodzielam zbiór testowy i treningowy na X oraz y"
   ]
  },
  {
   "cell_type": "code",
   "execution_count": 15,
   "metadata": {},
   "outputs": [],
   "source": [
    "X_train = data_train.drop(labels=\"Q2\", axis=1)\n",
    "y_train = pd.Series(data_train[\"Q2\"].values)\n",
    "\n",
    "X_test = data_test.drop(labels=\"Q2\", axis=1)\n",
    "y_test = pd.Series(data_test[\"Q2\"].values)"
   ]
  },
  {
   "cell_type": "code",
   "execution_count": 16,
   "metadata": {},
   "outputs": [],
   "source": [
    "from sklearn.preprocessing import LabelEncoder\n",
    "\n",
    "label_encoder = LabelEncoder()\n",
    "y_train = label_encoder.fit_transform(y_train)\n",
    "y_test = label_encoder.fit_transform(y_test)"
   ]
  },
  {
   "cell_type": "markdown",
   "metadata": {},
   "source": [
    "Wykresy opisujące ilość każdego typu danej w kilku kolumnach"
   ]
  },
  {
   "cell_type": "code",
   "execution_count": 17,
   "metadata": {},
   "outputs": [
    {
     "data": {
      "image/png": "[encoded data removed]",
      "text/plain": [
       "<Figure size 288x288 with 1 Axes>"
      ]
     },
     "metadata": {
      "needs_background": "light"
     },
     "output_type": "display_data"
    },
    {
     "data": {
      "image/png": "[encoded data removed]",
      "text/plain": [
       "<Figure size 288x288 with 1 Axes>"
      ]
     },
     "metadata": {
      "needs_background": "light"
     },
     "output_type": "display_data"
    },
    {
     "data": {
      "image/png": "[encoded data removed]",
      "text/plain": [
       "<Figure size 288x288 with 1 Axes>"
      ]
     },
     "metadata": {
      "needs_background": "light"
     },
     "output_type": "display_data"
    }
   ],
   "source": [
    "for column in [\"Q1\", \"Q2\", \"Run\"]:\n",
    "    data[column].value_counts().plot(kind=\"bar\", figsize=(4,4))\n",
    "    plt.show()"
   ]
  },
  {
   "cell_type": "markdown",
   "metadata": {},
   "source": [
    "Tworzę selectora i pipeliny"
   ]
  },
  {
   "cell_type": "code",
   "execution_count": 18,
   "metadata": {},
   "outputs": [],
   "source": [
    "from sklearn.base import BaseEstimator, TransformerMixin\n",
    "\n",
    "class DataFrameSelector(BaseEstimator, TransformerMixin):\n",
    "    def __init__(self, attribute_names):\n",
    "        self.attribute_names = attribute_names\n",
    "    def fit(self, X, y=None):\n",
    "        return self\n",
    "    def transform(self, X):\n",
    "        return X[self.attribute_names]"
   ]
  },
  {
   "cell_type": "code",
   "execution_count": 19,
   "metadata": {},
   "outputs": [],
   "source": [
    "from sklearn.pipeline import Pipeline\n",
    "from sklearn.impute import SimpleImputer\n",
    "from sklearn.preprocessing import StandardScaler, MinMaxScaler\n",
    "\n",
    "num_pipeline = Pipeline([\n",
    "        (\"select_numeric\", DataFrameSelector([\"Event\", \"E1\", \"E2\", \"px1\", \"px2\", \"py1\", \"py2\", \"pz1\", \"pz2\", \"eta1\", \"eta2\", \"phi1\", \"phi2\", \"Q1\"])),\n",
    "        (\"scaler\", MinMaxScaler()),\n",
    "        (\"imputer\", SimpleImputer(strategy=\"most_frequent\"))\n",
    "    ])"
   ]
  },
  {
   "cell_type": "code",
   "execution_count": 20,
   "metadata": {},
   "outputs": [],
   "source": [
    "class MostFrequentImputer(BaseEstimator, TransformerMixin):\n",
    "    def fit(self, X, y=None):\n",
    "        self.most_frequent_ = pd.Series([X[c].value_counts().index[0] for c in X],\n",
    "                                        index=X.columns)\n",
    "        return self\n",
    "    def transform(self, X, y=None):\n",
    "        return X.fillna(self.most_frequent_)"
   ]
  },
  {
   "cell_type": "code",
   "execution_count": 21,
   "metadata": {},
   "outputs": [],
   "source": [
    "from sklearn.preprocessing import OneHotEncoder\n",
    "\n",
    "cat_pipeline = Pipeline([\n",
    "        (\"select_cat\", DataFrameSelector([\"Run\"])),\n",
    "        (\"imputer\", MinMaxScaler()),\n",
    "        (\"cat_encoder\", OneHotEncoder(sparse=False, handle_unknown = 'ignore')),\n",
    "    ])"
   ]
  },
  {
   "cell_type": "code",
   "execution_count": 22,
   "metadata": {},
   "outputs": [
    {
     "data": {
      "text/plain": [
       "array([[0.10856331, 0.01575916, 0.04936633, ..., 0.31480044, 0.23522698,\n",
       "        0.        ],\n",
       "       [0.7761345 , 0.20062051, 0.00610414, ..., 0.67707794, 0.33759149,\n",
       "        0.01851852],\n",
       "       [0.84400112, 0.00896237, 0.06031119, ..., 0.80238294, 0.80764908,\n",
       "        0.01851852],\n",
       "       ...,\n",
       "       [0.49136811, 0.03821717, 0.28976146, ..., 0.95463622, 0.14001936,\n",
       "        0.        ],\n",
       "       [0.43430889, 0.24077801, 0.02729754, ..., 0.95984452, 0.10082998,\n",
       "        0.01851852],\n",
       "       [0.33969578, 0.06860989, 0.18232113, ..., 0.86142565, 0.81889699,\n",
       "        0.        ]])"
      ]
     },
     "execution_count": 22,
     "metadata": {},
     "output_type": "execute_result"
    }
   ],
   "source": [
    "num_pipeline.fit_transform(X_train)"
   ]
  },
  {
   "cell_type": "code",
   "execution_count": 23,
   "metadata": {},
   "outputs": [
    {
     "data": {
      "text/plain": [
       "array([[1.],\n",
       "       [1.],\n",
       "       [1.],\n",
       "       ...,\n",
       "       [1.],\n",
       "       [1.],\n",
       "       [1.]])"
      ]
     },
     "execution_count": 23,
     "metadata": {},
     "output_type": "execute_result"
    }
   ],
   "source": [
    "cat_pipeline.fit_transform(X_train)"
   ]
  },
  {
   "cell_type": "markdown",
   "metadata": {},
   "source": []
  },
  {
   "cell_type": "code",
   "execution_count": 24,
   "metadata": {},
   "outputs": [],
   "source": [
    "from sklearn.pipeline import FeatureUnion\n",
    "preprocess_pipeline = FeatureUnion(transformer_list=[\n",
    "        (\"num_pipeline\", num_pipeline),\n",
    "        (\"cat_pipeline\", cat_pipeline),\n",
    "    ])"
   ]
  },
  {
   "cell_type": "code",
   "execution_count": 25,
   "metadata": {},
   "outputs": [],
   "source": [
    "from sklearn.svm import SVC, LinearSVC\n",
    "from sklearn.pipeline import Pipeline\n",
    "from sklearn.model_selection import GridSearchCV, RandomizedSearchCV, StratifiedKFold, KFold, GroupKFold\n",
    "from sklearn.linear_model import LogisticRegression\n",
    "from sklearn.ensemble import VotingClassifier, RandomForestClassifier, ExtraTreesClassifier, BaggingClassifier, AdaBoostClassifier, GradientBoostingClassifier\n",
    "from sklearn.neighbors import KNeighborsClassifier\n",
    "from sklearn.tree import DecisionTreeClassifier\n",
    "\n",
    "kfold = StratifiedKFold(n_splits=10)"
   ]
  },
  {
   "cell_type": "code",
   "execution_count": 26,
   "metadata": {},
   "outputs": [
    {
     "name": "stdout",
     "output_type": "stream",
     "text": [
      "1800\n",
      "1800\n"
     ]
    }
   ],
   "source": [
    "print(len(X_train))\n",
    "print(len(y_train))"
   ]
  },
  {
   "cell_type": "code",
   "execution_count": 27,
   "metadata": {},
   "outputs": [
    {
     "data": {
      "text/plain": [
       "array([0, 1, 0, ..., 1, 0, 0], dtype=int64)"
      ]
     },
     "execution_count": 27,
     "metadata": {},
     "output_type": "execute_result"
    }
   ],
   "source": [
    "y_train"
   ]
  },
  {
   "cell_type": "code",
   "execution_count": 28,
   "metadata": {},
   "outputs": [
    {
     "data": {
      "image/png": "[encoded data removed]",
      "text/plain": [
       "<Figure size 792x648 with 2 Axes>"
      ]
     },
     "metadata": {
      "needs_background": "light"
     },
     "output_type": "display_data"
    }
   ],
   "source": [
    "import seaborn as sns\n",
    "\n",
    "plt.subplots(figsize=(11, 9))\n",
    "cmap = sns.diverging_palette(220, 10, as_cmap=True)\n",
    "\n",
    "sns.heatmap(data.loc[:, data.columns != \"classification\"].corr(), cmap=cmap, vmin=-1, vmax=1)\n",
    "plt.show()"
   ]
  },
  {
   "cell_type": "code",
   "execution_count": 29,
   "metadata": {},
   "outputs": [
    {
     "name": "stderr",
     "output_type": "stream",
     "text": [
      "f:\\Anaconda\\AnacondaFiles\\envs\\TFGPU\\lib\\site-packages\\sklearn\\svm\\_base.py:1206: ConvergenceWarning: Liblinear failed to converge, increase the number of iterations.\n",
      "  warnings.warn(\n",
      "f:\\Anaconda\\AnacondaFiles\\envs\\TFGPU\\lib\\site-packages\\sklearn\\svm\\_base.py:1206: ConvergenceWarning: Liblinear failed to converge, increase the number of iterations.\n",
      "  warnings.warn(\n",
      "f:\\Anaconda\\AnacondaFiles\\envs\\TFGPU\\lib\\site-packages\\sklearn\\svm\\_base.py:1206: ConvergenceWarning: Liblinear failed to converge, increase the number of iterations.\n",
      "  warnings.warn(\n",
      "f:\\Anaconda\\AnacondaFiles\\envs\\TFGPU\\lib\\site-packages\\sklearn\\svm\\_base.py:1206: ConvergenceWarning: Liblinear failed to converge, increase the number of iterations.\n",
      "  warnings.warn(\n",
      "f:\\Anaconda\\AnacondaFiles\\envs\\TFGPU\\lib\\site-packages\\sklearn\\svm\\_base.py:1206: ConvergenceWarning: Liblinear failed to converge, increase the number of iterations.\n",
      "  warnings.warn(\n",
      "f:\\Anaconda\\AnacondaFiles\\envs\\TFGPU\\lib\\site-packages\\sklearn\\svm\\_base.py:1206: ConvergenceWarning: Liblinear failed to converge, increase the number of iterations.\n",
      "  warnings.warn(\n",
      "f:\\Anaconda\\AnacondaFiles\\envs\\TFGPU\\lib\\site-packages\\sklearn\\svm\\_base.py:1206: ConvergenceWarning: Liblinear failed to converge, increase the number of iterations.\n",
      "  warnings.warn(\n",
      "f:\\Anaconda\\AnacondaFiles\\envs\\TFGPU\\lib\\site-packages\\sklearn\\svm\\_base.py:1206: ConvergenceWarning: Liblinear failed to converge, increase the number of iterations.\n",
      "  warnings.warn(\n",
      "f:\\Anaconda\\AnacondaFiles\\envs\\TFGPU\\lib\\site-packages\\sklearn\\svm\\_base.py:1206: ConvergenceWarning: Liblinear failed to converge, increase the number of iterations.\n",
      "  warnings.warn(\n",
      "f:\\Anaconda\\AnacondaFiles\\envs\\TFGPU\\lib\\site-packages\\sklearn\\svm\\_base.py:1206: ConvergenceWarning: Liblinear failed to converge, increase the number of iterations.\n",
      "  warnings.warn(\n",
      "f:\\Anaconda\\AnacondaFiles\\envs\\TFGPU\\lib\\site-packages\\sklearn\\svm\\_base.py:1206: ConvergenceWarning: Liblinear failed to converge, increase the number of iterations.\n",
      "  warnings.warn(\n",
      "f:\\Anaconda\\AnacondaFiles\\envs\\TFGPU\\lib\\site-packages\\sklearn\\svm\\_base.py:1206: ConvergenceWarning: Liblinear failed to converge, increase the number of iterations.\n",
      "  warnings.warn(\n",
      "f:\\Anaconda\\AnacondaFiles\\envs\\TFGPU\\lib\\site-packages\\sklearn\\svm\\_base.py:1206: ConvergenceWarning: Liblinear failed to converge, increase the number of iterations.\n",
      "  warnings.warn(\n",
      "f:\\Anaconda\\AnacondaFiles\\envs\\TFGPU\\lib\\site-packages\\sklearn\\svm\\_base.py:1206: ConvergenceWarning: Liblinear failed to converge, increase the number of iterations.\n",
      "  warnings.warn(\n",
      "f:\\Anaconda\\AnacondaFiles\\envs\\TFGPU\\lib\\site-packages\\sklearn\\svm\\_base.py:1206: ConvergenceWarning: Liblinear failed to converge, increase the number of iterations.\n",
      "  warnings.warn(\n",
      "f:\\Anaconda\\AnacondaFiles\\envs\\TFGPU\\lib\\site-packages\\sklearn\\svm\\_base.py:1206: ConvergenceWarning: Liblinear failed to converge, increase the number of iterations.\n",
      "  warnings.warn(\n",
      "f:\\Anaconda\\AnacondaFiles\\envs\\TFGPU\\lib\\site-packages\\sklearn\\svm\\_base.py:1206: ConvergenceWarning: Liblinear failed to converge, increase the number of iterations.\n",
      "  warnings.warn(\n",
      "f:\\Anaconda\\AnacondaFiles\\envs\\TFGPU\\lib\\site-packages\\sklearn\\svm\\_base.py:1206: ConvergenceWarning: Liblinear failed to converge, increase the number of iterations.\n",
      "  warnings.warn(\n",
      "f:\\Anaconda\\AnacondaFiles\\envs\\TFGPU\\lib\\site-packages\\sklearn\\svm\\_base.py:1206: ConvergenceWarning: Liblinear failed to converge, increase the number of iterations.\n",
      "  warnings.warn(\n",
      "f:\\Anaconda\\AnacondaFiles\\envs\\TFGPU\\lib\\site-packages\\sklearn\\svm\\_base.py:1206: ConvergenceWarning: Liblinear failed to converge, increase the number of iterations.\n",
      "  warnings.warn(\n",
      "f:\\Anaconda\\AnacondaFiles\\envs\\TFGPU\\lib\\site-packages\\sklearn\\svm\\_base.py:1206: ConvergenceWarning: Liblinear failed to converge, increase the number of iterations.\n",
      "  warnings.warn(\n"
     ]
    },
    {
     "data": {
      "text/plain": [
       "{'classifier__C': 10}"
      ]
     },
     "execution_count": 29,
     "metadata": {},
     "output_type": "execute_result"
    }
   ],
   "source": [
    "pipe = Pipeline([\n",
    "    ('preprocessing', preprocess_pipeline),\n",
    "    ('classifier', LinearSVC())])\n",
    "\n",
    "\n",
    "param_grid = {\n",
    "            'classifier__C': [0.001, 0.01, 0.1, 1, 10, 100],\n",
    "}\n",
    "\n",
    "grid_linearSVC = GridSearchCV(pipe, param_grid, cv=kfold, scoring=\"accuracy\")\n",
    "grid_linearSVC.fit(X_train, y_train)\n",
    "grid_linearSVC.best_params_"
   ]
  },
  {
   "cell_type": "code",
   "execution_count": 30,
   "metadata": {},
   "outputs": [
    {
     "data": {
      "text/plain": [
       "{'classifier__C': 10, 'classifier__gamma': 1}"
      ]
     },
     "execution_count": 30,
     "metadata": {},
     "output_type": "execute_result"
    }
   ],
   "source": [
    "pipe = Pipeline([\n",
    "    ('preprocessing', preprocess_pipeline), \n",
    "    ('classifier', SVC(kernel='rbf'))])\n",
    "\n",
    "param_grid = {\n",
    "            'classifier__gamma': [0.00001, 0.0001, 0.001, 0.01, 0.1, 1, 10, 100, 1000],\n",
    "            'classifier__C': [0.001, 0.01, 0.1, 1, 10, 100]\n",
    "}\n",
    "\n",
    "grid_rbf = GridSearchCV(pipe, param_grid, cv=kfold, scoring=\"accuracy\")\n",
    "\n",
    "grid_rbf.fit(X_train, y_train)\n",
    "grid_rbf.best_params_"
   ]
  },
  {
   "cell_type": "code",
   "execution_count": 31,
   "metadata": {},
   "outputs": [
    {
     "data": {
      "text/plain": [
       "{'classifier__C': 100, 'classifier__coef0': 1, 'classifier__degree': 3}"
      ]
     },
     "execution_count": 31,
     "metadata": {},
     "output_type": "execute_result"
    }
   ],
   "source": [
    "pipe = Pipeline([\n",
    "    ('preprocessing', preprocess_pipeline),\n",
    "    ('classifier', SVC(kernel='poly'))])\n",
    "param_grid = {\n",
    "            'classifier__degree': [1, 2, 3, 4, 5],\n",
    "            'classifier__coef0': [0, 1],\n",
    "            'classifier__C': [0.001, 0.01, 0.1, 1, 10, 100]\n",
    "}\n",
    "\n",
    "grid_poly = GridSearchCV(pipe, param_grid, cv=kfold, scoring=\"accuracy\")\n",
    "\n",
    "grid_poly.fit(X_train, y_train)\n",
    "grid_poly.best_params_"
   ]
  },
  {
   "cell_type": "code",
   "execution_count": 32,
   "metadata": {},
   "outputs": [
    {
     "name": "stderr",
     "output_type": "stream",
     "text": [
      "f:\\Anaconda\\AnacondaFiles\\envs\\TFGPU\\lib\\site-packages\\sklearn\\linear_model\\_logistic.py:1483: UserWarning: Setting penalty='none' will ignore the C and l1_ratio parameters\n",
      "  warnings.warn(\n",
      "f:\\Anaconda\\AnacondaFiles\\envs\\TFGPU\\lib\\site-packages\\sklearn\\linear_model\\_logistic.py:1483: UserWarning: Setting penalty='none' will ignore the C and l1_ratio parameters\n",
      "  warnings.warn(\n",
      "f:\\Anaconda\\AnacondaFiles\\envs\\TFGPU\\lib\\site-packages\\sklearn\\linear_model\\_logistic.py:1483: UserWarning: Setting penalty='none' will ignore the C and l1_ratio parameters\n",
      "  warnings.warn(\n",
      "f:\\Anaconda\\AnacondaFiles\\envs\\TFGPU\\lib\\site-packages\\sklearn\\linear_model\\_logistic.py:1483: UserWarning: Setting penalty='none' will ignore the C and l1_ratio parameters\n",
      "  warnings.warn(\n",
      "f:\\Anaconda\\AnacondaFiles\\envs\\TFGPU\\lib\\site-packages\\sklearn\\linear_model\\_logistic.py:1483: UserWarning: Setting penalty='none' will ignore the C and l1_ratio parameters\n",
      "  warnings.warn(\n",
      "f:\\Anaconda\\AnacondaFiles\\envs\\TFGPU\\lib\\site-packages\\sklearn\\linear_model\\_logistic.py:1483: UserWarning: Setting penalty='none' will ignore the C and l1_ratio parameters\n",
      "  warnings.warn(\n",
      "f:\\Anaconda\\AnacondaFiles\\envs\\TFGPU\\lib\\site-packages\\sklearn\\linear_model\\_logistic.py:1483: UserWarning: Setting penalty='none' will ignore the C and l1_ratio parameters\n",
      "  warnings.warn(\n",
      "f:\\Anaconda\\AnacondaFiles\\envs\\TFGPU\\lib\\site-packages\\sklearn\\linear_model\\_logistic.py:1483: UserWarning: Setting penalty='none' will ignore the C and l1_ratio parameters\n",
      "  warnings.warn(\n",
      "f:\\Anaconda\\AnacondaFiles\\envs\\TFGPU\\lib\\site-packages\\sklearn\\linear_model\\_logistic.py:1483: UserWarning: Setting penalty='none' will ignore the C and l1_ratio parameters\n",
      "  warnings.warn(\n",
      "f:\\Anaconda\\AnacondaFiles\\envs\\TFGPU\\lib\\site-packages\\sklearn\\linear_model\\_logistic.py:1483: UserWarning: Setting penalty='none' will ignore the C and l1_ratio parameters\n",
      "  warnings.warn(\n",
      "f:\\Anaconda\\AnacondaFiles\\envs\\TFGPU\\lib\\site-packages\\sklearn\\linear_model\\_logistic.py:1483: UserWarning: Setting penalty='none' will ignore the C and l1_ratio parameters\n",
      "  warnings.warn(\n",
      "f:\\Anaconda\\AnacondaFiles\\envs\\TFGPU\\lib\\site-packages\\sklearn\\linear_model\\_logistic.py:1483: UserWarning: Setting penalty='none' will ignore the C and l1_ratio parameters\n",
      "  warnings.warn(\n",
      "f:\\Anaconda\\AnacondaFiles\\envs\\TFGPU\\lib\\site-packages\\sklearn\\linear_model\\_logistic.py:1483: UserWarning: Setting penalty='none' will ignore the C and l1_ratio parameters\n",
      "  warnings.warn(\n",
      "f:\\Anaconda\\AnacondaFiles\\envs\\TFGPU\\lib\\site-packages\\sklearn\\linear_model\\_logistic.py:1483: UserWarning: Setting penalty='none' will ignore the C and l1_ratio parameters\n",
      "  warnings.warn(\n",
      "f:\\Anaconda\\AnacondaFiles\\envs\\TFGPU\\lib\\site-packages\\sklearn\\linear_model\\_logistic.py:1483: UserWarning: Setting penalty='none' will ignore the C and l1_ratio parameters\n",
      "  warnings.warn(\n",
      "f:\\Anaconda\\AnacondaFiles\\envs\\TFGPU\\lib\\site-packages\\sklearn\\linear_model\\_logistic.py:1483: UserWarning: Setting penalty='none' will ignore the C and l1_ratio parameters\n",
      "  warnings.warn(\n",
      "f:\\Anaconda\\AnacondaFiles\\envs\\TFGPU\\lib\\site-packages\\sklearn\\linear_model\\_logistic.py:1483: UserWarning: Setting penalty='none' will ignore the C and l1_ratio parameters\n",
      "  warnings.warn(\n",
      "f:\\Anaconda\\AnacondaFiles\\envs\\TFGPU\\lib\\site-packages\\sklearn\\linear_model\\_logistic.py:1483: UserWarning: Setting penalty='none' will ignore the C and l1_ratio parameters\n",
      "  warnings.warn(\n",
      "f:\\Anaconda\\AnacondaFiles\\envs\\TFGPU\\lib\\site-packages\\sklearn\\linear_model\\_logistic.py:1483: UserWarning: Setting penalty='none' will ignore the C and l1_ratio parameters\n",
      "  warnings.warn(\n",
      "f:\\Anaconda\\AnacondaFiles\\envs\\TFGPU\\lib\\site-packages\\sklearn\\linear_model\\_logistic.py:1483: UserWarning: Setting penalty='none' will ignore the C and l1_ratio parameters\n",
      "  warnings.warn(\n",
      "f:\\Anaconda\\AnacondaFiles\\envs\\TFGPU\\lib\\site-packages\\sklearn\\linear_model\\_logistic.py:1483: UserWarning: Setting penalty='none' will ignore the C and l1_ratio parameters\n",
      "  warnings.warn(\n",
      "f:\\Anaconda\\AnacondaFiles\\envs\\TFGPU\\lib\\site-packages\\sklearn\\linear_model\\_logistic.py:1483: UserWarning: Setting penalty='none' will ignore the C and l1_ratio parameters\n",
      "  warnings.warn(\n",
      "f:\\Anaconda\\AnacondaFiles\\envs\\TFGPU\\lib\\site-packages\\sklearn\\linear_model\\_logistic.py:1483: UserWarning: Setting penalty='none' will ignore the C and l1_ratio parameters\n",
      "  warnings.warn(\n",
      "f:\\Anaconda\\AnacondaFiles\\envs\\TFGPU\\lib\\site-packages\\sklearn\\linear_model\\_logistic.py:1483: UserWarning: Setting penalty='none' will ignore the C and l1_ratio parameters\n",
      "  warnings.warn(\n",
      "f:\\Anaconda\\AnacondaFiles\\envs\\TFGPU\\lib\\site-packages\\sklearn\\linear_model\\_logistic.py:1483: UserWarning: Setting penalty='none' will ignore the C and l1_ratio parameters\n",
      "  warnings.warn(\n",
      "f:\\Anaconda\\AnacondaFiles\\envs\\TFGPU\\lib\\site-packages\\sklearn\\linear_model\\_logistic.py:1483: UserWarning: Setting penalty='none' will ignore the C and l1_ratio parameters\n",
      "  warnings.warn(\n",
      "f:\\Anaconda\\AnacondaFiles\\envs\\TFGPU\\lib\\site-packages\\sklearn\\linear_model\\_logistic.py:1483: UserWarning: Setting penalty='none' will ignore the C and l1_ratio parameters\n",
      "  warnings.warn(\n",
      "f:\\Anaconda\\AnacondaFiles\\envs\\TFGPU\\lib\\site-packages\\sklearn\\linear_model\\_logistic.py:1483: UserWarning: Setting penalty='none' will ignore the C and l1_ratio parameters\n",
      "  warnings.warn(\n",
      "f:\\Anaconda\\AnacondaFiles\\envs\\TFGPU\\lib\\site-packages\\sklearn\\linear_model\\_logistic.py:1483: UserWarning: Setting penalty='none' will ignore the C and l1_ratio parameters\n",
      "  warnings.warn(\n",
      "f:\\Anaconda\\AnacondaFiles\\envs\\TFGPU\\lib\\site-packages\\sklearn\\linear_model\\_logistic.py:1483: UserWarning: Setting penalty='none' will ignore the C and l1_ratio parameters\n",
      "  warnings.warn(\n",
      "f:\\Anaconda\\AnacondaFiles\\envs\\TFGPU\\lib\\site-packages\\sklearn\\linear_model\\_logistic.py:1483: UserWarning: Setting penalty='none' will ignore the C and l1_ratio parameters\n",
      "  warnings.warn(\n",
      "f:\\Anaconda\\AnacondaFiles\\envs\\TFGPU\\lib\\site-packages\\sklearn\\linear_model\\_logistic.py:1483: UserWarning: Setting penalty='none' will ignore the C and l1_ratio parameters\n",
      "  warnings.warn(\n",
      "f:\\Anaconda\\AnacondaFiles\\envs\\TFGPU\\lib\\site-packages\\sklearn\\linear_model\\_logistic.py:1483: UserWarning: Setting penalty='none' will ignore the C and l1_ratio parameters\n",
      "  warnings.warn(\n",
      "f:\\Anaconda\\AnacondaFiles\\envs\\TFGPU\\lib\\site-packages\\sklearn\\linear_model\\_logistic.py:1483: UserWarning: Setting penalty='none' will ignore the C and l1_ratio parameters\n",
      "  warnings.warn(\n",
      "f:\\Anaconda\\AnacondaFiles\\envs\\TFGPU\\lib\\site-packages\\sklearn\\linear_model\\_logistic.py:1483: UserWarning: Setting penalty='none' will ignore the C and l1_ratio parameters\n",
      "  warnings.warn(\n",
      "f:\\Anaconda\\AnacondaFiles\\envs\\TFGPU\\lib\\site-packages\\sklearn\\linear_model\\_logistic.py:1483: UserWarning: Setting penalty='none' will ignore the C and l1_ratio parameters\n",
      "  warnings.warn(\n",
      "f:\\Anaconda\\AnacondaFiles\\envs\\TFGPU\\lib\\site-packages\\sklearn\\linear_model\\_logistic.py:1483: UserWarning: Setting penalty='none' will ignore the C and l1_ratio parameters\n",
      "  warnings.warn(\n",
      "f:\\Anaconda\\AnacondaFiles\\envs\\TFGPU\\lib\\site-packages\\sklearn\\linear_model\\_logistic.py:1483: UserWarning: Setting penalty='none' will ignore the C and l1_ratio parameters\n",
      "  warnings.warn(\n",
      "f:\\Anaconda\\AnacondaFiles\\envs\\TFGPU\\lib\\site-packages\\sklearn\\linear_model\\_logistic.py:1483: UserWarning: Setting penalty='none' will ignore the C and l1_ratio parameters\n",
      "  warnings.warn(\n",
      "f:\\Anaconda\\AnacondaFiles\\envs\\TFGPU\\lib\\site-packages\\sklearn\\linear_model\\_logistic.py:1483: UserWarning: Setting penalty='none' will ignore the C and l1_ratio parameters\n",
      "  warnings.warn(\n",
      "f:\\Anaconda\\AnacondaFiles\\envs\\TFGPU\\lib\\site-packages\\sklearn\\linear_model\\_logistic.py:1483: UserWarning: Setting penalty='none' will ignore the C and l1_ratio parameters\n",
      "  warnings.warn(\n",
      "f:\\Anaconda\\AnacondaFiles\\envs\\TFGPU\\lib\\site-packages\\sklearn\\linear_model\\_logistic.py:1483: UserWarning: Setting penalty='none' will ignore the C and l1_ratio parameters\n",
      "  warnings.warn(\n",
      "f:\\Anaconda\\AnacondaFiles\\envs\\TFGPU\\lib\\site-packages\\sklearn\\linear_model\\_logistic.py:1483: UserWarning: Setting penalty='none' will ignore the C and l1_ratio parameters\n",
      "  warnings.warn(\n",
      "f:\\Anaconda\\AnacondaFiles\\envs\\TFGPU\\lib\\site-packages\\sklearn\\linear_model\\_logistic.py:1483: UserWarning: Setting penalty='none' will ignore the C and l1_ratio parameters\n",
      "  warnings.warn(\n",
      "f:\\Anaconda\\AnacondaFiles\\envs\\TFGPU\\lib\\site-packages\\sklearn\\linear_model\\_logistic.py:1483: UserWarning: Setting penalty='none' will ignore the C and l1_ratio parameters\n",
      "  warnings.warn(\n",
      "f:\\Anaconda\\AnacondaFiles\\envs\\TFGPU\\lib\\site-packages\\sklearn\\linear_model\\_logistic.py:1483: UserWarning: Setting penalty='none' will ignore the C and l1_ratio parameters\n",
      "  warnings.warn(\n",
      "f:\\Anaconda\\AnacondaFiles\\envs\\TFGPU\\lib\\site-packages\\sklearn\\linear_model\\_logistic.py:1483: UserWarning: Setting penalty='none' will ignore the C and l1_ratio parameters\n",
      "  warnings.warn(\n",
      "f:\\Anaconda\\AnacondaFiles\\envs\\TFGPU\\lib\\site-packages\\sklearn\\linear_model\\_logistic.py:1483: UserWarning: Setting penalty='none' will ignore the C and l1_ratio parameters\n",
      "  warnings.warn(\n",
      "f:\\Anaconda\\AnacondaFiles\\envs\\TFGPU\\lib\\site-packages\\sklearn\\linear_model\\_logistic.py:1483: UserWarning: Setting penalty='none' will ignore the C and l1_ratio parameters\n",
      "  warnings.warn(\n",
      "f:\\Anaconda\\AnacondaFiles\\envs\\TFGPU\\lib\\site-packages\\sklearn\\linear_model\\_logistic.py:1483: UserWarning: Setting penalty='none' will ignore the C and l1_ratio parameters\n",
      "  warnings.warn(\n",
      "f:\\Anaconda\\AnacondaFiles\\envs\\TFGPU\\lib\\site-packages\\sklearn\\linear_model\\_logistic.py:1483: UserWarning: Setting penalty='none' will ignore the C and l1_ratio parameters\n",
      "  warnings.warn(\n",
      "f:\\Anaconda\\AnacondaFiles\\envs\\TFGPU\\lib\\site-packages\\sklearn\\linear_model\\_logistic.py:1483: UserWarning: Setting penalty='none' will ignore the C and l1_ratio parameters\n",
      "  warnings.warn(\n",
      "f:\\Anaconda\\AnacondaFiles\\envs\\TFGPU\\lib\\site-packages\\sklearn\\linear_model\\_logistic.py:1483: UserWarning: Setting penalty='none' will ignore the C and l1_ratio parameters\n",
      "  warnings.warn(\n",
      "f:\\Anaconda\\AnacondaFiles\\envs\\TFGPU\\lib\\site-packages\\sklearn\\linear_model\\_logistic.py:1483: UserWarning: Setting penalty='none' will ignore the C and l1_ratio parameters\n",
      "  warnings.warn(\n",
      "f:\\Anaconda\\AnacondaFiles\\envs\\TFGPU\\lib\\site-packages\\sklearn\\linear_model\\_logistic.py:1483: UserWarning: Setting penalty='none' will ignore the C and l1_ratio parameters\n",
      "  warnings.warn(\n",
      "f:\\Anaconda\\AnacondaFiles\\envs\\TFGPU\\lib\\site-packages\\sklearn\\linear_model\\_logistic.py:1483: UserWarning: Setting penalty='none' will ignore the C and l1_ratio parameters\n",
      "  warnings.warn(\n",
      "f:\\Anaconda\\AnacondaFiles\\envs\\TFGPU\\lib\\site-packages\\sklearn\\linear_model\\_logistic.py:1483: UserWarning: Setting penalty='none' will ignore the C and l1_ratio parameters\n",
      "  warnings.warn(\n",
      "f:\\Anaconda\\AnacondaFiles\\envs\\TFGPU\\lib\\site-packages\\sklearn\\linear_model\\_logistic.py:1483: UserWarning: Setting penalty='none' will ignore the C and l1_ratio parameters\n",
      "  warnings.warn(\n",
      "f:\\Anaconda\\AnacondaFiles\\envs\\TFGPU\\lib\\site-packages\\sklearn\\linear_model\\_logistic.py:1483: UserWarning: Setting penalty='none' will ignore the C and l1_ratio parameters\n",
      "  warnings.warn(\n",
      "f:\\Anaconda\\AnacondaFiles\\envs\\TFGPU\\lib\\site-packages\\sklearn\\linear_model\\_logistic.py:1483: UserWarning: Setting penalty='none' will ignore the C and l1_ratio parameters\n",
      "  warnings.warn(\n",
      "f:\\Anaconda\\AnacondaFiles\\envs\\TFGPU\\lib\\site-packages\\sklearn\\linear_model\\_logistic.py:1483: UserWarning: Setting penalty='none' will ignore the C and l1_ratio parameters\n",
      "  warnings.warn(\n",
      "f:\\Anaconda\\AnacondaFiles\\envs\\TFGPU\\lib\\site-packages\\sklearn\\linear_model\\_logistic.py:1483: UserWarning: Setting penalty='none' will ignore the C and l1_ratio parameters\n",
      "  warnings.warn(\n",
      "f:\\Anaconda\\AnacondaFiles\\envs\\TFGPU\\lib\\site-packages\\sklearn\\linear_model\\_logistic.py:1483: UserWarning: Setting penalty='none' will ignore the C and l1_ratio parameters\n",
      "  warnings.warn(\n",
      "f:\\Anaconda\\AnacondaFiles\\envs\\TFGPU\\lib\\site-packages\\sklearn\\linear_model\\_logistic.py:1483: UserWarning: Setting penalty='none' will ignore the C and l1_ratio parameters\n",
      "  warnings.warn(\n",
      "f:\\Anaconda\\AnacondaFiles\\envs\\TFGPU\\lib\\site-packages\\sklearn\\linear_model\\_logistic.py:1483: UserWarning: Setting penalty='none' will ignore the C and l1_ratio parameters\n",
      "  warnings.warn(\n",
      "f:\\Anaconda\\AnacondaFiles\\envs\\TFGPU\\lib\\site-packages\\sklearn\\linear_model\\_logistic.py:1483: UserWarning: Setting penalty='none' will ignore the C and l1_ratio parameters\n",
      "  warnings.warn(\n",
      "f:\\Anaconda\\AnacondaFiles\\envs\\TFGPU\\lib\\site-packages\\sklearn\\linear_model\\_logistic.py:1483: UserWarning: Setting penalty='none' will ignore the C and l1_ratio parameters\n",
      "  warnings.warn(\n",
      "f:\\Anaconda\\AnacondaFiles\\envs\\TFGPU\\lib\\site-packages\\sklearn\\linear_model\\_logistic.py:1483: UserWarning: Setting penalty='none' will ignore the C and l1_ratio parameters\n",
      "  warnings.warn(\n",
      "f:\\Anaconda\\AnacondaFiles\\envs\\TFGPU\\lib\\site-packages\\sklearn\\linear_model\\_logistic.py:1483: UserWarning: Setting penalty='none' will ignore the C and l1_ratio parameters\n",
      "  warnings.warn(\n",
      "f:\\Anaconda\\AnacondaFiles\\envs\\TFGPU\\lib\\site-packages\\sklearn\\linear_model\\_logistic.py:1483: UserWarning: Setting penalty='none' will ignore the C and l1_ratio parameters\n",
      "  warnings.warn(\n",
      "f:\\Anaconda\\AnacondaFiles\\envs\\TFGPU\\lib\\site-packages\\sklearn\\linear_model\\_logistic.py:1483: UserWarning: Setting penalty='none' will ignore the C and l1_ratio parameters\n",
      "  warnings.warn(\n",
      "f:\\Anaconda\\AnacondaFiles\\envs\\TFGPU\\lib\\site-packages\\sklearn\\linear_model\\_logistic.py:1483: UserWarning: Setting penalty='none' will ignore the C and l1_ratio parameters\n",
      "  warnings.warn(\n",
      "f:\\Anaconda\\AnacondaFiles\\envs\\TFGPU\\lib\\site-packages\\sklearn\\linear_model\\_logistic.py:1483: UserWarning: Setting penalty='none' will ignore the C and l1_ratio parameters\n",
      "  warnings.warn(\n",
      "f:\\Anaconda\\AnacondaFiles\\envs\\TFGPU\\lib\\site-packages\\sklearn\\linear_model\\_logistic.py:1483: UserWarning: Setting penalty='none' will ignore the C and l1_ratio parameters\n",
      "  warnings.warn(\n",
      "f:\\Anaconda\\AnacondaFiles\\envs\\TFGPU\\lib\\site-packages\\sklearn\\linear_model\\_logistic.py:1483: UserWarning: Setting penalty='none' will ignore the C and l1_ratio parameters\n",
      "  warnings.warn(\n",
      "f:\\Anaconda\\AnacondaFiles\\envs\\TFGPU\\lib\\site-packages\\sklearn\\linear_model\\_logistic.py:1483: UserWarning: Setting penalty='none' will ignore the C and l1_ratio parameters\n",
      "  warnings.warn(\n",
      "f:\\Anaconda\\AnacondaFiles\\envs\\TFGPU\\lib\\site-packages\\sklearn\\linear_model\\_logistic.py:1483: UserWarning: Setting penalty='none' will ignore the C and l1_ratio parameters\n",
      "  warnings.warn(\n",
      "f:\\Anaconda\\AnacondaFiles\\envs\\TFGPU\\lib\\site-packages\\sklearn\\linear_model\\_logistic.py:1483: UserWarning: Setting penalty='none' will ignore the C and l1_ratio parameters\n",
      "  warnings.warn(\n",
      "f:\\Anaconda\\AnacondaFiles\\envs\\TFGPU\\lib\\site-packages\\sklearn\\linear_model\\_logistic.py:1483: UserWarning: Setting penalty='none' will ignore the C and l1_ratio parameters\n",
      "  warnings.warn(\n",
      "f:\\Anaconda\\AnacondaFiles\\envs\\TFGPU\\lib\\site-packages\\sklearn\\linear_model\\_logistic.py:1483: UserWarning: Setting penalty='none' will ignore the C and l1_ratio parameters\n",
      "  warnings.warn(\n",
      "f:\\Anaconda\\AnacondaFiles\\envs\\TFGPU\\lib\\site-packages\\sklearn\\linear_model\\_logistic.py:1483: UserWarning: Setting penalty='none' will ignore the C and l1_ratio parameters\n",
      "  warnings.warn(\n",
      "f:\\Anaconda\\AnacondaFiles\\envs\\TFGPU\\lib\\site-packages\\sklearn\\linear_model\\_logistic.py:1483: UserWarning: Setting penalty='none' will ignore the C and l1_ratio parameters\n",
      "  warnings.warn(\n",
      "f:\\Anaconda\\AnacondaFiles\\envs\\TFGPU\\lib\\site-packages\\sklearn\\linear_model\\_logistic.py:1483: UserWarning: Setting penalty='none' will ignore the C and l1_ratio parameters\n",
      "  warnings.warn(\n",
      "f:\\Anaconda\\AnacondaFiles\\envs\\TFGPU\\lib\\site-packages\\sklearn\\linear_model\\_logistic.py:1483: UserWarning: Setting penalty='none' will ignore the C and l1_ratio parameters\n",
      "  warnings.warn(\n",
      "f:\\Anaconda\\AnacondaFiles\\envs\\TFGPU\\lib\\site-packages\\sklearn\\linear_model\\_logistic.py:1483: UserWarning: Setting penalty='none' will ignore the C and l1_ratio parameters\n",
      "  warnings.warn(\n",
      "f:\\Anaconda\\AnacondaFiles\\envs\\TFGPU\\lib\\site-packages\\sklearn\\linear_model\\_logistic.py:1483: UserWarning: Setting penalty='none' will ignore the C and l1_ratio parameters\n",
      "  warnings.warn(\n",
      "f:\\Anaconda\\AnacondaFiles\\envs\\TFGPU\\lib\\site-packages\\sklearn\\linear_model\\_logistic.py:1483: UserWarning: Setting penalty='none' will ignore the C and l1_ratio parameters\n",
      "  warnings.warn(\n",
      "f:\\Anaconda\\AnacondaFiles\\envs\\TFGPU\\lib\\site-packages\\sklearn\\linear_model\\_logistic.py:1483: UserWarning: Setting penalty='none' will ignore the C and l1_ratio parameters\n",
      "  warnings.warn(\n",
      "f:\\Anaconda\\AnacondaFiles\\envs\\TFGPU\\lib\\site-packages\\sklearn\\linear_model\\_logistic.py:1483: UserWarning: Setting penalty='none' will ignore the C and l1_ratio parameters\n",
      "  warnings.warn(\n",
      "f:\\Anaconda\\AnacondaFiles\\envs\\TFGPU\\lib\\site-packages\\sklearn\\linear_model\\_logistic.py:1483: UserWarning: Setting penalty='none' will ignore the C and l1_ratio parameters\n",
      "  warnings.warn(\n",
      "f:\\Anaconda\\AnacondaFiles\\envs\\TFGPU\\lib\\site-packages\\sklearn\\model_selection\\_validation.py:372: FitFailedWarning: \n",
      "200 fits failed out of a total of 400.\n",
      "The score on these train-test partitions for these parameters will be set to nan.\n",
      "If these failures are not expected, you can try to debug them by setting error_score='raise'.\n",
      "\n",
      "Below are more details about the failures:\n",
      "--------------------------------------------------------------------------------\n",
      "100 fits failed with the following error:\n",
      "Traceback (most recent call last):\n",
      "  File \"f:\\Anaconda\\AnacondaFiles\\envs\\TFGPU\\lib\\site-packages\\sklearn\\model_selection\\_validation.py\", line 680, in _fit_and_score\n",
      "    estimator.fit(X_train, y_train, **fit_params)\n",
      "  File \"f:\\Anaconda\\AnacondaFiles\\envs\\TFGPU\\lib\\site-packages\\sklearn\\pipeline.py\", line 394, in fit\n",
      "    self._final_estimator.fit(Xt, y, **fit_params_last_step)\n",
      "  File \"f:\\Anaconda\\AnacondaFiles\\envs\\TFGPU\\lib\\site-packages\\sklearn\\linear_model\\_logistic.py\", line 1461, in fit\n",
      "    solver = _check_solver(self.solver, self.penalty, self.dual)\n",
      "  File \"f:\\Anaconda\\AnacondaFiles\\envs\\TFGPU\\lib\\site-packages\\sklearn\\linear_model\\_logistic.py\", line 447, in _check_solver\n",
      "    raise ValueError(\n",
      "ValueError: Solver lbfgs supports only 'l2' or 'none' penalties, got l1 penalty.\n",
      "\n",
      "--------------------------------------------------------------------------------\n",
      "100 fits failed with the following error:\n",
      "Traceback (most recent call last):\n",
      "  File \"f:\\Anaconda\\AnacondaFiles\\envs\\TFGPU\\lib\\site-packages\\sklearn\\model_selection\\_validation.py\", line 680, in _fit_and_score\n",
      "    estimator.fit(X_train, y_train, **fit_params)\n",
      "  File \"f:\\Anaconda\\AnacondaFiles\\envs\\TFGPU\\lib\\site-packages\\sklearn\\pipeline.py\", line 394, in fit\n",
      "    self._final_estimator.fit(Xt, y, **fit_params_last_step)\n",
      "  File \"f:\\Anaconda\\AnacondaFiles\\envs\\TFGPU\\lib\\site-packages\\sklearn\\linear_model\\_logistic.py\", line 1461, in fit\n",
      "    solver = _check_solver(self.solver, self.penalty, self.dual)\n",
      "  File \"f:\\Anaconda\\AnacondaFiles\\envs\\TFGPU\\lib\\site-packages\\sklearn\\linear_model\\_logistic.py\", line 447, in _check_solver\n",
      "    raise ValueError(\n",
      "ValueError: Solver lbfgs supports only 'l2' or 'none' penalties, got elasticnet penalty.\n",
      "\n",
      "  warnings.warn(some_fits_failed_message, FitFailedWarning)\n",
      "f:\\Anaconda\\AnacondaFiles\\envs\\TFGPU\\lib\\site-packages\\sklearn\\model_selection\\_search.py:969: UserWarning: One or more of the test scores are non-finite: [       nan 0.50222222        nan 0.51888889        nan 0.50222222\n",
      "        nan 0.51888889        nan 0.50277778        nan 0.51888889\n",
      "        nan 0.50444444        nan 0.51888889        nan 0.50166667\n",
      "        nan 0.51888889        nan 0.50666667        nan 0.51888889\n",
      "        nan 0.51444444        nan 0.51888889        nan 0.51833333\n",
      "        nan 0.51888889        nan 0.51888889        nan 0.51888889\n",
      "        nan 0.51888889        nan 0.51888889]\n",
      "  warnings.warn(\n",
      "f:\\Anaconda\\AnacondaFiles\\envs\\TFGPU\\lib\\site-packages\\sklearn\\linear_model\\_logistic.py:1483: UserWarning: Setting penalty='none' will ignore the C and l1_ratio parameters\n",
      "  warnings.warn(\n"
     ]
    },
    {
     "data": {
      "text/plain": [
       "{'classifier__C': 1e-05, 'classifier__penalty': 'none'}"
      ]
     },
     "execution_count": 32,
     "metadata": {},
     "output_type": "execute_result"
    }
   ],
   "source": [
    "pipe = Pipeline([\n",
    "    ('preprocessing', preprocess_pipeline), \n",
    "    ('classifier', LogisticRegression(max_iter=10000))])\n",
    "\n",
    "param_grid = {\n",
    "            'classifier__C': [0.00001, 0.0001, 0.001, 0.01, 0.1, 1, 10, 100, 1000, 10000],\n",
    "            'classifier__penalty': ['l1', 'l2', 'elasticnet', 'none'],\n",
    "}\n",
    "grid_logistic = GridSearchCV(pipe, param_grid, cv=kfold, scoring=\"accuracy\")\n",
    "grid_logistic.fit(X_train, y_train)\n",
    "grid_logistic.best_params_"
   ]
  },
  {
   "cell_type": "code",
   "execution_count": 33,
   "metadata": {},
   "outputs": [
    {
     "name": "stderr",
     "output_type": "stream",
     "text": [
      "f:\\Anaconda\\AnacondaFiles\\envs\\TFGPU\\lib\\site-packages\\sklearn\\model_selection\\_validation.py:372: FitFailedWarning: \n",
      "10 fits failed out of a total of 60.\n",
      "The score on these train-test partitions for these parameters will be set to nan.\n",
      "If these failures are not expected, you can try to debug them by setting error_score='raise'.\n",
      "\n",
      "Below are more details about the failures:\n",
      "--------------------------------------------------------------------------------\n",
      "10 fits failed with the following error:\n",
      "Traceback (most recent call last):\n",
      "  File \"f:\\Anaconda\\AnacondaFiles\\envs\\TFGPU\\lib\\site-packages\\sklearn\\model_selection\\_validation.py\", line 680, in _fit_and_score\n",
      "    estimator.fit(X_train, y_train, **fit_params)\n",
      "  File \"f:\\Anaconda\\AnacondaFiles\\envs\\TFGPU\\lib\\site-packages\\sklearn\\pipeline.py\", line 394, in fit\n",
      "    self._final_estimator.fit(Xt, y, **fit_params_last_step)\n",
      "  File \"f:\\Anaconda\\AnacondaFiles\\envs\\TFGPU\\lib\\site-packages\\sklearn\\neighbors\\_classification.py\", line 198, in fit\n",
      "    return self._fit(X, y)\n",
      "  File \"f:\\Anaconda\\AnacondaFiles\\envs\\TFGPU\\lib\\site-packages\\sklearn\\neighbors\\_base.py\", line 437, in _fit\n",
      "    self._check_algorithm_metric()\n",
      "  File \"f:\\Anaconda\\AnacondaFiles\\envs\\TFGPU\\lib\\site-packages\\sklearn\\neighbors\\_base.py\", line 395, in _check_algorithm_metric\n",
      "    raise ValueError(\"p must be greater or equal to one for minkowski metric\")\n",
      "ValueError: p must be greater or equal to one for minkowski metric\n",
      "\n",
      "  warnings.warn(some_fits_failed_message, FitFailedWarning)\n",
      "f:\\Anaconda\\AnacondaFiles\\envs\\TFGPU\\lib\\site-packages\\sklearn\\model_selection\\_search.py:969: UserWarning: One or more of the test scores are non-finite: [       nan 0.50666667 0.49777778 0.49777778 0.51722222 0.49944444]\n",
      "  warnings.warn(\n"
     ]
    },
    {
     "data": {
      "text/plain": [
       "{'classifier__p': 1000}"
      ]
     },
     "execution_count": 33,
     "metadata": {},
     "output_type": "execute_result"
    }
   ],
   "source": [
    "pipe = Pipeline([\n",
    "    ('preprocessing', preprocess_pipeline), \n",
    "    ('classifier', KNeighborsClassifier(n_jobs=-1))])\n",
    "\n",
    "param_grid = {\n",
    "            'classifier__p': [0.5, 1, 10, 100, 1000, 10000]\n",
    "}\n",
    "\n",
    "grid_kneighbors = GridSearchCV(pipe, param_grid, cv=kfold, scoring=\"accuracy\")\n",
    "\n",
    "grid_kneighbors.fit(X_train, y_train)\n",
    "grid_kneighbors.best_params_"
   ]
  },
  {
   "cell_type": "code",
   "execution_count": 34,
   "metadata": {},
   "outputs": [
    {
     "data": {
      "text/plain": [
       "{'classifier__max_depth': 20, 'classifier__max_leaf_nodes': None}"
      ]
     },
     "execution_count": 34,
     "metadata": {},
     "output_type": "execute_result"
    }
   ],
   "source": [
    "pipe = Pipeline([\n",
    "    ('preprocessing', preprocess_pipeline), \n",
    "    ('classifier', DecisionTreeClassifier())])\n",
    "\n",
    "param_grid = {\n",
    "            'classifier__max_depth': [1, 5, 10, 20],\n",
    "            'classifier__max_leaf_nodes': [None, 5, 10, 20, 50, 100],\n",
    "}\n",
    "\n",
    "grid_decisiontree = GridSearchCV(pipe, param_grid, cv=kfold, scoring=\"accuracy\")\n",
    "\n",
    "grid_decisiontree.fit(X_train, y_train)\n",
    "grid_decisiontree.best_params_"
   ]
  },
  {
   "cell_type": "code",
   "execution_count": 35,
   "metadata": {},
   "outputs": [
    {
     "data": {
      "text/plain": [
       "{'classifier__max_leaf_nodes': 64, 'classifier__n_estimators': 250}"
      ]
     },
     "execution_count": 35,
     "metadata": {},
     "output_type": "execute_result"
    }
   ],
   "source": [
    "pipe = Pipeline([\n",
    "    ('preprocessing', preprocess_pipeline), \n",
    "    ('classifier', RandomForestClassifier(n_jobs=-1))])\n",
    "\n",
    "param_grid = {\n",
    "            'classifier__n_estimators' : [1, 3, 5, 10, 50, 100, 250],\n",
    "            'classifier__max_leaf_nodes' : [2, 4, 8, 16, 32, 64],\n",
    "}\n",
    "\n",
    "grid_randomforest = GridSearchCV(pipe, param_grid, cv=kfold, scoring=\"accuracy\")\n",
    "\n",
    "grid_randomforest.fit(X_train, y_train)\n",
    "grid_randomforest.best_params_"
   ]
  },
  {
   "cell_type": "code",
   "execution_count": 36,
   "metadata": {},
   "outputs": [
    {
     "data": {
      "text/plain": [
       "{'classifier__max_samples': 0.5, 'preprocessing': None}"
      ]
     },
     "execution_count": 36,
     "metadata": {},
     "output_type": "execute_result"
    }
   ],
   "source": [
    "pipe = Pipeline([\n",
    "    ('preprocessing', preprocess_pipeline), \n",
    "    ('classifier', BaggingClassifier())])\n",
    "\n",
    "param_grid = {\n",
    "            'preprocessing': [StandardScaler(), None],\n",
    "            'classifier__max_samples' : [0.05, 0.1, 0.2, 0.5, 0.7, 1, 2]\n",
    "}\n",
    "\n",
    "grid_bagging = GridSearchCV(pipe, param_grid, cv=kfold)\n",
    "\n",
    "grid_bagging.fit(X_train, y_train)\n",
    "grid_bagging.best_params_"
   ]
  },
  {
   "cell_type": "code",
   "execution_count": 37,
   "metadata": {},
   "outputs": [
    {
     "data": {
      "text/plain": [
       "{'classifier__learning_rate': 0.01, 'classifier__n_estimators': 50}"
      ]
     },
     "execution_count": 37,
     "metadata": {},
     "output_type": "execute_result"
    }
   ],
   "source": [
    "pipe = Pipeline([\n",
    "    ('preprocessing', preprocess_pipeline), \n",
    "    ('classifier', GradientBoostingClassifier())])\n",
    "\n",
    "param_grid = {\n",
    "            'classifier__n_estimators' : [5, 10, 50, 100, 500],\n",
    "            'classifier__learning_rate' : [0.001, 0.01, 0.1, 0.5, 0.7, 1],\n",
    "}\n",
    "\n",
    "grid_gradient = GridSearchCV(pipe, param_grid, cv=kfold, scoring=\"accuracy\")\n",
    "\n",
    "grid_gradient.fit(X_train, y_train)\n",
    "grid_gradient.best_params_"
   ]
  },
  {
   "cell_type": "code",
   "execution_count": 38,
   "metadata": {},
   "outputs": [
    {
     "data": {
      "text/plain": [
       "{'classifier__learning_rate': 0.1, 'classifier__n_estimators': 10}"
      ]
     },
     "execution_count": 38,
     "metadata": {},
     "output_type": "execute_result"
    }
   ],
   "source": [
    "pipe = Pipeline([\n",
    "    ('preprocessing', preprocess_pipeline),\n",
    "    ('classifier', AdaBoostClassifier())])\n",
    "\n",
    "param_grid = {\n",
    "            'classifier__n_estimators' : [5, 10, 50, 100, 500, 600, 700],\n",
    "            'classifier__learning_rate' : [0.001, 0.01, 0.1, 0.5, 0.7, 1],\n",
    "}\n",
    "\n",
    "grid_ada = GridSearchCV(pipe, param_grid, cv=kfold, scoring=\"accuracy\")\n",
    "\n",
    "grid_ada.fit(X_train, y_train)\n",
    "grid_ada.best_params_"
   ]
  },
  {
   "cell_type": "code",
   "execution_count": 39,
   "metadata": {},
   "outputs": [
    {
     "name": "stderr",
     "output_type": "stream",
     "text": [
      "f:\\Anaconda\\AnacondaFiles\\envs\\TFGPU\\lib\\site-packages\\sklearn\\svm\\_base.py:1206: ConvergenceWarning: Liblinear failed to converge, increase the number of iterations.\n",
      "  warnings.warn(\n",
      "f:\\Anaconda\\AnacondaFiles\\envs\\TFGPU\\lib\\site-packages\\sklearn\\linear_model\\_logistic.py:1483: UserWarning: Setting penalty='none' will ignore the C and l1_ratio parameters\n",
      "  warnings.warn(\n"
     ]
    },
    {
     "name": "stdout",
     "output_type": "stream",
     "text": [
      "LinearSVC\n",
      "precision_score: 0.45689655172413796\n",
      "recall_score: 0.5520833333333334\n",
      "f1_score: 0.5\n",
      "accuracy_score: 0.47\n",
      "SVM rbf\n",
      "precision_score: 0.5229357798165137\n",
      "recall_score: 0.59375\n",
      "f1_score: 0.5560975609756098\n",
      "accuracy_score: 0.545\n",
      "SVM poly\n",
      "precision_score: 0.5178571428571429\n",
      "recall_score: 0.6041666666666666\n",
      "f1_score: 0.5576923076923077\n",
      "accuracy_score: 0.54\n",
      "Logistic regression\n",
      "precision_score: 0.45614035087719296\n",
      "recall_score: 0.5416666666666666\n",
      "f1_score: 0.4952380952380952\n",
      "accuracy_score: 0.47\n",
      "KNeighbors\n",
      "precision_score: 0.4732824427480916\n",
      "recall_score: 0.6458333333333334\n",
      "f1_score: 0.5462555066079295\n",
      "accuracy_score: 0.485\n",
      "Decision Tree\n",
      "precision_score: 0.4838709677419355\n",
      "recall_score: 0.46875\n",
      "f1_score: 0.47619047619047616\n",
      "accuracy_score: 0.505\n",
      "Random Forest\n",
      "precision_score: 0.550561797752809\n",
      "recall_score: 0.5104166666666666\n",
      "f1_score: 0.5297297297297298\n",
      "accuracy_score: 0.565\n",
      "Bagging\n",
      "precision_score: 0.5714285714285714\n",
      "recall_score: 0.375\n",
      "f1_score: 0.4528301886792453\n",
      "accuracy_score: 0.565\n",
      "Gradient\n",
      "precision_score: 0.5181818181818182\n",
      "recall_score: 0.59375\n",
      "f1_score: 0.5533980582524273\n",
      "accuracy_score: 0.54\n",
      "Ada Boost\n",
      "precision_score: 0.5\n",
      "recall_score: 0.4791666666666667\n",
      "f1_score: 0.48936170212765956\n",
      "accuracy_score: 0.52\n",
      "Voting classifier\n",
      "precision_score: 0.5208333333333334\n",
      "recall_score: 0.5208333333333334\n",
      "f1_score: 0.5208333333333334\n",
      "accuracy_score: 0.54\n"
     ]
    }
   ],
   "source": [
    "from sklearn import metrics\n",
    "from sklearn.model_selection import RandomizedSearchCV\n",
    "from sklearn import preprocessing\n",
    "from sklearn.metrics import confusion_matrix\n",
    "\n",
    "models = []\n",
    "models.append(('LinearSVC', grid_linearSVC.best_estimator_))\n",
    "models.append(('SVM rbf', grid_rbf.best_estimator_))\n",
    "models.append(('SVM poly', grid_poly.best_estimator_))\n",
    "models.append(('Logistic regression', grid_logistic.best_estimator_))\n",
    "models.append(('KNeighbors', grid_kneighbors.best_estimator_))\n",
    "models.append(('Decision Tree', grid_decisiontree.best_estimator_))\n",
    "models.append(('Random Forest', grid_randomforest.best_estimator_))\n",
    "models.append(('Bagging', grid_bagging.best_estimator_))\n",
    "models.append(('Gradient', grid_gradient.best_estimator_))\n",
    "models.append(('Ada Boost', grid_ada.best_estimator_))\n",
    "\n",
    "\n",
    "vc = VotingClassifier(models)\n",
    "vc.fit(X_train, y_train)\n",
    "\n",
    "models.append(('Voting classifier', vc))\n",
    "\n",
    "precision_score = []\n",
    "recall_score = []\n",
    "f1_score = []\n",
    "accuracy_score = []\n",
    "for name, model in models:\n",
    "    print(name)\n",
    "    print(\"precision_score: {}\".format(metrics.precision_score(y_test, model.predict(X_test))))\n",
    "    print(\"recall_score: {}\".format( metrics.recall_score(y_test, model.predict(X_test))))\n",
    "    print(\"f1_score: {}\".format( metrics.f1_score(y_test, model.predict(X_test))))\n",
    "    print(\"accuracy_score: {}\".format( metrics.accuracy_score(y_test, model.predict(X_test))))\n",
    "    precision_score.append(metrics.precision_score(y_test, model.predict(X_test)))\n",
    "    recall_score.append(metrics.recall_score(y_test, model.predict(X_test)))\n",
    "    f1_score.append( metrics.f1_score(y_test, model.predict(X_test)))\n",
    "    accuracy_score.append(metrics.accuracy_score(y_test, model.predict(X_test)))"
   ]
  },
  {
   "cell_type": "code",
   "execution_count": 40,
   "metadata": {},
   "outputs": [
    {
     "data": {
      "text/html": [
       "<div>\n",
       "<style scoped>\n",
       "    .dataframe tbody tr th:only-of-type {\n",
       "        vertical-align: middle;\n",
       "    }\n",
       "\n",
       "    .dataframe tbody tr th {\n",
       "        vertical-align: top;\n",
       "    }\n",
       "\n",
       "    .dataframe thead th {\n",
       "        text-align: right;\n",
       "    }\n",
       "</style>\n",
       "<table border=\"1\" class=\"dataframe\">\n",
       "  <thead>\n",
       "    <tr style=\"text-align: right;\">\n",
       "      <th></th>\n",
       "      <th>Run</th>\n",
       "      <th>Event</th>\n",
       "      <th>E1</th>\n",
       "      <th>px1</th>\n",
       "      <th>py1</th>\n",
       "      <th>pz1</th>\n",
       "      <th>pt1</th>\n",
       "      <th>eta1</th>\n",
       "      <th>phi1</th>\n",
       "      <th>Q1</th>\n",
       "      <th>E2</th>\n",
       "      <th>px2</th>\n",
       "      <th>py2</th>\n",
       "      <th>pz2</th>\n",
       "      <th>pt2</th>\n",
       "      <th>eta2</th>\n",
       "      <th>phi2</th>\n",
       "      <th>M</th>\n",
       "    </tr>\n",
       "  </thead>\n",
       "  <tbody>\n",
       "    <tr>\n",
       "      <th>1596</th>\n",
       "      <td>147115</td>\n",
       "      <td>372920356</td>\n",
       "      <td>1.59566</td>\n",
       "      <td>-0.363551</td>\n",
       "      <td>-1.359100</td>\n",
       "      <td>0.752859</td>\n",
       "      <td>1.40689</td>\n",
       "      <td>0.512406</td>\n",
       "      <td>-1.832170</td>\n",
       "      <td>1.0</td>\n",
       "      <td>44.81100</td>\n",
       "      <td>9.766910</td>\n",
       "      <td>-9.78833</td>\n",
       "      <td>-42.624200</td>\n",
       "      <td>13.82770</td>\n",
       "      <td>-1.844230</td>\n",
       "      <td>-0.786494</td>\n",
       "      <td>13.69970</td>\n",
       "    </tr>\n",
       "    <tr>\n",
       "      <th>848</th>\n",
       "      <td>147115</td>\n",
       "      <td>245807604</td>\n",
       "      <td>74.96800</td>\n",
       "      <td>18.515700</td>\n",
       "      <td>30.880300</td>\n",
       "      <td>65.755400</td>\n",
       "      <td>36.00590</td>\n",
       "      <td>1.363110</td>\n",
       "      <td>1.030680</td>\n",
       "      <td>-1.0</td>\n",
       "      <td>121.34100</td>\n",
       "      <td>-24.302300</td>\n",
       "      <td>-41.28930</td>\n",
       "      <td>111.482000</td>\n",
       "      <td>47.91040</td>\n",
       "      <td>1.580940</td>\n",
       "      <td>-2.102780</td>\n",
       "      <td>83.56010</td>\n",
       "    </tr>\n",
       "    <tr>\n",
       "      <th>107</th>\n",
       "      <td>147115</td>\n",
       "      <td>484142731</td>\n",
       "      <td>16.19880</td>\n",
       "      <td>-13.442300</td>\n",
       "      <td>-5.704310</td>\n",
       "      <td>-7.011930</td>\n",
       "      <td>14.60260</td>\n",
       "      <td>-0.463418</td>\n",
       "      <td>-2.740270</td>\n",
       "      <td>-1.0</td>\n",
       "      <td>16.92300</td>\n",
       "      <td>2.513450</td>\n",
       "      <td>4.09394</td>\n",
       "      <td>-16.226900</td>\n",
       "      <td>4.80393</td>\n",
       "      <td>-1.931610</td>\n",
       "      <td>1.020190</td>\n",
       "      <td>20.85630</td>\n",
       "    </tr>\n",
       "    <tr>\n",
       "      <th>903</th>\n",
       "      <td>147115</td>\n",
       "      <td>125488193</td>\n",
       "      <td>73.43120</td>\n",
       "      <td>11.118400</td>\n",
       "      <td>-8.927680</td>\n",
       "      <td>-72.033400</td>\n",
       "      <td>14.25910</td>\n",
       "      <td>-2.322530</td>\n",
       "      <td>-0.676544</td>\n",
       "      <td>1.0</td>\n",
       "      <td>2.88833</td>\n",
       "      <td>-1.948230</td>\n",
       "      <td>0.29983</td>\n",
       "      <td>-2.111160</td>\n",
       "      <td>1.97116</td>\n",
       "      <td>-0.930713</td>\n",
       "      <td>2.988890</td>\n",
       "      <td>12.98910</td>\n",
       "    </tr>\n",
       "    <tr>\n",
       "      <th>1671</th>\n",
       "      <td>147115</td>\n",
       "      <td>484875897</td>\n",
       "      <td>38.61990</td>\n",
       "      <td>21.052500</td>\n",
       "      <td>-9.437700</td>\n",
       "      <td>30.971200</td>\n",
       "      <td>23.07120</td>\n",
       "      <td>1.104050</td>\n",
       "      <td>-0.421434</td>\n",
       "      <td>1.0</td>\n",
       "      <td>5.22977</td>\n",
       "      <td>0.901158</td>\n",
       "      <td>3.65716</td>\n",
       "      <td>3.628170</td>\n",
       "      <td>3.76655</td>\n",
       "      <td>0.855154</td>\n",
       "      <td>1.329200</td>\n",
       "      <td>14.50160</td>\n",
       "    </tr>\n",
       "    <tr>\n",
       "      <th>...</th>\n",
       "      <td>...</td>\n",
       "      <td>...</td>\n",
       "      <td>...</td>\n",
       "      <td>...</td>\n",
       "      <td>...</td>\n",
       "      <td>...</td>\n",
       "      <td>...</td>\n",
       "      <td>...</td>\n",
       "      <td>...</td>\n",
       "      <td>...</td>\n",
       "      <td>...</td>\n",
       "      <td>...</td>\n",
       "      <td>...</td>\n",
       "      <td>...</td>\n",
       "      <td>...</td>\n",
       "      <td>...</td>\n",
       "      <td>...</td>\n",
       "      <td>...</td>\n",
       "    </tr>\n",
       "    <tr>\n",
       "      <th>1746</th>\n",
       "      <td>147115</td>\n",
       "      <td>291121236</td>\n",
       "      <td>9.09754</td>\n",
       "      <td>2.074020</td>\n",
       "      <td>0.673588</td>\n",
       "      <td>-8.832330</td>\n",
       "      <td>2.18066</td>\n",
       "      <td>-2.106840</td>\n",
       "      <td>0.314028</td>\n",
       "      <td>1.0</td>\n",
       "      <td>80.82040</td>\n",
       "      <td>19.243400</td>\n",
       "      <td>-16.02140</td>\n",
       "      <td>-76.843600</td>\n",
       "      <td>25.03980</td>\n",
       "      <td>-1.840000</td>\n",
       "      <td>-0.694284</td>\n",
       "      <td>7.40806</td>\n",
       "    </tr>\n",
       "    <tr>\n",
       "      <th>399</th>\n",
       "      <td>147115</td>\n",
       "      <td>394435047</td>\n",
       "      <td>22.83460</td>\n",
       "      <td>8.936470</td>\n",
       "      <td>-9.573450</td>\n",
       "      <td>18.705800</td>\n",
       "      <td>13.09620</td>\n",
       "      <td>1.154340</td>\n",
       "      <td>-0.819797</td>\n",
       "      <td>-1.0</td>\n",
       "      <td>71.48920</td>\n",
       "      <td>11.619000</td>\n",
       "      <td>-5.19622</td>\n",
       "      <td>70.347000</td>\n",
       "      <td>12.72800</td>\n",
       "      <td>2.410870</td>\n",
       "      <td>-0.420537</td>\n",
       "      <td>18.05270</td>\n",
       "    </tr>\n",
       "    <tr>\n",
       "      <th>574</th>\n",
       "      <td>147115</td>\n",
       "      <td>247873264</td>\n",
       "      <td>3.96362</td>\n",
       "      <td>-3.897000</td>\n",
       "      <td>-0.480214</td>\n",
       "      <td>-0.541337</td>\n",
       "      <td>3.92647</td>\n",
       "      <td>-0.137435</td>\n",
       "      <td>-3.018980</td>\n",
       "      <td>-1.0</td>\n",
       "      <td>5.62374</td>\n",
       "      <td>2.298870</td>\n",
       "      <td>-2.95942</td>\n",
       "      <td>-4.193270</td>\n",
       "      <td>3.74740</td>\n",
       "      <td>-0.963056</td>\n",
       "      <td>-0.910364</td>\n",
       "      <td>7.42400</td>\n",
       "    </tr>\n",
       "    <tr>\n",
       "      <th>1939</th>\n",
       "      <td>147115</td>\n",
       "      <td>567360363</td>\n",
       "      <td>9.93991</td>\n",
       "      <td>1.173580</td>\n",
       "      <td>-2.543950</td>\n",
       "      <td>-9.536920</td>\n",
       "      <td>2.80160</td>\n",
       "      <td>-1.939030</td>\n",
       "      <td>-1.138570</td>\n",
       "      <td>-1.0</td>\n",
       "      <td>96.18870</td>\n",
       "      <td>7.338980</td>\n",
       "      <td>16.73870</td>\n",
       "      <td>94.436400</td>\n",
       "      <td>18.27690</td>\n",
       "      <td>2.344670</td>\n",
       "      <td>1.157590</td>\n",
       "      <td>61.49320</td>\n",
       "    </tr>\n",
       "    <tr>\n",
       "      <th>1901</th>\n",
       "      <td>147115</td>\n",
       "      <td>616508875</td>\n",
       "      <td>22.81060</td>\n",
       "      <td>-8.086500</td>\n",
       "      <td>20.649700</td>\n",
       "      <td>5.340520</td>\n",
       "      <td>22.17660</td>\n",
       "      <td>0.238549</td>\n",
       "      <td>1.944040</td>\n",
       "      <td>1.0</td>\n",
       "      <td>3.91837</td>\n",
       "      <td>0.734871</td>\n",
       "      <td>3.81099</td>\n",
       "      <td>0.538474</td>\n",
       "      <td>3.88119</td>\n",
       "      <td>0.138298</td>\n",
       "      <td>1.380300</td>\n",
       "      <td>5.24430</td>\n",
       "    </tr>\n",
       "  </tbody>\n",
       "</table>\n",
       "<p>200 rows × 18 columns</p>\n",
       "</div>"
      ],
      "text/plain": [
       "         Run      Event        E1        px1        py1        pz1       pt1  \\\n",
       "1596  147115  372920356   1.59566  -0.363551  -1.359100   0.752859   1.40689   \n",
       "848   147115  245807604  74.96800  18.515700  30.880300  65.755400  36.00590   \n",
       "107   147115  484142731  16.19880 -13.442300  -5.704310  -7.011930  14.60260   \n",
       "903   147115  125488193  73.43120  11.118400  -8.927680 -72.033400  14.25910   \n",
       "1671  147115  484875897  38.61990  21.052500  -9.437700  30.971200  23.07120   \n",
       "...      ...        ...       ...        ...        ...        ...       ...   \n",
       "1746  147115  291121236   9.09754   2.074020   0.673588  -8.832330   2.18066   \n",
       "399   147115  394435047  22.83460   8.936470  -9.573450  18.705800  13.09620   \n",
       "574   147115  247873264   3.96362  -3.897000  -0.480214  -0.541337   3.92647   \n",
       "1939  147115  567360363   9.93991   1.173580  -2.543950  -9.536920   2.80160   \n",
       "1901  147115  616508875  22.81060  -8.086500  20.649700   5.340520  22.17660   \n",
       "\n",
       "          eta1      phi1   Q1         E2        px2       py2         pz2  \\\n",
       "1596  0.512406 -1.832170  1.0   44.81100   9.766910  -9.78833  -42.624200   \n",
       "848   1.363110  1.030680 -1.0  121.34100 -24.302300 -41.28930  111.482000   \n",
       "107  -0.463418 -2.740270 -1.0   16.92300   2.513450   4.09394  -16.226900   \n",
       "903  -2.322530 -0.676544  1.0    2.88833  -1.948230   0.29983   -2.111160   \n",
       "1671  1.104050 -0.421434  1.0    5.22977   0.901158   3.65716    3.628170   \n",
       "...        ...       ...  ...        ...        ...       ...         ...   \n",
       "1746 -2.106840  0.314028  1.0   80.82040  19.243400 -16.02140  -76.843600   \n",
       "399   1.154340 -0.819797 -1.0   71.48920  11.619000  -5.19622   70.347000   \n",
       "574  -0.137435 -3.018980 -1.0    5.62374   2.298870  -2.95942   -4.193270   \n",
       "1939 -1.939030 -1.138570 -1.0   96.18870   7.338980  16.73870   94.436400   \n",
       "1901  0.238549  1.944040  1.0    3.91837   0.734871   3.81099    0.538474   \n",
       "\n",
       "           pt2      eta2      phi2         M  \n",
       "1596  13.82770 -1.844230 -0.786494  13.69970  \n",
       "848   47.91040  1.580940 -2.102780  83.56010  \n",
       "107    4.80393 -1.931610  1.020190  20.85630  \n",
       "903    1.97116 -0.930713  2.988890  12.98910  \n",
       "1671   3.76655  0.855154  1.329200  14.50160  \n",
       "...        ...       ...       ...       ...  \n",
       "1746  25.03980 -1.840000 -0.694284   7.40806  \n",
       "399   12.72800  2.410870 -0.420537  18.05270  \n",
       "574    3.74740 -0.963056 -0.910364   7.42400  \n",
       "1939  18.27690  2.344670  1.157590  61.49320  \n",
       "1901   3.88119  0.138298  1.380300   5.24430  \n",
       "\n",
       "[200 rows x 18 columns]"
      ]
     },
     "execution_count": 40,
     "metadata": {},
     "output_type": "execute_result"
    }
   ],
   "source": [
    "X_test"
   ]
  },
  {
   "cell_type": "code",
   "execution_count": 41,
   "metadata": {},
   "outputs": [
    {
     "data": {
      "text/plain": [
       "array([0, 0, 0, 1, 0, 0, 0, 0, 1, 1, 0, 0, 1, 0, 0, 1, 1, 1, 1, 1, 1, 0,\n",
       "       0, 1, 0, 0, 0, 0, 0, 0, 0, 1, 0, 0, 0, 1, 1, 0, 1, 0, 1, 0, 0, 0,\n",
       "       0, 1, 1, 0, 1, 0, 0, 1, 1, 1, 1, 0, 0, 1, 1, 1, 0, 1, 0, 0, 0, 1,\n",
       "       1, 0, 1, 0, 1, 1, 0, 0, 0, 0, 0, 0, 1, 1, 1, 0, 1, 1, 1, 0, 0, 1,\n",
       "       0, 1, 1, 0, 1, 0, 0, 0, 1, 0, 0, 1, 0, 1, 1, 0, 0, 0, 0, 1, 1, 0,\n",
       "       0, 1, 0, 0, 0, 1, 0, 0, 0, 0, 0, 1, 0, 1, 0, 1, 1, 1, 1, 1, 0, 1,\n",
       "       0, 1, 1, 0, 1, 1, 1, 1, 0, 0, 0, 1, 1, 1, 1, 0, 0, 1, 1, 1, 0, 1,\n",
       "       1, 0, 0, 1, 0, 1, 1, 1, 0, 1, 0, 1, 1, 1, 0, 0, 1, 0, 0, 0, 0, 1,\n",
       "       1, 1, 1, 1, 1, 0, 1, 1, 0, 0, 1, 1, 0, 0, 1, 0, 0, 0, 1, 1, 1, 0,\n",
       "       0, 0], dtype=int64)"
      ]
     },
     "execution_count": 41,
     "metadata": {},
     "output_type": "execute_result"
    }
   ],
   "source": [
    "y_test"
   ]
  },
  {
   "cell_type": "code",
   "execution_count": 42,
   "metadata": {},
   "outputs": [
    {
     "name": "stdout",
     "output_type": "stream",
     "text": [
      "LinearSVC\n"
     ]
    },
    {
     "data": {
      "image/png": "[encoded data removed]",
      "text/plain": [
       "<Figure size 432x288 with 1 Axes>"
      ]
     },
     "metadata": {
      "needs_background": "light"
     },
     "output_type": "display_data"
    },
    {
     "name": "stderr",
     "output_type": "stream",
     "text": [
      "f:\\Anaconda\\AnacondaFiles\\envs\\TFGPU\\lib\\site-packages\\sklearn\\utils\\deprecation.py:87: FutureWarning: Function plot_confusion_matrix is deprecated; Function `plot_confusion_matrix` is deprecated in 1.0 and will be removed in 1.2. Use one of the class methods: ConfusionMatrixDisplay.from_predictions or ConfusionMatrixDisplay.from_estimator.\n",
      "  warnings.warn(msg, category=FutureWarning)\n"
     ]
    },
    {
     "data": {
      "image/png": "[encoded data removed]",
      "text/plain": [
       "<Figure size 432x288 with 2 Axes>"
      ]
     },
     "metadata": {
      "needs_background": "light"
     },
     "output_type": "display_data"
    },
    {
     "name": "stdout",
     "output_type": "stream",
     "text": [
      "SVM rbf\n"
     ]
    },
    {
     "data": {
      "image/png": "[encoded data removed]",
      "text/plain": [
       "<Figure size 432x288 with 1 Axes>"
      ]
     },
     "metadata": {
      "needs_background": "light"
     },
     "output_type": "display_data"
    },
    {
     "name": "stderr",
     "output_type": "stream",
     "text": [
      "f:\\Anaconda\\AnacondaFiles\\envs\\TFGPU\\lib\\site-packages\\sklearn\\utils\\deprecation.py:87: FutureWarning: Function plot_confusion_matrix is deprecated; Function `plot_confusion_matrix` is deprecated in 1.0 and will be removed in 1.2. Use one of the class methods: ConfusionMatrixDisplay.from_predictions or ConfusionMatrixDisplay.from_estimator.\n",
      "  warnings.warn(msg, category=FutureWarning)\n"
     ]
    },
    {
     "data": {
      "image/png": "[encoded data removed]",
      "text/plain": [
       "<Figure size 432x288 with 2 Axes>"
      ]
     },
     "metadata": {
      "needs_background": "light"
     },
     "output_type": "display_data"
    },
    {
     "name": "stdout",
     "output_type": "stream",
     "text": [
      "SVM poly\n"
     ]
    },
    {
     "data": {
      "image/png": "[encoded data removed]",
      "text/plain": [
       "<Figure size 432x288 with 1 Axes>"
      ]
     },
     "metadata": {
      "needs_background": "light"
     },
     "output_type": "display_data"
    },
    {
     "name": "stderr",
     "output_type": "stream",
     "text": [
      "f:\\Anaconda\\AnacondaFiles\\envs\\TFGPU\\lib\\site-packages\\sklearn\\utils\\deprecation.py:87: FutureWarning: Function plot_confusion_matrix is deprecated; Function `plot_confusion_matrix` is deprecated in 1.0 and will be removed in 1.2. Use one of the class methods: ConfusionMatrixDisplay.from_predictions or ConfusionMatrixDisplay.from_estimator.\n",
      "  warnings.warn(msg, category=FutureWarning)\n"
     ]
    },
    {
     "data": {
      "image/png": "[encoded data removed]",
      "text/plain": [
       "<Figure size 432x288 with 2 Axes>"
      ]
     },
     "metadata": {
      "needs_background": "light"
     },
     "output_type": "display_data"
    },
    {
     "name": "stdout",
     "output_type": "stream",
     "text": [
      "Logistic regression\n"
     ]
    },
    {
     "data": {
      "image/png": "[encoded data removed]",
      "text/plain": [
       "<Figure size 432x288 with 1 Axes>"
      ]
     },
     "metadata": {
      "needs_background": "light"
     },
     "output_type": "display_data"
    },
    {
     "name": "stderr",
     "output_type": "stream",
     "text": [
      "f:\\Anaconda\\AnacondaFiles\\envs\\TFGPU\\lib\\site-packages\\sklearn\\utils\\deprecation.py:87: FutureWarning: Function plot_confusion_matrix is deprecated; Function `plot_confusion_matrix` is deprecated in 1.0 and will be removed in 1.2. Use one of the class methods: ConfusionMatrixDisplay.from_predictions or ConfusionMatrixDisplay.from_estimator.\n",
      "  warnings.warn(msg, category=FutureWarning)\n"
     ]
    },
    {
     "data": {
      "image/png": "[encoded data removed]",
      "text/plain": [
       "<Figure size 432x288 with 2 Axes>"
      ]
     },
     "metadata": {
      "needs_background": "light"
     },
     "output_type": "display_data"
    },
    {
     "name": "stdout",
     "output_type": "stream",
     "text": [
      "KNeighbors\n"
     ]
    },
    {
     "data": {
      "image/png": "[encoded data removed]",
      "text/plain": [
       "<Figure size 432x288 with 1 Axes>"
      ]
     },
     "metadata": {
      "needs_background": "light"
     },
     "output_type": "display_data"
    },
    {
     "name": "stderr",
     "output_type": "stream",
     "text": [
      "f:\\Anaconda\\AnacondaFiles\\envs\\TFGPU\\lib\\site-packages\\sklearn\\utils\\deprecation.py:87: FutureWarning: Function plot_confusion_matrix is deprecated; Function `plot_confusion_matrix` is deprecated in 1.0 and will be removed in 1.2. Use one of the class methods: ConfusionMatrixDisplay.from_predictions or ConfusionMatrixDisplay.from_estimator.\n",
      "  warnings.warn(msg, category=FutureWarning)\n"
     ]
    },
    {
     "data": {
      "image/png": "[encoded data removed]",
      "text/plain": [
       "<Figure size 432x288 with 2 Axes>"
      ]
     },
     "metadata": {
      "needs_background": "light"
     },
     "output_type": "display_data"
    },
    {
     "name": "stdout",
     "output_type": "stream",
     "text": [
      "Decision Tree\n"
     ]
    },
    {
     "data": {
      "image/png": "[encoded data removed]",
      "text/plain": [
       "<Figure size 432x288 with 1 Axes>"
      ]
     },
     "metadata": {
      "needs_background": "light"
     },
     "output_type": "display_data"
    },
    {
     "name": "stderr",
     "output_type": "stream",
     "text": [
      "f:\\Anaconda\\AnacondaFiles\\envs\\TFGPU\\lib\\site-packages\\sklearn\\utils\\deprecation.py:87: FutureWarning: Function plot_confusion_matrix is deprecated; Function `plot_confusion_matrix` is deprecated in 1.0 and will be removed in 1.2. Use one of the class methods: ConfusionMatrixDisplay.from_predictions or ConfusionMatrixDisplay.from_estimator.\n",
      "  warnings.warn(msg, category=FutureWarning)\n"
     ]
    },
    {
     "data": {
      "image/png": "[encoded data removed]",
      "text/plain": [
       "<Figure size 432x288 with 2 Axes>"
      ]
     },
     "metadata": {
      "needs_background": "light"
     },
     "output_type": "display_data"
    },
    {
     "name": "stdout",
     "output_type": "stream",
     "text": [
      "Random Forest\n"
     ]
    },
    {
     "data": {
      "image/png": "[encoded data removed]",
      "text/plain": [
       "<Figure size 432x288 with 1 Axes>"
      ]
     },
     "metadata": {
      "needs_background": "light"
     },
     "output_type": "display_data"
    },
    {
     "name": "stderr",
     "output_type": "stream",
     "text": [
      "f:\\Anaconda\\AnacondaFiles\\envs\\TFGPU\\lib\\site-packages\\sklearn\\utils\\deprecation.py:87: FutureWarning: Function plot_confusion_matrix is deprecated; Function `plot_confusion_matrix` is deprecated in 1.0 and will be removed in 1.2. Use one of the class methods: ConfusionMatrixDisplay.from_predictions or ConfusionMatrixDisplay.from_estimator.\n",
      "  warnings.warn(msg, category=FutureWarning)\n"
     ]
    },
    {
     "data": {
      "image/png": "[encoded data removed]",
      "text/plain": [
       "<Figure size 432x288 with 2 Axes>"
      ]
     },
     "metadata": {
      "needs_background": "light"
     },
     "output_type": "display_data"
    },
    {
     "name": "stdout",
     "output_type": "stream",
     "text": [
      "Bagging\n"
     ]
    },
    {
     "data": {
      "image/png": "[encoded data removed]",
      "text/plain": [
       "<Figure size 432x288 with 1 Axes>"
      ]
     },
     "metadata": {
      "needs_background": "light"
     },
     "output_type": "display_data"
    },
    {
     "name": "stderr",
     "output_type": "stream",
     "text": [
      "f:\\Anaconda\\AnacondaFiles\\envs\\TFGPU\\lib\\site-packages\\sklearn\\utils\\deprecation.py:87: FutureWarning: Function plot_confusion_matrix is deprecated; Function `plot_confusion_matrix` is deprecated in 1.0 and will be removed in 1.2. Use one of the class methods: ConfusionMatrixDisplay.from_predictions or ConfusionMatrixDisplay.from_estimator.\n",
      "  warnings.warn(msg, category=FutureWarning)\n"
     ]
    },
    {
     "data": {
      "image/png": "[encoded data removed]",
      "text/plain": [
       "<Figure size 432x288 with 2 Axes>"
      ]
     },
     "metadata": {
      "needs_background": "light"
     },
     "output_type": "display_data"
    },
    {
     "name": "stdout",
     "output_type": "stream",
     "text": [
      "Gradient\n"
     ]
    },
    {
     "data": {
      "image/png": "[encoded data removed]",
      "text/plain": [
       "<Figure size 432x288 with 1 Axes>"
      ]
     },
     "metadata": {
      "needs_background": "light"
     },
     "output_type": "display_data"
    },
    {
     "name": "stderr",
     "output_type": "stream",
     "text": [
      "f:\\Anaconda\\AnacondaFiles\\envs\\TFGPU\\lib\\site-packages\\sklearn\\utils\\deprecation.py:87: FutureWarning: Function plot_confusion_matrix is deprecated; Function `plot_confusion_matrix` is deprecated in 1.0 and will be removed in 1.2. Use one of the class methods: ConfusionMatrixDisplay.from_predictions or ConfusionMatrixDisplay.from_estimator.\n",
      "  warnings.warn(msg, category=FutureWarning)\n"
     ]
    },
    {
     "data": {
      "image/png": "[encoded data removed]",
      "text/plain": [
       "<Figure size 432x288 with 2 Axes>"
      ]
     },
     "metadata": {
      "needs_background": "light"
     },
     "output_type": "display_data"
    },
    {
     "name": "stdout",
     "output_type": "stream",
     "text": [
      "Ada Boost\n"
     ]
    },
    {
     "data": {
      "image/png": "[encoded data removed]",
      "text/plain": [
       "<Figure size 432x288 with 1 Axes>"
      ]
     },
     "metadata": {
      "needs_background": "light"
     },
     "output_type": "display_data"
    },
    {
     "name": "stderr",
     "output_type": "stream",
     "text": [
      "f:\\Anaconda\\AnacondaFiles\\envs\\TFGPU\\lib\\site-packages\\sklearn\\utils\\deprecation.py:87: FutureWarning: Function plot_confusion_matrix is deprecated; Function `plot_confusion_matrix` is deprecated in 1.0 and will be removed in 1.2. Use one of the class methods: ConfusionMatrixDisplay.from_predictions or ConfusionMatrixDisplay.from_estimator.\n",
      "  warnings.warn(msg, category=FutureWarning)\n"
     ]
    },
    {
     "data": {
      "image/png": "[encoded data removed]",
      "text/plain": [
       "<Figure size 432x288 with 2 Axes>"
      ]
     },
     "metadata": {
      "needs_background": "light"
     },
     "output_type": "display_data"
    }
   ],
   "source": [
    "from sklearn.metrics import RocCurveDisplay, plot_confusion_matrix\n",
    "\n",
    "for model in models[:-1]:\n",
    "    print(model[0])\n",
    "    RocCurveDisplay.from_estimator(model[1], X_test, y_test)\n",
    "    plt.show()\n",
    "    plot_confusion_matrix(model[1], X_test, y_test)\n",
    "    plt.show()"
   ]
  },
  {
   "cell_type": "markdown",
   "metadata": {},
   "source": [
    "# Sieci neuronowe"
   ]
  },
  {
   "cell_type": "code",
   "execution_count": 43,
   "metadata": {},
   "outputs": [],
   "source": [
    "accuracy_scores = []"
   ]
  },
  {
   "cell_type": "code",
   "execution_count": 44,
   "metadata": {},
   "outputs": [
    {
     "name": "stdout",
     "output_type": "stream",
     "text": [
      "Accurarcy: 0.48\n"
     ]
    }
   ],
   "source": [
    "from sklearn.linear_model import Perceptron\n",
    "\n",
    "per_clf = Perceptron(max_iter=1000, tol=1e-3)\n",
    "per_clf.fit(X_train, y_train)\n",
    "\n",
    "print(\"Accurarcy: {}\".format( metrics.accuracy_score(y_test, per_clf.predict(X_test)) ))"
   ]
  },
  {
   "cell_type": "code",
   "execution_count": 45,
   "metadata": {},
   "outputs": [],
   "source": [
    "X_train_with_val, X_val = train_test_split(preprocess_pipeline.transform(X_train), train_size=0.9)\n",
    "y_train_with_val, y_val = train_test_split(y_train, train_size=0.9)"
   ]
  },
  {
   "cell_type": "code",
   "execution_count": 46,
   "metadata": {},
   "outputs": [
    {
     "name": "stderr",
     "output_type": "stream",
     "text": [
      "f:\\Anaconda\\AnacondaFiles\\envs\\TFGPU\\lib\\site-packages\\sklearn\\neural_network\\_multilayer_perceptron.py:692: ConvergenceWarning: Stochastic Optimizer: Maximum iterations (100) reached and the optimization hasn't converged yet.\n",
      "  warnings.warn(\n",
      "f:\\Anaconda\\AnacondaFiles\\envs\\TFGPU\\lib\\site-packages\\sklearn\\neural_network\\_multilayer_perceptron.py:692: ConvergenceWarning: Stochastic Optimizer: Maximum iterations (100) reached and the optimization hasn't converged yet.\n",
      "  warnings.warn(\n",
      "f:\\Anaconda\\AnacondaFiles\\envs\\TFGPU\\lib\\site-packages\\sklearn\\neural_network\\_multilayer_perceptron.py:692: ConvergenceWarning: Stochastic Optimizer: Maximum iterations (100) reached and the optimization hasn't converged yet.\n",
      "  warnings.warn(\n",
      "f:\\Anaconda\\AnacondaFiles\\envs\\TFGPU\\lib\\site-packages\\sklearn\\neural_network\\_multilayer_perceptron.py:692: ConvergenceWarning: Stochastic Optimizer: Maximum iterations (100) reached and the optimization hasn't converged yet.\n",
      "  warnings.warn(\n",
      "f:\\Anaconda\\AnacondaFiles\\envs\\TFGPU\\lib\\site-packages\\sklearn\\neural_network\\_multilayer_perceptron.py:692: ConvergenceWarning: Stochastic Optimizer: Maximum iterations (100) reached and the optimization hasn't converged yet.\n",
      "  warnings.warn(\n",
      "f:\\Anaconda\\AnacondaFiles\\envs\\TFGPU\\lib\\site-packages\\sklearn\\neural_network\\_multilayer_perceptron.py:692: ConvergenceWarning: Stochastic Optimizer: Maximum iterations (100) reached and the optimization hasn't converged yet.\n",
      "  warnings.warn(\n",
      "f:\\Anaconda\\AnacondaFiles\\envs\\TFGPU\\lib\\site-packages\\sklearn\\neural_network\\_multilayer_perceptron.py:692: ConvergenceWarning: Stochastic Optimizer: Maximum iterations (100) reached and the optimization hasn't converged yet.\n",
      "  warnings.warn(\n",
      "f:\\Anaconda\\AnacondaFiles\\envs\\TFGPU\\lib\\site-packages\\sklearn\\neural_network\\_multilayer_perceptron.py:692: ConvergenceWarning: Stochastic Optimizer: Maximum iterations (100) reached and the optimization hasn't converged yet.\n",
      "  warnings.warn(\n",
      "f:\\Anaconda\\AnacondaFiles\\envs\\TFGPU\\lib\\site-packages\\sklearn\\neural_network\\_multilayer_perceptron.py:692: ConvergenceWarning: Stochastic Optimizer: Maximum iterations (100) reached and the optimization hasn't converged yet.\n",
      "  warnings.warn(\n",
      "f:\\Anaconda\\AnacondaFiles\\envs\\TFGPU\\lib\\site-packages\\sklearn\\neural_network\\_multilayer_perceptron.py:692: ConvergenceWarning: Stochastic Optimizer: Maximum iterations (100) reached and the optimization hasn't converged yet.\n",
      "  warnings.warn(\n",
      "f:\\Anaconda\\AnacondaFiles\\envs\\TFGPU\\lib\\site-packages\\sklearn\\neural_network\\_multilayer_perceptron.py:692: ConvergenceWarning: Stochastic Optimizer: Maximum iterations (100) reached and the optimization hasn't converged yet.\n",
      "  warnings.warn(\n",
      "f:\\Anaconda\\AnacondaFiles\\envs\\TFGPU\\lib\\site-packages\\sklearn\\neural_network\\_multilayer_perceptron.py:692: ConvergenceWarning: Stochastic Optimizer: Maximum iterations (100) reached and the optimization hasn't converged yet.\n",
      "  warnings.warn(\n",
      "f:\\Anaconda\\AnacondaFiles\\envs\\TFGPU\\lib\\site-packages\\sklearn\\neural_network\\_multilayer_perceptron.py:692: ConvergenceWarning: Stochastic Optimizer: Maximum iterations (100) reached and the optimization hasn't converged yet.\n",
      "  warnings.warn(\n",
      "f:\\Anaconda\\AnacondaFiles\\envs\\TFGPU\\lib\\site-packages\\sklearn\\neural_network\\_multilayer_perceptron.py:692: ConvergenceWarning: Stochastic Optimizer: Maximum iterations (100) reached and the optimization hasn't converged yet.\n",
      "  warnings.warn(\n",
      "f:\\Anaconda\\AnacondaFiles\\envs\\TFGPU\\lib\\site-packages\\sklearn\\neural_network\\_multilayer_perceptron.py:692: ConvergenceWarning: Stochastic Optimizer: Maximum iterations (100) reached and the optimization hasn't converged yet.\n",
      "  warnings.warn(\n",
      "f:\\Anaconda\\AnacondaFiles\\envs\\TFGPU\\lib\\site-packages\\sklearn\\neural_network\\_multilayer_perceptron.py:692: ConvergenceWarning: Stochastic Optimizer: Maximum iterations (100) reached and the optimization hasn't converged yet.\n",
      "  warnings.warn(\n",
      "f:\\Anaconda\\AnacondaFiles\\envs\\TFGPU\\lib\\site-packages\\sklearn\\neural_network\\_multilayer_perceptron.py:692: ConvergenceWarning: Stochastic Optimizer: Maximum iterations (100) reached and the optimization hasn't converged yet.\n",
      "  warnings.warn(\n",
      "f:\\Anaconda\\AnacondaFiles\\envs\\TFGPU\\lib\\site-packages\\sklearn\\neural_network\\_multilayer_perceptron.py:692: ConvergenceWarning: Stochastic Optimizer: Maximum iterations (100) reached and the optimization hasn't converged yet.\n",
      "  warnings.warn(\n",
      "f:\\Anaconda\\AnacondaFiles\\envs\\TFGPU\\lib\\site-packages\\sklearn\\neural_network\\_multilayer_perceptron.py:692: ConvergenceWarning: Stochastic Optimizer: Maximum iterations (100) reached and the optimization hasn't converged yet.\n",
      "  warnings.warn(\n",
      "f:\\Anaconda\\AnacondaFiles\\envs\\TFGPU\\lib\\site-packages\\sklearn\\neural_network\\_multilayer_perceptron.py:692: ConvergenceWarning: Stochastic Optimizer: Maximum iterations (100) reached and the optimization hasn't converged yet.\n",
      "  warnings.warn(\n",
      "f:\\Anaconda\\AnacondaFiles\\envs\\TFGPU\\lib\\site-packages\\sklearn\\neural_network\\_multilayer_perceptron.py:692: ConvergenceWarning: Stochastic Optimizer: Maximum iterations (100) reached and the optimization hasn't converged yet.\n",
      "  warnings.warn(\n",
      "f:\\Anaconda\\AnacondaFiles\\envs\\TFGPU\\lib\\site-packages\\sklearn\\neural_network\\_multilayer_perceptron.py:692: ConvergenceWarning: Stochastic Optimizer: Maximum iterations (100) reached and the optimization hasn't converged yet.\n",
      "  warnings.warn(\n",
      "f:\\Anaconda\\AnacondaFiles\\envs\\TFGPU\\lib\\site-packages\\sklearn\\neural_network\\_multilayer_perceptron.py:692: ConvergenceWarning: Stochastic Optimizer: Maximum iterations (100) reached and the optimization hasn't converged yet.\n",
      "  warnings.warn(\n",
      "f:\\Anaconda\\AnacondaFiles\\envs\\TFGPU\\lib\\site-packages\\sklearn\\neural_network\\_multilayer_perceptron.py:692: ConvergenceWarning: Stochastic Optimizer: Maximum iterations (100) reached and the optimization hasn't converged yet.\n",
      "  warnings.warn(\n",
      "f:\\Anaconda\\AnacondaFiles\\envs\\TFGPU\\lib\\site-packages\\sklearn\\neural_network\\_multilayer_perceptron.py:692: ConvergenceWarning: Stochastic Optimizer: Maximum iterations (100) reached and the optimization hasn't converged yet.\n",
      "  warnings.warn(\n",
      "f:\\Anaconda\\AnacondaFiles\\envs\\TFGPU\\lib\\site-packages\\sklearn\\neural_network\\_multilayer_perceptron.py:692: ConvergenceWarning: Stochastic Optimizer: Maximum iterations (100) reached and the optimization hasn't converged yet.\n",
      "  warnings.warn(\n",
      "f:\\Anaconda\\AnacondaFiles\\envs\\TFGPU\\lib\\site-packages\\sklearn\\neural_network\\_multilayer_perceptron.py:692: ConvergenceWarning: Stochastic Optimizer: Maximum iterations (100) reached and the optimization hasn't converged yet.\n",
      "  warnings.warn(\n",
      "f:\\Anaconda\\AnacondaFiles\\envs\\TFGPU\\lib\\site-packages\\sklearn\\neural_network\\_multilayer_perceptron.py:692: ConvergenceWarning: Stochastic Optimizer: Maximum iterations (100) reached and the optimization hasn't converged yet.\n",
      "  warnings.warn(\n",
      "f:\\Anaconda\\AnacondaFiles\\envs\\TFGPU\\lib\\site-packages\\sklearn\\neural_network\\_multilayer_perceptron.py:692: ConvergenceWarning: Stochastic Optimizer: Maximum iterations (100) reached and the optimization hasn't converged yet.\n",
      "  warnings.warn(\n",
      "f:\\Anaconda\\AnacondaFiles\\envs\\TFGPU\\lib\\site-packages\\sklearn\\neural_network\\_multilayer_perceptron.py:692: ConvergenceWarning: Stochastic Optimizer: Maximum iterations (100) reached and the optimization hasn't converged yet.\n",
      "  warnings.warn(\n",
      "f:\\Anaconda\\AnacondaFiles\\envs\\TFGPU\\lib\\site-packages\\sklearn\\neural_network\\_multilayer_perceptron.py:692: ConvergenceWarning: Stochastic Optimizer: Maximum iterations (100) reached and the optimization hasn't converged yet.\n",
      "  warnings.warn(\n",
      "f:\\Anaconda\\AnacondaFiles\\envs\\TFGPU\\lib\\site-packages\\sklearn\\neural_network\\_multilayer_perceptron.py:692: ConvergenceWarning: Stochastic Optimizer: Maximum iterations (100) reached and the optimization hasn't converged yet.\n",
      "  warnings.warn(\n",
      "f:\\Anaconda\\AnacondaFiles\\envs\\TFGPU\\lib\\site-packages\\sklearn\\neural_network\\_multilayer_perceptron.py:692: ConvergenceWarning: Stochastic Optimizer: Maximum iterations (100) reached and the optimization hasn't converged yet.\n",
      "  warnings.warn(\n",
      "f:\\Anaconda\\AnacondaFiles\\envs\\TFGPU\\lib\\site-packages\\sklearn\\neural_network\\_multilayer_perceptron.py:692: ConvergenceWarning: Stochastic Optimizer: Maximum iterations (100) reached and the optimization hasn't converged yet.\n",
      "  warnings.warn(\n",
      "f:\\Anaconda\\AnacondaFiles\\envs\\TFGPU\\lib\\site-packages\\sklearn\\neural_network\\_multilayer_perceptron.py:692: ConvergenceWarning: Stochastic Optimizer: Maximum iterations (100) reached and the optimization hasn't converged yet.\n",
      "  warnings.warn(\n",
      "f:\\Anaconda\\AnacondaFiles\\envs\\TFGPU\\lib\\site-packages\\sklearn\\neural_network\\_multilayer_perceptron.py:692: ConvergenceWarning: Stochastic Optimizer: Maximum iterations (100) reached and the optimization hasn't converged yet.\n",
      "  warnings.warn(\n",
      "f:\\Anaconda\\AnacondaFiles\\envs\\TFGPU\\lib\\site-packages\\sklearn\\neural_network\\_multilayer_perceptron.py:692: ConvergenceWarning: Stochastic Optimizer: Maximum iterations (100) reached and the optimization hasn't converged yet.\n",
      "  warnings.warn(\n",
      "f:\\Anaconda\\AnacondaFiles\\envs\\TFGPU\\lib\\site-packages\\sklearn\\neural_network\\_multilayer_perceptron.py:692: ConvergenceWarning: Stochastic Optimizer: Maximum iterations (100) reached and the optimization hasn't converged yet.\n",
      "  warnings.warn(\n",
      "f:\\Anaconda\\AnacondaFiles\\envs\\TFGPU\\lib\\site-packages\\sklearn\\neural_network\\_multilayer_perceptron.py:692: ConvergenceWarning: Stochastic Optimizer: Maximum iterations (100) reached and the optimization hasn't converged yet.\n",
      "  warnings.warn(\n",
      "f:\\Anaconda\\AnacondaFiles\\envs\\TFGPU\\lib\\site-packages\\sklearn\\neural_network\\_multilayer_perceptron.py:692: ConvergenceWarning: Stochastic Optimizer: Maximum iterations (100) reached and the optimization hasn't converged yet.\n",
      "  warnings.warn(\n",
      "f:\\Anaconda\\AnacondaFiles\\envs\\TFGPU\\lib\\site-packages\\sklearn\\neural_network\\_multilayer_perceptron.py:692: ConvergenceWarning: Stochastic Optimizer: Maximum iterations (100) reached and the optimization hasn't converged yet.\n",
      "  warnings.warn(\n",
      "f:\\Anaconda\\AnacondaFiles\\envs\\TFGPU\\lib\\site-packages\\sklearn\\neural_network\\_multilayer_perceptron.py:692: ConvergenceWarning: Stochastic Optimizer: Maximum iterations (100) reached and the optimization hasn't converged yet.\n",
      "  warnings.warn(\n",
      "f:\\Anaconda\\AnacondaFiles\\envs\\TFGPU\\lib\\site-packages\\sklearn\\neural_network\\_multilayer_perceptron.py:692: ConvergenceWarning: Stochastic Optimizer: Maximum iterations (100) reached and the optimization hasn't converged yet.\n",
      "  warnings.warn(\n",
      "f:\\Anaconda\\AnacondaFiles\\envs\\TFGPU\\lib\\site-packages\\sklearn\\neural_network\\_multilayer_perceptron.py:692: ConvergenceWarning: Stochastic Optimizer: Maximum iterations (100) reached and the optimization hasn't converged yet.\n",
      "  warnings.warn(\n",
      "f:\\Anaconda\\AnacondaFiles\\envs\\TFGPU\\lib\\site-packages\\sklearn\\neural_network\\_multilayer_perceptron.py:692: ConvergenceWarning: Stochastic Optimizer: Maximum iterations (100) reached and the optimization hasn't converged yet.\n",
      "  warnings.warn(\n",
      "f:\\Anaconda\\AnacondaFiles\\envs\\TFGPU\\lib\\site-packages\\sklearn\\neural_network\\_multilayer_perceptron.py:692: ConvergenceWarning: Stochastic Optimizer: Maximum iterations (100) reached and the optimization hasn't converged yet.\n",
      "  warnings.warn(\n",
      "f:\\Anaconda\\AnacondaFiles\\envs\\TFGPU\\lib\\site-packages\\sklearn\\neural_network\\_multilayer_perceptron.py:692: ConvergenceWarning: Stochastic Optimizer: Maximum iterations (100) reached and the optimization hasn't converged yet.\n",
      "  warnings.warn(\n",
      "f:\\Anaconda\\AnacondaFiles\\envs\\TFGPU\\lib\\site-packages\\sklearn\\neural_network\\_multilayer_perceptron.py:692: ConvergenceWarning: Stochastic Optimizer: Maximum iterations (100) reached and the optimization hasn't converged yet.\n",
      "  warnings.warn(\n",
      "f:\\Anaconda\\AnacondaFiles\\envs\\TFGPU\\lib\\site-packages\\sklearn\\neural_network\\_multilayer_perceptron.py:692: ConvergenceWarning: Stochastic Optimizer: Maximum iterations (100) reached and the optimization hasn't converged yet.\n",
      "  warnings.warn(\n",
      "f:\\Anaconda\\AnacondaFiles\\envs\\TFGPU\\lib\\site-packages\\sklearn\\neural_network\\_multilayer_perceptron.py:692: ConvergenceWarning: Stochastic Optimizer: Maximum iterations (100) reached and the optimization hasn't converged yet.\n",
      "  warnings.warn(\n",
      "f:\\Anaconda\\AnacondaFiles\\envs\\TFGPU\\lib\\site-packages\\sklearn\\neural_network\\_multilayer_perceptron.py:692: ConvergenceWarning: Stochastic Optimizer: Maximum iterations (100) reached and the optimization hasn't converged yet.\n",
      "  warnings.warn(\n",
      "f:\\Anaconda\\AnacondaFiles\\envs\\TFGPU\\lib\\site-packages\\sklearn\\neural_network\\_multilayer_perceptron.py:692: ConvergenceWarning: Stochastic Optimizer: Maximum iterations (100) reached and the optimization hasn't converged yet.\n",
      "  warnings.warn(\n",
      "f:\\Anaconda\\AnacondaFiles\\envs\\TFGPU\\lib\\site-packages\\sklearn\\neural_network\\_multilayer_perceptron.py:692: ConvergenceWarning: Stochastic Optimizer: Maximum iterations (100) reached and the optimization hasn't converged yet.\n",
      "  warnings.warn(\n",
      "f:\\Anaconda\\AnacondaFiles\\envs\\TFGPU\\lib\\site-packages\\sklearn\\neural_network\\_multilayer_perceptron.py:692: ConvergenceWarning: Stochastic Optimizer: Maximum iterations (100) reached and the optimization hasn't converged yet.\n",
      "  warnings.warn(\n",
      "f:\\Anaconda\\AnacondaFiles\\envs\\TFGPU\\lib\\site-packages\\sklearn\\neural_network\\_multilayer_perceptron.py:692: ConvergenceWarning: Stochastic Optimizer: Maximum iterations (100) reached and the optimization hasn't converged yet.\n",
      "  warnings.warn(\n",
      "f:\\Anaconda\\AnacondaFiles\\envs\\TFGPU\\lib\\site-packages\\sklearn\\neural_network\\_multilayer_perceptron.py:692: ConvergenceWarning: Stochastic Optimizer: Maximum iterations (100) reached and the optimization hasn't converged yet.\n",
      "  warnings.warn(\n",
      "f:\\Anaconda\\AnacondaFiles\\envs\\TFGPU\\lib\\site-packages\\sklearn\\neural_network\\_multilayer_perceptron.py:692: ConvergenceWarning: Stochastic Optimizer: Maximum iterations (100) reached and the optimization hasn't converged yet.\n",
      "  warnings.warn(\n",
      "f:\\Anaconda\\AnacondaFiles\\envs\\TFGPU\\lib\\site-packages\\sklearn\\neural_network\\_multilayer_perceptron.py:692: ConvergenceWarning: Stochastic Optimizer: Maximum iterations (100) reached and the optimization hasn't converged yet.\n",
      "  warnings.warn(\n",
      "f:\\Anaconda\\AnacondaFiles\\envs\\TFGPU\\lib\\site-packages\\sklearn\\neural_network\\_multilayer_perceptron.py:692: ConvergenceWarning: Stochastic Optimizer: Maximum iterations (100) reached and the optimization hasn't converged yet.\n",
      "  warnings.warn(\n",
      "f:\\Anaconda\\AnacondaFiles\\envs\\TFGPU\\lib\\site-packages\\sklearn\\neural_network\\_multilayer_perceptron.py:692: ConvergenceWarning: Stochastic Optimizer: Maximum iterations (100) reached and the optimization hasn't converged yet.\n",
      "  warnings.warn(\n",
      "f:\\Anaconda\\AnacondaFiles\\envs\\TFGPU\\lib\\site-packages\\sklearn\\neural_network\\_multilayer_perceptron.py:692: ConvergenceWarning: Stochastic Optimizer: Maximum iterations (500) reached and the optimization hasn't converged yet.\n",
      "  warnings.warn(\n",
      "f:\\Anaconda\\AnacondaFiles\\envs\\TFGPU\\lib\\site-packages\\sklearn\\neural_network\\_multilayer_perceptron.py:692: ConvergenceWarning: Stochastic Optimizer: Maximum iterations (500) reached and the optimization hasn't converged yet.\n",
      "  warnings.warn(\n",
      "f:\\Anaconda\\AnacondaFiles\\envs\\TFGPU\\lib\\site-packages\\sklearn\\neural_network\\_multilayer_perceptron.py:692: ConvergenceWarning: Stochastic Optimizer: Maximum iterations (100) reached and the optimization hasn't converged yet.\n",
      "  warnings.warn(\n",
      "f:\\Anaconda\\AnacondaFiles\\envs\\TFGPU\\lib\\site-packages\\sklearn\\neural_network\\_multilayer_perceptron.py:692: ConvergenceWarning: Stochastic Optimizer: Maximum iterations (100) reached and the optimization hasn't converged yet.\n",
      "  warnings.warn(\n",
      "f:\\Anaconda\\AnacondaFiles\\envs\\TFGPU\\lib\\site-packages\\sklearn\\neural_network\\_multilayer_perceptron.py:692: ConvergenceWarning: Stochastic Optimizer: Maximum iterations (100) reached and the optimization hasn't converged yet.\n",
      "  warnings.warn(\n",
      "f:\\Anaconda\\AnacondaFiles\\envs\\TFGPU\\lib\\site-packages\\sklearn\\neural_network\\_multilayer_perceptron.py:692: ConvergenceWarning: Stochastic Optimizer: Maximum iterations (100) reached and the optimization hasn't converged yet.\n",
      "  warnings.warn(\n",
      "f:\\Anaconda\\AnacondaFiles\\envs\\TFGPU\\lib\\site-packages\\sklearn\\neural_network\\_multilayer_perceptron.py:692: ConvergenceWarning: Stochastic Optimizer: Maximum iterations (100) reached and the optimization hasn't converged yet.\n",
      "  warnings.warn(\n",
      "f:\\Anaconda\\AnacondaFiles\\envs\\TFGPU\\lib\\site-packages\\sklearn\\neural_network\\_multilayer_perceptron.py:692: ConvergenceWarning: Stochastic Optimizer: Maximum iterations (100) reached and the optimization hasn't converged yet.\n",
      "  warnings.warn(\n",
      "f:\\Anaconda\\AnacondaFiles\\envs\\TFGPU\\lib\\site-packages\\sklearn\\neural_network\\_multilayer_perceptron.py:692: ConvergenceWarning: Stochastic Optimizer: Maximum iterations (100) reached and the optimization hasn't converged yet.\n",
      "  warnings.warn(\n",
      "f:\\Anaconda\\AnacondaFiles\\envs\\TFGPU\\lib\\site-packages\\sklearn\\neural_network\\_multilayer_perceptron.py:692: ConvergenceWarning: Stochastic Optimizer: Maximum iterations (100) reached and the optimization hasn't converged yet.\n",
      "  warnings.warn(\n"
     ]
    },
    {
     "data": {
      "text/plain": [
       "{'classifier__batch_size': 8,\n",
       " 'classifier__hidden_layer_sizes': (20, 10),\n",
       " 'classifier__learning_rate_init': 0.001,\n",
       " 'classifier__max_iter': 500}"
      ]
     },
     "execution_count": 46,
     "metadata": {},
     "output_type": "execute_result"
    }
   ],
   "source": [
    "from sklearn.neural_network import MLPRegressor, MLPClassifier\n",
    "from tensorflow.keras.callbacks import History\n",
    "\n",
    "pipeline = Pipeline([('preprocessing', preprocess_pipeline), ('classifier', MLPClassifier())])\n",
    "\n",
    "param_grid = {\n",
    "            'classifier__hidden_layer_sizes': [(20,10)],\n",
    "            'classifier__learning_rate_init': [0.001, 0.01, 0.1],\n",
    "            'classifier__max_iter': [100, 500, 1000],\n",
    "            'classifier__batch_size': [8, 16, 32, 64, 128],\n",
    "}\n",
    "\n",
    "grid_mlpclass = GridSearchCV(pipeline, param_grid, cv=kfold)\n",
    "\n",
    "clf = grid_mlpclass.fit(X_train, y_train)\n",
    "grid_mlpclass.best_params_"
   ]
  },
  {
   "cell_type": "code",
   "execution_count": 47,
   "metadata": {},
   "outputs": [],
   "source": [
    "accuracy_scores.append((\"MLPClassifier\", metrics.accuracy_score(y_true= y_test, y_pred=(clf.predict(X_test) > 0.5).astype(\"int32\"))))"
   ]
  },
  {
   "cell_type": "code",
   "execution_count": 48,
   "metadata": {},
   "outputs": [
    {
     "name": "stderr",
     "output_type": "stream",
     "text": [
      "f:\\Anaconda\\AnacondaFiles\\envs\\TFGPU\\lib\\site-packages\\sklearn\\neural_network\\_multilayer_perceptron.py:692: ConvergenceWarning: Stochastic Optimizer: Maximum iterations (100) reached and the optimization hasn't converged yet.\n",
      "  warnings.warn(\n",
      "f:\\Anaconda\\AnacondaFiles\\envs\\TFGPU\\lib\\site-packages\\sklearn\\neural_network\\_multilayer_perceptron.py:692: ConvergenceWarning: Stochastic Optimizer: Maximum iterations (100) reached and the optimization hasn't converged yet.\n",
      "  warnings.warn(\n",
      "f:\\Anaconda\\AnacondaFiles\\envs\\TFGPU\\lib\\site-packages\\sklearn\\neural_network\\_multilayer_perceptron.py:692: ConvergenceWarning: Stochastic Optimizer: Maximum iterations (100) reached and the optimization hasn't converged yet.\n",
      "  warnings.warn(\n",
      "f:\\Anaconda\\AnacondaFiles\\envs\\TFGPU\\lib\\site-packages\\sklearn\\neural_network\\_multilayer_perceptron.py:692: ConvergenceWarning: Stochastic Optimizer: Maximum iterations (100) reached and the optimization hasn't converged yet.\n",
      "  warnings.warn(\n",
      "f:\\Anaconda\\AnacondaFiles\\envs\\TFGPU\\lib\\site-packages\\sklearn\\neural_network\\_multilayer_perceptron.py:692: ConvergenceWarning: Stochastic Optimizer: Maximum iterations (100) reached and the optimization hasn't converged yet.\n",
      "  warnings.warn(\n",
      "f:\\Anaconda\\AnacondaFiles\\envs\\TFGPU\\lib\\site-packages\\sklearn\\neural_network\\_multilayer_perceptron.py:692: ConvergenceWarning: Stochastic Optimizer: Maximum iterations (100) reached and the optimization hasn't converged yet.\n",
      "  warnings.warn(\n",
      "f:\\Anaconda\\AnacondaFiles\\envs\\TFGPU\\lib\\site-packages\\sklearn\\neural_network\\_multilayer_perceptron.py:692: ConvergenceWarning: Stochastic Optimizer: Maximum iterations (100) reached and the optimization hasn't converged yet.\n",
      "  warnings.warn(\n",
      "f:\\Anaconda\\AnacondaFiles\\envs\\TFGPU\\lib\\site-packages\\sklearn\\neural_network\\_multilayer_perceptron.py:692: ConvergenceWarning: Stochastic Optimizer: Maximum iterations (100) reached and the optimization hasn't converged yet.\n",
      "  warnings.warn(\n",
      "f:\\Anaconda\\AnacondaFiles\\envs\\TFGPU\\lib\\site-packages\\sklearn\\neural_network\\_multilayer_perceptron.py:692: ConvergenceWarning: Stochastic Optimizer: Maximum iterations (100) reached and the optimization hasn't converged yet.\n",
      "  warnings.warn(\n",
      "f:\\Anaconda\\AnacondaFiles\\envs\\TFGPU\\lib\\site-packages\\sklearn\\neural_network\\_multilayer_perceptron.py:692: ConvergenceWarning: Stochastic Optimizer: Maximum iterations (100) reached and the optimization hasn't converged yet.\n",
      "  warnings.warn(\n",
      "f:\\Anaconda\\AnacondaFiles\\envs\\TFGPU\\lib\\site-packages\\sklearn\\neural_network\\_multilayer_perceptron.py:692: ConvergenceWarning: Stochastic Optimizer: Maximum iterations (100) reached and the optimization hasn't converged yet.\n",
      "  warnings.warn(\n",
      "f:\\Anaconda\\AnacondaFiles\\envs\\TFGPU\\lib\\site-packages\\sklearn\\neural_network\\_multilayer_perceptron.py:692: ConvergenceWarning: Stochastic Optimizer: Maximum iterations (100) reached and the optimization hasn't converged yet.\n",
      "  warnings.warn(\n",
      "f:\\Anaconda\\AnacondaFiles\\envs\\TFGPU\\lib\\site-packages\\sklearn\\neural_network\\_multilayer_perceptron.py:692: ConvergenceWarning: Stochastic Optimizer: Maximum iterations (100) reached and the optimization hasn't converged yet.\n",
      "  warnings.warn(\n",
      "f:\\Anaconda\\AnacondaFiles\\envs\\TFGPU\\lib\\site-packages\\sklearn\\neural_network\\_multilayer_perceptron.py:692: ConvergenceWarning: Stochastic Optimizer: Maximum iterations (100) reached and the optimization hasn't converged yet.\n",
      "  warnings.warn(\n",
      "f:\\Anaconda\\AnacondaFiles\\envs\\TFGPU\\lib\\site-packages\\sklearn\\neural_network\\_multilayer_perceptron.py:692: ConvergenceWarning: Stochastic Optimizer: Maximum iterations (100) reached and the optimization hasn't converged yet.\n",
      "  warnings.warn(\n",
      "f:\\Anaconda\\AnacondaFiles\\envs\\TFGPU\\lib\\site-packages\\sklearn\\neural_network\\_multilayer_perceptron.py:692: ConvergenceWarning: Stochastic Optimizer: Maximum iterations (100) reached and the optimization hasn't converged yet.\n",
      "  warnings.warn(\n",
      "f:\\Anaconda\\AnacondaFiles\\envs\\TFGPU\\lib\\site-packages\\sklearn\\neural_network\\_multilayer_perceptron.py:692: ConvergenceWarning: Stochastic Optimizer: Maximum iterations (100) reached and the optimization hasn't converged yet.\n",
      "  warnings.warn(\n",
      "f:\\Anaconda\\AnacondaFiles\\envs\\TFGPU\\lib\\site-packages\\sklearn\\neural_network\\_multilayer_perceptron.py:692: ConvergenceWarning: Stochastic Optimizer: Maximum iterations (100) reached and the optimization hasn't converged yet.\n",
      "  warnings.warn(\n",
      "f:\\Anaconda\\AnacondaFiles\\envs\\TFGPU\\lib\\site-packages\\sklearn\\neural_network\\_multilayer_perceptron.py:692: ConvergenceWarning: Stochastic Optimizer: Maximum iterations (100) reached and the optimization hasn't converged yet.\n",
      "  warnings.warn(\n"
     ]
    },
    {
     "data": {
      "text/plain": [
       "{'classifier__batch_size': 32,\n",
       " 'classifier__hidden_layer_sizes': (20, 10),\n",
       " 'classifier__learning_rate_init': 0.01,\n",
       " 'classifier__max_iter': 500}"
      ]
     },
     "execution_count": 48,
     "metadata": {},
     "output_type": "execute_result"
    }
   ],
   "source": [
    "pipeline = Pipeline([('preprocessing', preprocess_pipeline), ('classifier', MLPRegressor())])\n",
    "\n",
    "param_grid = {\n",
    "            'classifier__hidden_layer_sizes': [(20,10)],\n",
    "            'classifier__learning_rate_init': [0.001, 0.01, 0.1],\n",
    "            'classifier__max_iter': [100, 500, 1000],\n",
    "            'classifier__batch_size': [8, 16,32],\n",
    "}\n",
    "\n",
    "grid_mlpreg = GridSearchCV(pipeline, param_grid, cv=kfold)\n",
    "\n",
    "clf2 = grid_mlpreg.fit(X_train, y_train)\n",
    "grid_mlpreg.best_params_"
   ]
  },
  {
   "cell_type": "code",
   "execution_count": 49,
   "metadata": {},
   "outputs": [],
   "source": [
    "accuracy_scores.append((\"MLPRegressor\", metrics.accuracy_score(y_true= y_test, y_pred=(clf2.predict(X_test) > 0.5).astype(\"int32\"))))"
   ]
  },
  {
   "cell_type": "code",
   "execution_count": 50,
   "metadata": {},
   "outputs": [],
   "source": [
    "# history = History()\n",
    "# model = Sequential()\n",
    "# model.add(Dense(10000,activation=\"elu\", input_shape=(X_train_neur.shape[1],)))\n",
    "# model.add(BatchNormalization())\n",
    "# model.add(Dense(5000,activation=\"elu\"))\n",
    "# model.add(BatchNormalization())\n",
    "# model.add(Dense(2500,activation=\"elu\"))\n",
    "# model.add(BatchNormalization())\n",
    "# model.add(Dense(1500,activation=\"sigmoid\"))\n",
    "# model.add(BatchNormalization())\n",
    "# model.add(Dense(15,activation=\"elu\"))\n",
    "# model.add(BatchNormalization())\n",
    "# model.add(Dense(1,activation=\"relu\"))\n",
    "# model.summary()"
   ]
  },
  {
   "cell_type": "code",
   "execution_count": 51,
   "metadata": {},
   "outputs": [
    {
     "name": "stdout",
     "output_type": "stream",
     "text": [
      "Model: \"sequential\"\n",
      "_________________________________________________________________\n",
      "Layer (type)                 Output Shape              Param #   \n",
      "=================================================================\n",
      "dense (Dense)                (None, 10000)             160000    \n",
      "_________________________________________________________________\n",
      "batch_normalization (BatchNo (None, 10000)             40000     \n",
      "_________________________________________________________________\n",
      "dropout (Dropout)            (None, 10000)             0         \n",
      "_________________________________________________________________\n",
      "dense_1 (Dense)              (None, 5000)              50005000  \n",
      "_________________________________________________________________\n",
      "batch_normalization_1 (Batch (None, 5000)              20000     \n",
      "_________________________________________________________________\n",
      "dropout_1 (Dropout)          (None, 5000)              0         \n",
      "_________________________________________________________________\n",
      "dense_2 (Dense)              (None, 2500)              12502500  \n",
      "_________________________________________________________________\n",
      "batch_normalization_2 (Batch (None, 2500)              10000     \n",
      "_________________________________________________________________\n",
      "dropout_2 (Dropout)          (None, 2500)              0         \n",
      "_________________________________________________________________\n",
      "dense_3 (Dense)              (None, 1500)              3751500   \n",
      "_________________________________________________________________\n",
      "batch_normalization_3 (Batch (None, 1500)              6000      \n",
      "_________________________________________________________________\n",
      "dropout_3 (Dropout)          (None, 1500)              0         \n",
      "_________________________________________________________________\n",
      "dense_4 (Dense)              (None, 15)                22515     \n",
      "_________________________________________________________________\n",
      "batch_normalization_4 (Batch (None, 15)                60        \n",
      "_________________________________________________________________\n",
      "dropout_4 (Dropout)          (None, 15)                0         \n",
      "_________________________________________________________________\n",
      "dense_5 (Dense)              (None, 1)                 16        \n",
      "=================================================================\n",
      "Total params: 66,517,591\n",
      "Trainable params: 66,479,561\n",
      "Non-trainable params: 38,030\n",
      "_________________________________________________________________\n"
     ]
    },
    {
     "name": "stderr",
     "output_type": "stream",
     "text": [
      "f:\\Anaconda\\AnacondaFiles\\envs\\TFGPU\\lib\\site-packages\\keras\\optimizer_v2\\optimizer_v2.py:355: UserWarning: The `lr` argument is deprecated, use `learning_rate` instead.\n",
      "  warnings.warn(\n"
     ]
    },
    {
     "name": "stdout",
     "output_type": "stream",
     "text": [
      "Epoch 1/1000\n",
      "13/13 [==============================] - 8s 77ms/step - loss: 0.8429 - accuracy: 0.5019 - val_loss: 0.6926 - val_accuracy: 0.5444\n",
      "Epoch 2/1000\n",
      "13/13 [==============================] - 1s 59ms/step - loss: 0.7559 - accuracy: 0.5259 - val_loss: 0.6983 - val_accuracy: 0.5167\n",
      "Epoch 3/1000\n",
      "13/13 [==============================] - 1s 60ms/step - loss: 0.7491 - accuracy: 0.5154 - val_loss: 0.7053 - val_accuracy: 0.5167\n",
      "Epoch 4/1000\n",
      "13/13 [==============================] - 1s 59ms/step - loss: 0.7533 - accuracy: 0.5278 - val_loss: 0.7146 - val_accuracy: 0.5167\n",
      "Epoch 5/1000\n",
      "13/13 [==============================] - 1s 58ms/step - loss: 0.7454 - accuracy: 0.5364 - val_loss: 0.7177 - val_accuracy: 0.5167\n",
      "Epoch 6/1000\n",
      "13/13 [==============================] - 1s 59ms/step - loss: 0.7431 - accuracy: 0.5358 - val_loss: 0.7291 - val_accuracy: 0.5167\n",
      "Epoch 7/1000\n",
      "13/13 [==============================] - 1s 59ms/step - loss: 0.7498 - accuracy: 0.5358 - val_loss: 0.7263 - val_accuracy: 0.5167\n",
      "Epoch 8/1000\n",
      "13/13 [==============================] - 1s 59ms/step - loss: 0.7396 - accuracy: 0.5512 - val_loss: 0.7259 - val_accuracy: 0.5167\n",
      "Epoch 9/1000\n",
      "13/13 [==============================] - 1s 59ms/step - loss: 0.7427 - accuracy: 0.5481 - val_loss: 0.7288 - val_accuracy: 0.5167\n",
      "Epoch 10/1000\n",
      "13/13 [==============================] - 1s 59ms/step - loss: 0.7338 - accuracy: 0.5395 - val_loss: 0.7304 - val_accuracy: 0.5167\n",
      "Epoch 11/1000\n",
      "13/13 [==============================] - 1s 59ms/step - loss: 0.7212 - accuracy: 0.5407 - val_loss: 0.7380 - val_accuracy: 0.5167\n",
      "Epoch 12/1000\n",
      "13/13 [==============================] - 1s 59ms/step - loss: 0.7255 - accuracy: 0.5463 - val_loss: 0.7306 - val_accuracy: 0.5167\n",
      "Epoch 13/1000\n",
      "13/13 [==============================] - 1s 59ms/step - loss: 0.7170 - accuracy: 0.5630 - val_loss: 0.7233 - val_accuracy: 0.5167\n",
      "Epoch 14/1000\n",
      "13/13 [==============================] - 1s 60ms/step - loss: 0.7278 - accuracy: 0.5438 - val_loss: 0.7244 - val_accuracy: 0.5167\n",
      "Epoch 15/1000\n",
      "13/13 [==============================] - 1s 59ms/step - loss: 0.7236 - accuracy: 0.5556 - val_loss: 0.7201 - val_accuracy: 0.5167\n",
      "Epoch 16/1000\n",
      "13/13 [==============================] - 1s 59ms/step - loss: 0.7049 - accuracy: 0.5599 - val_loss: 0.7129 - val_accuracy: 0.5222\n",
      "Epoch 17/1000\n",
      "13/13 [==============================] - 1s 59ms/step - loss: 0.7063 - accuracy: 0.5716 - val_loss: 0.7148 - val_accuracy: 0.5222\n",
      "Epoch 18/1000\n",
      "13/13 [==============================] - 1s 59ms/step - loss: 0.7269 - accuracy: 0.5463 - val_loss: 0.7084 - val_accuracy: 0.5333\n",
      "Epoch 19/1000\n",
      "13/13 [==============================] - 1s 59ms/step - loss: 0.7298 - accuracy: 0.5500 - val_loss: 0.7127 - val_accuracy: 0.5333\n",
      "Epoch 20/1000\n",
      "13/13 [==============================] - 1s 59ms/step - loss: 0.7109 - accuracy: 0.5735 - val_loss: 0.7060 - val_accuracy: 0.5167\n",
      "Epoch 21/1000\n",
      "13/13 [==============================] - 1s 59ms/step - loss: 0.7059 - accuracy: 0.5500 - val_loss: 0.7051 - val_accuracy: 0.5056\n",
      "Epoch 22/1000\n",
      "13/13 [==============================] - 1s 59ms/step - loss: 0.7000 - accuracy: 0.5901 - val_loss: 0.7015 - val_accuracy: 0.5333\n",
      "Epoch 23/1000\n",
      "13/13 [==============================] - 1s 59ms/step - loss: 0.6952 - accuracy: 0.5685 - val_loss: 0.7015 - val_accuracy: 0.5111\n",
      "Epoch 24/1000\n",
      "13/13 [==============================] - 1s 59ms/step - loss: 0.6831 - accuracy: 0.5815 - val_loss: 0.7001 - val_accuracy: 0.5389\n",
      "Epoch 25/1000\n",
      "13/13 [==============================] - 1s 59ms/step - loss: 0.6796 - accuracy: 0.5802 - val_loss: 0.7078 - val_accuracy: 0.5000\n",
      "Epoch 26/1000\n",
      "13/13 [==============================] - 1s 59ms/step - loss: 0.6807 - accuracy: 0.5994 - val_loss: 0.6968 - val_accuracy: 0.5833\n",
      "Epoch 27/1000\n",
      "13/13 [==============================] - 1s 59ms/step - loss: 0.6816 - accuracy: 0.6031 - val_loss: 0.7045 - val_accuracy: 0.5722\n",
      "Epoch 28/1000\n",
      "13/13 [==============================] - 1s 59ms/step - loss: 0.6823 - accuracy: 0.6037 - val_loss: 0.7095 - val_accuracy: 0.5333\n",
      "Epoch 29/1000\n",
      "13/13 [==============================] - 1s 60ms/step - loss: 0.6859 - accuracy: 0.5981 - val_loss: 0.7002 - val_accuracy: 0.5389\n",
      "Epoch 30/1000\n",
      "13/13 [==============================] - 1s 59ms/step - loss: 0.6945 - accuracy: 0.5809 - val_loss: 0.7084 - val_accuracy: 0.5167\n",
      "Epoch 31/1000\n",
      "13/13 [==============================] - 1s 59ms/step - loss: 0.6774 - accuracy: 0.5883 - val_loss: 0.7031 - val_accuracy: 0.5167\n",
      "Epoch 32/1000\n",
      "13/13 [==============================] - 1s 59ms/step - loss: 0.6785 - accuracy: 0.5926 - val_loss: 0.7203 - val_accuracy: 0.4944\n",
      "Epoch 33/1000\n",
      "13/13 [==============================] - 1s 59ms/step - loss: 0.6809 - accuracy: 0.6025 - val_loss: 0.7084 - val_accuracy: 0.5389\n",
      "Epoch 34/1000\n",
      "13/13 [==============================] - 1s 59ms/step - loss: 0.6661 - accuracy: 0.5969 - val_loss: 0.6890 - val_accuracy: 0.5389\n",
      "Epoch 35/1000\n",
      "13/13 [==============================] - 1s 59ms/step - loss: 0.6632 - accuracy: 0.6130 - val_loss: 0.7124 - val_accuracy: 0.5278\n",
      "Epoch 36/1000\n",
      "13/13 [==============================] - 1s 60ms/step - loss: 0.6734 - accuracy: 0.5981 - val_loss: 0.7090 - val_accuracy: 0.5000\n",
      "Epoch 37/1000\n",
      "13/13 [==============================] - 1s 60ms/step - loss: 0.6513 - accuracy: 0.6290 - val_loss: 0.7028 - val_accuracy: 0.5778\n",
      "Epoch 38/1000\n",
      "13/13 [==============================] - 1s 59ms/step - loss: 0.6679 - accuracy: 0.5926 - val_loss: 0.6994 - val_accuracy: 0.5611\n",
      "Epoch 39/1000\n",
      "13/13 [==============================] - 1s 59ms/step - loss: 0.6506 - accuracy: 0.6333 - val_loss: 0.7100 - val_accuracy: 0.5611\n",
      "Epoch 40/1000\n",
      "13/13 [==============================] - 1s 59ms/step - loss: 0.6573 - accuracy: 0.6272 - val_loss: 0.7009 - val_accuracy: 0.5556\n",
      "Epoch 41/1000\n",
      "13/13 [==============================] - 1s 59ms/step - loss: 0.6714 - accuracy: 0.6031 - val_loss: 0.7005 - val_accuracy: 0.5444\n",
      "Epoch 42/1000\n",
      "13/13 [==============================] - 1s 59ms/step - loss: 0.6588 - accuracy: 0.6327 - val_loss: 0.7082 - val_accuracy: 0.5667\n",
      "Epoch 43/1000\n",
      "13/13 [==============================] - 1s 59ms/step - loss: 0.6464 - accuracy: 0.6426 - val_loss: 0.7208 - val_accuracy: 0.5278\n",
      "Epoch 44/1000\n",
      "13/13 [==============================] - 1s 60ms/step - loss: 0.6407 - accuracy: 0.6327 - val_loss: 0.6952 - val_accuracy: 0.6000\n",
      "Epoch 45/1000\n",
      "13/13 [==============================] - 1s 59ms/step - loss: 0.6505 - accuracy: 0.6315 - val_loss: 0.7295 - val_accuracy: 0.5278\n",
      "Epoch 46/1000\n",
      "13/13 [==============================] - 1s 59ms/step - loss: 0.6351 - accuracy: 0.6333 - val_loss: 0.7169 - val_accuracy: 0.5389\n",
      "Epoch 47/1000\n",
      "13/13 [==============================] - 1s 59ms/step - loss: 0.6304 - accuracy: 0.6401 - val_loss: 0.7157 - val_accuracy: 0.5556\n",
      "Epoch 48/1000\n",
      "13/13 [==============================] - 1s 60ms/step - loss: 0.6194 - accuracy: 0.6432 - val_loss: 0.7548 - val_accuracy: 0.5389\n",
      "Epoch 49/1000\n",
      "13/13 [==============================] - 1s 59ms/step - loss: 0.6348 - accuracy: 0.6432 - val_loss: 0.7213 - val_accuracy: 0.5111\n",
      "Epoch 50/1000\n",
      "13/13 [==============================] - 1s 59ms/step - loss: 0.6163 - accuracy: 0.6630 - val_loss: 0.7688 - val_accuracy: 0.5500\n",
      "Epoch 51/1000\n",
      "13/13 [==============================] - 1s 59ms/step - loss: 0.6314 - accuracy: 0.6302 - val_loss: 0.7481 - val_accuracy: 0.5389\n",
      "Epoch 52/1000\n",
      "13/13 [==============================] - 1s 59ms/step - loss: 0.6344 - accuracy: 0.6395 - val_loss: 0.7242 - val_accuracy: 0.5167\n",
      "Epoch 53/1000\n",
      "13/13 [==============================] - 1s 59ms/step - loss: 0.6174 - accuracy: 0.6488 - val_loss: 0.7395 - val_accuracy: 0.5111\n",
      "Epoch 54/1000\n",
      "13/13 [==============================] - 1s 59ms/step - loss: 0.6178 - accuracy: 0.6556 - val_loss: 0.7505 - val_accuracy: 0.5389\n",
      "Epoch 55/1000\n",
      "13/13 [==============================] - 1s 59ms/step - loss: 0.6075 - accuracy: 0.6716 - val_loss: 0.7653 - val_accuracy: 0.5167\n",
      "Epoch 56/1000\n",
      "13/13 [==============================] - 1s 58ms/step - loss: 0.6148 - accuracy: 0.6574 - val_loss: 0.7633 - val_accuracy: 0.5278\n",
      "Epoch 57/1000\n",
      "13/13 [==============================] - 1s 59ms/step - loss: 0.6096 - accuracy: 0.6605 - val_loss: 0.7320 - val_accuracy: 0.5333\n",
      "Epoch 58/1000\n",
      "13/13 [==============================] - 1s 59ms/step - loss: 0.6019 - accuracy: 0.6691 - val_loss: 0.7405 - val_accuracy: 0.5611\n",
      "Epoch 59/1000\n",
      "13/13 [==============================] - 1s 59ms/step - loss: 0.6018 - accuracy: 0.6753 - val_loss: 0.7256 - val_accuracy: 0.5667\n",
      "Epoch 60/1000\n",
      "13/13 [==============================] - 1s 59ms/step - loss: 0.6092 - accuracy: 0.6691 - val_loss: 0.7091 - val_accuracy: 0.6167\n",
      "Epoch 61/1000\n",
      "13/13 [==============================] - 1s 59ms/step - loss: 0.5875 - accuracy: 0.6784 - val_loss: 0.7367 - val_accuracy: 0.5500\n",
      "Epoch 62/1000\n",
      "13/13 [==============================] - 1s 59ms/step - loss: 0.5931 - accuracy: 0.6784 - val_loss: 0.7595 - val_accuracy: 0.5444\n",
      "Epoch 63/1000\n",
      "13/13 [==============================] - 1s 59ms/step - loss: 0.5845 - accuracy: 0.6852 - val_loss: 0.7414 - val_accuracy: 0.5667\n",
      "Epoch 64/1000\n",
      "13/13 [==============================] - 1s 59ms/step - loss: 0.5850 - accuracy: 0.6735 - val_loss: 0.7507 - val_accuracy: 0.5778\n",
      "Epoch 65/1000\n",
      "13/13 [==============================] - 1s 59ms/step - loss: 0.5812 - accuracy: 0.6907 - val_loss: 0.7742 - val_accuracy: 0.5667\n",
      "Epoch 66/1000\n",
      "13/13 [==============================] - 1s 59ms/step - loss: 0.5728 - accuracy: 0.7056 - val_loss: 0.7410 - val_accuracy: 0.5611\n",
      "Epoch 67/1000\n",
      "13/13 [==============================] - 1s 59ms/step - loss: 0.5851 - accuracy: 0.6710 - val_loss: 0.7900 - val_accuracy: 0.5000\n",
      "Epoch 68/1000\n",
      "13/13 [==============================] - 1s 59ms/step - loss: 0.5853 - accuracy: 0.6809 - val_loss: 0.7873 - val_accuracy: 0.5222\n",
      "Epoch 69/1000\n",
      "13/13 [==============================] - 1s 59ms/step - loss: 0.5640 - accuracy: 0.6994 - val_loss: 0.7585 - val_accuracy: 0.6056\n",
      "Epoch 70/1000\n",
      "13/13 [==============================] - 1s 60ms/step - loss: 0.5677 - accuracy: 0.7068 - val_loss: 0.7436 - val_accuracy: 0.5833\n",
      "Epoch 71/1000\n",
      "13/13 [==============================] - 1s 60ms/step - loss: 0.5580 - accuracy: 0.7099 - val_loss: 0.7573 - val_accuracy: 0.5611\n",
      "Epoch 72/1000\n",
      "13/13 [==============================] - 1s 59ms/step - loss: 0.5695 - accuracy: 0.7000 - val_loss: 0.7566 - val_accuracy: 0.5778\n",
      "Epoch 73/1000\n",
      "13/13 [==============================] - 1s 59ms/step - loss: 0.5633 - accuracy: 0.7025 - val_loss: 0.7527 - val_accuracy: 0.5944\n",
      "Epoch 74/1000\n",
      "13/13 [==============================] - 1s 59ms/step - loss: 0.5612 - accuracy: 0.7080 - val_loss: 0.7858 - val_accuracy: 0.5389\n",
      "Epoch 75/1000\n",
      "13/13 [==============================] - 1s 59ms/step - loss: 0.5460 - accuracy: 0.7093 - val_loss: 0.8288 - val_accuracy: 0.5556\n",
      "Epoch 76/1000\n",
      "13/13 [==============================] - 1s 59ms/step - loss: 0.5617 - accuracy: 0.7000 - val_loss: 0.7980 - val_accuracy: 0.5444\n",
      "Epoch 77/1000\n",
      "13/13 [==============================] - 1s 60ms/step - loss: 0.5379 - accuracy: 0.7259 - val_loss: 0.8185 - val_accuracy: 0.5444\n",
      "Epoch 78/1000\n",
      "13/13 [==============================] - 1s 58ms/step - loss: 0.5341 - accuracy: 0.7358 - val_loss: 0.8063 - val_accuracy: 0.5889\n",
      "Epoch 79/1000\n",
      "13/13 [==============================] - 1s 59ms/step - loss: 0.5323 - accuracy: 0.7235 - val_loss: 0.7859 - val_accuracy: 0.5722\n",
      "Epoch 80/1000\n",
      "13/13 [==============================] - 1s 59ms/step - loss: 0.5364 - accuracy: 0.7253 - val_loss: 0.8039 - val_accuracy: 0.5500\n",
      "Epoch 81/1000\n",
      "13/13 [==============================] - 1s 59ms/step - loss: 0.5299 - accuracy: 0.7377 - val_loss: 0.8272 - val_accuracy: 0.5611\n",
      "Epoch 82/1000\n",
      "13/13 [==============================] - 1s 59ms/step - loss: 0.5234 - accuracy: 0.7302 - val_loss: 0.7638 - val_accuracy: 0.5778\n",
      "Epoch 83/1000\n",
      "13/13 [==============================] - 1s 60ms/step - loss: 0.5221 - accuracy: 0.7278 - val_loss: 0.7801 - val_accuracy: 0.5778\n",
      "Epoch 84/1000\n",
      "13/13 [==============================] - 1s 59ms/step - loss: 0.5078 - accuracy: 0.7525 - val_loss: 0.8307 - val_accuracy: 0.5500\n",
      "Epoch 85/1000\n",
      "13/13 [==============================] - 1s 59ms/step - loss: 0.5192 - accuracy: 0.7401 - val_loss: 0.8246 - val_accuracy: 0.5444\n",
      "Epoch 86/1000\n",
      "13/13 [==============================] - 1s 60ms/step - loss: 0.5272 - accuracy: 0.7241 - val_loss: 0.8554 - val_accuracy: 0.5278\n",
      "Epoch 87/1000\n",
      "13/13 [==============================] - 1s 59ms/step - loss: 0.5140 - accuracy: 0.7444 - val_loss: 0.8384 - val_accuracy: 0.5167\n",
      "Epoch 88/1000\n",
      "13/13 [==============================] - 1s 59ms/step - loss: 0.5169 - accuracy: 0.7475 - val_loss: 0.7883 - val_accuracy: 0.5667\n",
      "Epoch 89/1000\n",
      "13/13 [==============================] - 1s 59ms/step - loss: 0.5079 - accuracy: 0.7451 - val_loss: 0.8501 - val_accuracy: 0.5278\n",
      "Epoch 90/1000\n",
      "13/13 [==============================] - 1s 58ms/step - loss: 0.5143 - accuracy: 0.7364 - val_loss: 0.8092 - val_accuracy: 0.5944\n",
      "Epoch 91/1000\n",
      "13/13 [==============================] - 1s 58ms/step - loss: 0.4968 - accuracy: 0.7506 - val_loss: 0.8674 - val_accuracy: 0.5333\n",
      "Epoch 92/1000\n",
      "13/13 [==============================] - 1s 58ms/step - loss: 0.5171 - accuracy: 0.7321 - val_loss: 0.8317 - val_accuracy: 0.5611\n",
      "Epoch 93/1000\n",
      "13/13 [==============================] - 1s 58ms/step - loss: 0.5025 - accuracy: 0.7463 - val_loss: 0.8259 - val_accuracy: 0.5778\n",
      "Epoch 94/1000\n",
      "13/13 [==============================] - 1s 58ms/step - loss: 0.4770 - accuracy: 0.7691 - val_loss: 0.8884 - val_accuracy: 0.5333\n",
      "Epoch 95/1000\n",
      "13/13 [==============================] - 1s 59ms/step - loss: 0.4866 - accuracy: 0.7537 - val_loss: 0.8679 - val_accuracy: 0.5444\n",
      "Epoch 96/1000\n",
      "13/13 [==============================] - 1s 60ms/step - loss: 0.4900 - accuracy: 0.7519 - val_loss: 0.8197 - val_accuracy: 0.5778\n",
      "Epoch 97/1000\n",
      "13/13 [==============================] - 1s 60ms/step - loss: 0.4651 - accuracy: 0.7772 - val_loss: 0.8039 - val_accuracy: 0.6278\n",
      "Epoch 98/1000\n",
      "13/13 [==============================] - 1s 59ms/step - loss: 0.4764 - accuracy: 0.7716 - val_loss: 0.8100 - val_accuracy: 0.5833\n",
      "Epoch 99/1000\n",
      "13/13 [==============================] - 1s 59ms/step - loss: 0.4876 - accuracy: 0.7562 - val_loss: 0.8764 - val_accuracy: 0.5167\n",
      "Epoch 100/1000\n",
      "13/13 [==============================] - 1s 59ms/step - loss: 0.4652 - accuracy: 0.7790 - val_loss: 0.8844 - val_accuracy: 0.5222\n",
      "Epoch 101/1000\n",
      "13/13 [==============================] - 1s 59ms/step - loss: 0.4775 - accuracy: 0.7685 - val_loss: 0.8296 - val_accuracy: 0.5667\n",
      "Epoch 102/1000\n",
      "13/13 [==============================] - 1s 59ms/step - loss: 0.4689 - accuracy: 0.7784 - val_loss: 0.8706 - val_accuracy: 0.5389\n",
      "Epoch 103/1000\n",
      "13/13 [==============================] - 1s 59ms/step - loss: 0.4694 - accuracy: 0.7710 - val_loss: 0.9181 - val_accuracy: 0.5333\n",
      "Epoch 104/1000\n",
      "13/13 [==============================] - 1s 60ms/step - loss: 0.4553 - accuracy: 0.7778 - val_loss: 0.8674 - val_accuracy: 0.5444\n",
      "Epoch 105/1000\n",
      "13/13 [==============================] - 1s 59ms/step - loss: 0.4516 - accuracy: 0.7778 - val_loss: 0.8040 - val_accuracy: 0.5611\n",
      "Epoch 106/1000\n",
      "13/13 [==============================] - 1s 59ms/step - loss: 0.4589 - accuracy: 0.7840 - val_loss: 0.8315 - val_accuracy: 0.5833\n",
      "Epoch 107/1000\n",
      "13/13 [==============================] - 1s 59ms/step - loss: 0.4529 - accuracy: 0.7722 - val_loss: 0.8508 - val_accuracy: 0.6000\n",
      "Epoch 108/1000\n",
      "13/13 [==============================] - 1s 58ms/step - loss: 0.4363 - accuracy: 0.7951 - val_loss: 0.8945 - val_accuracy: 0.5722\n",
      "Epoch 109/1000\n",
      "13/13 [==============================] - 1s 59ms/step - loss: 0.4462 - accuracy: 0.7889 - val_loss: 0.8940 - val_accuracy: 0.5222\n",
      "Epoch 110/1000\n",
      "13/13 [==============================] - 1s 59ms/step - loss: 0.4448 - accuracy: 0.8000 - val_loss: 0.8832 - val_accuracy: 0.5333\n",
      "Epoch 111/1000\n",
      "13/13 [==============================] - 1s 59ms/step - loss: 0.4458 - accuracy: 0.7784 - val_loss: 0.8754 - val_accuracy: 0.5667\n",
      "Epoch 112/1000\n",
      "13/13 [==============================] - 1s 59ms/step - loss: 0.4559 - accuracy: 0.7833 - val_loss: 0.8672 - val_accuracy: 0.5778\n",
      "Epoch 113/1000\n",
      "13/13 [==============================] - 1s 60ms/step - loss: 0.4435 - accuracy: 0.7895 - val_loss: 0.8435 - val_accuracy: 0.5889\n",
      "Epoch 114/1000\n",
      "13/13 [==============================] - 1s 59ms/step - loss: 0.4207 - accuracy: 0.8086 - val_loss: 0.8878 - val_accuracy: 0.5444\n",
      "Epoch 115/1000\n",
      "13/13 [==============================] - 1s 59ms/step - loss: 0.4434 - accuracy: 0.7951 - val_loss: 0.9050 - val_accuracy: 0.5444\n",
      "Epoch 116/1000\n",
      "13/13 [==============================] - 1s 59ms/step - loss: 0.4268 - accuracy: 0.7981 - val_loss: 0.8948 - val_accuracy: 0.5389\n",
      "Epoch 117/1000\n",
      "13/13 [==============================] - 1s 58ms/step - loss: 0.4196 - accuracy: 0.8105 - val_loss: 0.8674 - val_accuracy: 0.5611\n",
      "Epoch 118/1000\n",
      "13/13 [==============================] - 1s 59ms/step - loss: 0.4169 - accuracy: 0.8105 - val_loss: 0.8594 - val_accuracy: 0.5500\n",
      "Epoch 119/1000\n",
      "13/13 [==============================] - 1s 59ms/step - loss: 0.4062 - accuracy: 0.8099 - val_loss: 0.8758 - val_accuracy: 0.5611\n",
      "Epoch 120/1000\n",
      "13/13 [==============================] - 1s 60ms/step - loss: 0.4005 - accuracy: 0.8191 - val_loss: 0.8978 - val_accuracy: 0.5556\n",
      "Epoch 121/1000\n",
      "13/13 [==============================] - 1s 59ms/step - loss: 0.4043 - accuracy: 0.8173 - val_loss: 0.8982 - val_accuracy: 0.5556\n",
      "Epoch 122/1000\n",
      "13/13 [==============================] - 1s 59ms/step - loss: 0.4179 - accuracy: 0.8037 - val_loss: 0.9202 - val_accuracy: 0.5500\n",
      "Epoch 123/1000\n",
      "13/13 [==============================] - 1s 59ms/step - loss: 0.4037 - accuracy: 0.8259 - val_loss: 0.9187 - val_accuracy: 0.5500\n",
      "Epoch 124/1000\n",
      "13/13 [==============================] - 1s 59ms/step - loss: 0.3969 - accuracy: 0.8259 - val_loss: 0.9260 - val_accuracy: 0.5778\n",
      "Epoch 125/1000\n",
      "13/13 [==============================] - 1s 60ms/step - loss: 0.4161 - accuracy: 0.8068 - val_loss: 0.9191 - val_accuracy: 0.5500\n",
      "Epoch 126/1000\n",
      "13/13 [==============================] - 1s 59ms/step - loss: 0.3853 - accuracy: 0.8284 - val_loss: 0.8896 - val_accuracy: 0.5778\n",
      "Epoch 127/1000\n",
      "13/13 [==============================] - 1s 59ms/step - loss: 0.3928 - accuracy: 0.8191 - val_loss: 0.9060 - val_accuracy: 0.5667\n",
      "Epoch 128/1000\n",
      "13/13 [==============================] - 1s 60ms/step - loss: 0.3876 - accuracy: 0.8204 - val_loss: 0.9249 - val_accuracy: 0.5500\n",
      "Epoch 129/1000\n",
      "13/13 [==============================] - 1s 59ms/step - loss: 0.3697 - accuracy: 0.8364 - val_loss: 0.9304 - val_accuracy: 0.5333\n",
      "Epoch 130/1000\n",
      "13/13 [==============================] - 1s 59ms/step - loss: 0.3829 - accuracy: 0.8278 - val_loss: 0.9130 - val_accuracy: 0.5778\n",
      "Epoch 131/1000\n",
      "13/13 [==============================] - 1s 59ms/step - loss: 0.3989 - accuracy: 0.8043 - val_loss: 0.9385 - val_accuracy: 0.5444\n",
      "Epoch 132/1000\n",
      "13/13 [==============================] - 1s 59ms/step - loss: 0.3868 - accuracy: 0.8259 - val_loss: 0.9382 - val_accuracy: 0.5833\n",
      "Epoch 133/1000\n",
      "13/13 [==============================] - 1s 59ms/step - loss: 0.3733 - accuracy: 0.8377 - val_loss: 0.9172 - val_accuracy: 0.5722\n",
      "Epoch 134/1000\n",
      "13/13 [==============================] - 1s 59ms/step - loss: 0.3778 - accuracy: 0.8315 - val_loss: 0.8750 - val_accuracy: 0.5444\n",
      "Epoch 135/1000\n",
      "13/13 [==============================] - 1s 59ms/step - loss: 0.3780 - accuracy: 0.8327 - val_loss: 0.9218 - val_accuracy: 0.5556\n",
      "Epoch 136/1000\n",
      "13/13 [==============================] - 1s 59ms/step - loss: 0.3493 - accuracy: 0.8531 - val_loss: 0.9584 - val_accuracy: 0.5333\n",
      "Epoch 137/1000\n",
      "13/13 [==============================] - 1s 59ms/step - loss: 0.3681 - accuracy: 0.8352 - val_loss: 0.9578 - val_accuracy: 0.5611\n",
      "Epoch 138/1000\n",
      "13/13 [==============================] - 1s 58ms/step - loss: 0.3790 - accuracy: 0.8358 - val_loss: 0.9204 - val_accuracy: 0.5778\n",
      "Epoch 139/1000\n",
      "13/13 [==============================] - 1s 59ms/step - loss: 0.3503 - accuracy: 0.8586 - val_loss: 0.9605 - val_accuracy: 0.5667\n",
      "Epoch 140/1000\n",
      "13/13 [==============================] - 1s 59ms/step - loss: 0.3782 - accuracy: 0.8333 - val_loss: 0.9455 - val_accuracy: 0.5667\n",
      "Epoch 141/1000\n",
      "13/13 [==============================] - 1s 59ms/step - loss: 0.3474 - accuracy: 0.8457 - val_loss: 0.9751 - val_accuracy: 0.5889\n",
      "Epoch 142/1000\n",
      "13/13 [==============================] - 1s 59ms/step - loss: 0.3506 - accuracy: 0.8537 - val_loss: 0.9460 - val_accuracy: 0.5556\n",
      "Epoch 143/1000\n",
      "13/13 [==============================] - 1s 59ms/step - loss: 0.3434 - accuracy: 0.8580 - val_loss: 0.9183 - val_accuracy: 0.5722\n",
      "Epoch 144/1000\n",
      "13/13 [==============================] - 1s 59ms/step - loss: 0.3543 - accuracy: 0.8525 - val_loss: 0.9109 - val_accuracy: 0.5889\n",
      "Epoch 145/1000\n",
      "13/13 [==============================] - 1s 59ms/step - loss: 0.3516 - accuracy: 0.8605 - val_loss: 0.9056 - val_accuracy: 0.5778\n",
      "Epoch 146/1000\n",
      "13/13 [==============================] - 1s 58ms/step - loss: 0.3400 - accuracy: 0.8525 - val_loss: 1.0100 - val_accuracy: 0.5611\n",
      "Epoch 147/1000\n",
      "13/13 [==============================] - 1s 59ms/step - loss: 0.3543 - accuracy: 0.8432 - val_loss: 0.9913 - val_accuracy: 0.5389\n",
      "Epoch 148/1000\n",
      "13/13 [==============================] - 1s 59ms/step - loss: 0.3265 - accuracy: 0.8660 - val_loss: 0.9796 - val_accuracy: 0.5722\n",
      "Epoch 149/1000\n",
      "13/13 [==============================] - 1s 59ms/step - loss: 0.3512 - accuracy: 0.8537 - val_loss: 0.9885 - val_accuracy: 0.5278\n",
      "Epoch 150/1000\n",
      "13/13 [==============================] - 1s 59ms/step - loss: 0.3288 - accuracy: 0.8685 - val_loss: 0.9630 - val_accuracy: 0.5500\n",
      "Epoch 151/1000\n",
      "13/13 [==============================] - 1s 60ms/step - loss: 0.3354 - accuracy: 0.8593 - val_loss: 1.0138 - val_accuracy: 0.5556\n",
      "Epoch 152/1000\n",
      "13/13 [==============================] - 1s 59ms/step - loss: 0.3322 - accuracy: 0.8568 - val_loss: 0.9721 - val_accuracy: 0.5556\n",
      "Epoch 153/1000\n",
      "13/13 [==============================] - 1s 59ms/step - loss: 0.3349 - accuracy: 0.8506 - val_loss: 0.9479 - val_accuracy: 0.5778\n",
      "Epoch 154/1000\n",
      "13/13 [==============================] - 1s 59ms/step - loss: 0.3194 - accuracy: 0.8722 - val_loss: 0.9888 - val_accuracy: 0.5444\n",
      "Epoch 155/1000\n",
      "13/13 [==============================] - 1s 59ms/step - loss: 0.3146 - accuracy: 0.8660 - val_loss: 0.9575 - val_accuracy: 0.5333\n",
      "Epoch 156/1000\n",
      "13/13 [==============================] - 1s 59ms/step - loss: 0.3081 - accuracy: 0.8790 - val_loss: 1.0282 - val_accuracy: 0.5944\n",
      "Epoch 157/1000\n",
      "13/13 [==============================] - 1s 59ms/step - loss: 0.3073 - accuracy: 0.8790 - val_loss: 1.0224 - val_accuracy: 0.5556\n",
      "Epoch 158/1000\n",
      "13/13 [==============================] - 1s 59ms/step - loss: 0.2962 - accuracy: 0.8840 - val_loss: 1.0126 - val_accuracy: 0.5389\n",
      "Epoch 159/1000\n",
      "13/13 [==============================] - 1s 59ms/step - loss: 0.3046 - accuracy: 0.8809 - val_loss: 0.9397 - val_accuracy: 0.5833\n",
      "Epoch 160/1000\n",
      "13/13 [==============================] - 1s 59ms/step - loss: 0.3105 - accuracy: 0.8728 - val_loss: 1.0356 - val_accuracy: 0.5333\n",
      "Epoch 161/1000\n",
      "13/13 [==============================] - 1s 59ms/step - loss: 0.3193 - accuracy: 0.8722 - val_loss: 0.9349 - val_accuracy: 0.5556\n",
      "Epoch 162/1000\n",
      "13/13 [==============================] - 1s 59ms/step - loss: 0.2996 - accuracy: 0.8765 - val_loss: 0.9327 - val_accuracy: 0.5611\n",
      "Epoch 163/1000\n",
      "13/13 [==============================] - 1s 59ms/step - loss: 0.3019 - accuracy: 0.8802 - val_loss: 0.9957 - val_accuracy: 0.5556\n",
      "Epoch 164/1000\n",
      "13/13 [==============================] - 1s 59ms/step - loss: 0.3054 - accuracy: 0.8833 - val_loss: 1.1446 - val_accuracy: 0.5222\n",
      "Epoch 165/1000\n",
      "13/13 [==============================] - 1s 58ms/step - loss: 0.2878 - accuracy: 0.8926 - val_loss: 0.9697 - val_accuracy: 0.5500\n",
      "Epoch 166/1000\n",
      "13/13 [==============================] - 1s 59ms/step - loss: 0.2888 - accuracy: 0.8926 - val_loss: 1.0368 - val_accuracy: 0.5222\n",
      "Epoch 167/1000\n",
      "13/13 [==============================] - 1s 59ms/step - loss: 0.2960 - accuracy: 0.8833 - val_loss: 1.0503 - val_accuracy: 0.5222\n",
      "Epoch 168/1000\n",
      "13/13 [==============================] - 1s 58ms/step - loss: 0.2888 - accuracy: 0.8870 - val_loss: 0.9994 - val_accuracy: 0.5833\n",
      "Epoch 169/1000\n",
      "13/13 [==============================] - 1s 60ms/step - loss: 0.2942 - accuracy: 0.8846 - val_loss: 1.0439 - val_accuracy: 0.5611\n",
      "Epoch 170/1000\n",
      "13/13 [==============================] - 1s 59ms/step - loss: 0.2977 - accuracy: 0.8827 - val_loss: 0.9899 - val_accuracy: 0.5667\n",
      "Epoch 171/1000\n",
      "13/13 [==============================] - 1s 60ms/step - loss: 0.2903 - accuracy: 0.8840 - val_loss: 0.9593 - val_accuracy: 0.5667\n",
      "Epoch 172/1000\n",
      "13/13 [==============================] - 1s 59ms/step - loss: 0.2798 - accuracy: 0.8821 - val_loss: 0.9291 - val_accuracy: 0.5667\n",
      "Epoch 173/1000\n",
      "13/13 [==============================] - 1s 59ms/step - loss: 0.2698 - accuracy: 0.9000 - val_loss: 0.9926 - val_accuracy: 0.5833\n",
      "Epoch 174/1000\n",
      "13/13 [==============================] - 1s 59ms/step - loss: 0.2930 - accuracy: 0.8858 - val_loss: 1.0181 - val_accuracy: 0.5333\n",
      "Epoch 175/1000\n",
      "13/13 [==============================] - 1s 59ms/step - loss: 0.2843 - accuracy: 0.8914 - val_loss: 1.0267 - val_accuracy: 0.5667\n",
      "Epoch 176/1000\n",
      "13/13 [==============================] - 1s 59ms/step - loss: 0.2618 - accuracy: 0.9068 - val_loss: 1.0015 - val_accuracy: 0.5333\n",
      "Epoch 177/1000\n",
      "13/13 [==============================] - 1s 59ms/step - loss: 0.2652 - accuracy: 0.8988 - val_loss: 0.9893 - val_accuracy: 0.5833\n",
      "Epoch 178/1000\n",
      "13/13 [==============================] - 1s 59ms/step - loss: 0.2787 - accuracy: 0.8895 - val_loss: 0.9918 - val_accuracy: 0.5722\n",
      "Epoch 179/1000\n",
      "13/13 [==============================] - 1s 60ms/step - loss: 0.2611 - accuracy: 0.9049 - val_loss: 1.0409 - val_accuracy: 0.5667\n",
      "Epoch 180/1000\n",
      "13/13 [==============================] - 1s 60ms/step - loss: 0.2567 - accuracy: 0.9049 - val_loss: 1.0274 - val_accuracy: 0.5722\n",
      "Epoch 181/1000\n",
      "13/13 [==============================] - 1s 59ms/step - loss: 0.2734 - accuracy: 0.8932 - val_loss: 1.0141 - val_accuracy: 0.5944\n",
      "Epoch 182/1000\n",
      "13/13 [==============================] - 1s 59ms/step - loss: 0.2491 - accuracy: 0.9154 - val_loss: 0.9926 - val_accuracy: 0.6056\n",
      "Epoch 183/1000\n",
      "13/13 [==============================] - 1s 59ms/step - loss: 0.2690 - accuracy: 0.9006 - val_loss: 1.1814 - val_accuracy: 0.5056\n",
      "Epoch 184/1000\n",
      "13/13 [==============================] - 1s 59ms/step - loss: 0.2564 - accuracy: 0.9012 - val_loss: 0.9999 - val_accuracy: 0.5722\n",
      "Epoch 185/1000\n",
      "13/13 [==============================] - 1s 59ms/step - loss: 0.2537 - accuracy: 0.9068 - val_loss: 1.0758 - val_accuracy: 0.5611\n",
      "Epoch 186/1000\n",
      "13/13 [==============================] - 1s 59ms/step - loss: 0.2767 - accuracy: 0.8895 - val_loss: 1.0534 - val_accuracy: 0.5889\n",
      "Epoch 187/1000\n",
      "13/13 [==============================] - 1s 59ms/step - loss: 0.2424 - accuracy: 0.9105 - val_loss: 1.0472 - val_accuracy: 0.5722\n",
      "Epoch 188/1000\n",
      "13/13 [==============================] - 1s 59ms/step - loss: 0.2399 - accuracy: 0.9216 - val_loss: 1.0806 - val_accuracy: 0.5611\n",
      "Epoch 189/1000\n",
      "13/13 [==============================] - 1s 59ms/step - loss: 0.2394 - accuracy: 0.9093 - val_loss: 1.0626 - val_accuracy: 0.5278\n",
      "Epoch 190/1000\n",
      "13/13 [==============================] - 1s 59ms/step - loss: 0.2711 - accuracy: 0.8907 - val_loss: 1.0602 - val_accuracy: 0.5500\n",
      "Epoch 191/1000\n",
      "13/13 [==============================] - 1s 59ms/step - loss: 0.2411 - accuracy: 0.9160 - val_loss: 1.0786 - val_accuracy: 0.5500\n",
      "Epoch 192/1000\n",
      "13/13 [==============================] - 1s 60ms/step - loss: 0.2376 - accuracy: 0.9160 - val_loss: 1.1172 - val_accuracy: 0.5278\n",
      "Epoch 193/1000\n",
      "13/13 [==============================] - 1s 58ms/step - loss: 0.2610 - accuracy: 0.8969 - val_loss: 1.0584 - val_accuracy: 0.5667\n",
      "Epoch 194/1000\n",
      "13/13 [==============================] - 1s 60ms/step - loss: 0.2430 - accuracy: 0.9105 - val_loss: 1.0815 - val_accuracy: 0.5722\n",
      "Epoch 195/1000\n",
      "13/13 [==============================] - 1s 59ms/step - loss: 0.2420 - accuracy: 0.9056 - val_loss: 1.0629 - val_accuracy: 0.5444\n",
      "Epoch 196/1000\n",
      "13/13 [==============================] - 1s 59ms/step - loss: 0.2428 - accuracy: 0.9136 - val_loss: 1.0654 - val_accuracy: 0.5667\n",
      "Epoch 197/1000\n",
      "13/13 [==============================] - 1s 59ms/step - loss: 0.2356 - accuracy: 0.9056 - val_loss: 1.0878 - val_accuracy: 0.5611\n",
      "Epoch 198/1000\n",
      "13/13 [==============================] - 1s 60ms/step - loss: 0.2362 - accuracy: 0.9080 - val_loss: 1.1074 - val_accuracy: 0.5611\n",
      "Epoch 00198: early stopping\n"
     ]
    }
   ],
   "source": [
    "from tensorflow import keras\n",
    "from tensorflow.keras.models import Sequential\n",
    "from tensorflow.keras.layers import Dense\n",
    "from tensorflow.keras.callbacks import EarlyStopping\n",
    "from tensorflow.keras.layers import Dropout\n",
    "from tensorflow.keras.layers import BatchNormalization\n",
    "from tensorflow.keras.layers import Activation\n",
    "from tensorflow.keras.layers import Flatten\n",
    "from tensorflow.keras.layers import MaxPooling2D\n",
    "from tensorflow.keras.layers import Conv2D\n",
    "from keras.callbacks import EarlyStopping\n",
    "\n",
    "history = History()\n",
    "model = Sequential()\n",
    "model.add(Dense(10000,activation=\"elu\", input_shape=(X_train_with_val.shape[1],)))\n",
    "model.add(BatchNormalization())\n",
    "model.add(Dropout(0.2))\n",
    "model.add(Dense(5000,activation=\"selu\"))\n",
    "model.add(BatchNormalization())\n",
    "model.add(Dropout(0.2))\n",
    "model.add(Dense(2500,activation=\"elu\"))\n",
    "model.add(BatchNormalization())\n",
    "model.add(Dropout(0.2))\n",
    "model.add(Dense(1500,activation=\"sigmoid\"))\n",
    "model.add(BatchNormalization())\n",
    "model.add(Dropout(0.2))\n",
    "model.add(Dense(15,activation=\"relu\"))\n",
    "model.add(BatchNormalization())\n",
    "model.add(Dropout(0.2))\n",
    "model.add(Dense(1,activation=\"sigmoid\"))\n",
    "model.summary()\n",
    "\n",
    "model.compile(loss=\"binary_crossentropy\",optimizer=keras.optimizers.RMSprop(lr=1e-4), metrics=[\"accuracy\"])\n",
    "early_stopping = EarlyStopping(monitor='accuracy', patience=10, mode='max', verbose=1)\n",
    "history = model.fit(X_train_with_val, y_train_with_val, validation_data= (X_val, y_val), batch_size=128,epochs=1000, callbacks=[early_stopping])"
   ]
  },
  {
   "cell_type": "code",
   "execution_count": 52,
   "metadata": {},
   "outputs": [
    {
     "name": "stdout",
     "output_type": "stream",
     "text": [
      "Model: \"sequential_1\"\n",
      "_________________________________________________________________\n",
      "Layer (type)                 Output Shape              Param #   \n",
      "=================================================================\n",
      "dense_6 (Dense)              (None, 10000)             160000    \n",
      "_________________________________________________________________\n",
      "batch_normalization_5 (Batch (None, 10000)             40000     \n",
      "_________________________________________________________________\n",
      "dropout_5 (Dropout)          (None, 10000)             0         \n",
      "_________________________________________________________________\n",
      "dense_7 (Dense)              (None, 5000)              50005000  \n",
      "_________________________________________________________________\n",
      "batch_normalization_6 (Batch (None, 5000)              20000     \n",
      "_________________________________________________________________\n",
      "dropout_6 (Dropout)          (None, 5000)              0         \n",
      "_________________________________________________________________\n",
      "dense_8 (Dense)              (None, 2500)              12502500  \n",
      "_________________________________________________________________\n",
      "batch_normalization_7 (Batch (None, 2500)              10000     \n",
      "_________________________________________________________________\n",
      "dropout_7 (Dropout)          (None, 2500)              0         \n",
      "_________________________________________________________________\n",
      "dense_9 (Dense)              (None, 1500)              3751500   \n",
      "_________________________________________________________________\n",
      "batch_normalization_8 (Batch (None, 1500)              6000      \n",
      "_________________________________________________________________\n",
      "dropout_8 (Dropout)          (None, 1500)              0         \n",
      "_________________________________________________________________\n",
      "dense_10 (Dense)             (None, 15)                22515     \n",
      "_________________________________________________________________\n",
      "batch_normalization_9 (Batch (None, 15)                60        \n",
      "_________________________________________________________________\n",
      "dropout_9 (Dropout)          (None, 15)                0         \n",
      "_________________________________________________________________\n",
      "dense_11 (Dense)             (None, 1)                 16        \n",
      "=================================================================\n",
      "Total params: 66,517,591\n",
      "Trainable params: 66,479,561\n",
      "Non-trainable params: 38,030\n",
      "_________________________________________________________________\n",
      "Epoch 1/1000\n",
      "13/13 [==============================] - 3s 75ms/step - loss: 1.0001 - accuracy: 0.5265 - val_loss: 0.6934 - val_accuracy: 0.5222\n",
      "Epoch 2/1000\n",
      "13/13 [==============================] - 1s 59ms/step - loss: 0.9997 - accuracy: 0.5111 - val_loss: 0.6989 - val_accuracy: 0.5333\n",
      "Epoch 3/1000\n",
      "13/13 [==============================] - 1s 60ms/step - loss: 0.9504 - accuracy: 0.5099 - val_loss: 0.7003 - val_accuracy: 0.4833\n",
      "Epoch 4/1000\n",
      "13/13 [==============================] - 1s 59ms/step - loss: 0.9213 - accuracy: 0.5111 - val_loss: 0.7000 - val_accuracy: 0.4889\n",
      "Epoch 5/1000\n",
      "13/13 [==============================] - 1s 59ms/step - loss: 0.9509 - accuracy: 0.5142 - val_loss: 0.6909 - val_accuracy: 0.5333\n",
      "Epoch 6/1000\n",
      "13/13 [==============================] - 1s 59ms/step - loss: 0.9478 - accuracy: 0.5043 - val_loss: 0.6925 - val_accuracy: 0.5333\n",
      "Epoch 7/1000\n",
      "13/13 [==============================] - 1s 59ms/step - loss: 0.9263 - accuracy: 0.5179 - val_loss: 0.6903 - val_accuracy: 0.5500\n",
      "Epoch 8/1000\n",
      "13/13 [==============================] - 1s 61ms/step - loss: 0.9373 - accuracy: 0.5111 - val_loss: 0.6880 - val_accuracy: 0.5556\n",
      "Epoch 9/1000\n",
      "13/13 [==============================] - 1s 59ms/step - loss: 0.9681 - accuracy: 0.4957 - val_loss: 0.6943 - val_accuracy: 0.4889\n",
      "Epoch 10/1000\n",
      "13/13 [==============================] - 1s 59ms/step - loss: 0.9349 - accuracy: 0.5117 - val_loss: 0.6953 - val_accuracy: 0.4944\n",
      "Epoch 11/1000\n",
      "13/13 [==============================] - 1s 59ms/step - loss: 0.9217 - accuracy: 0.5080 - val_loss: 0.6956 - val_accuracy: 0.4944\n",
      "Epoch 00011: early stopping\n"
     ]
    }
   ],
   "source": [
    "history2 = History()\n",
    "model2 = Sequential()\n",
    "model2.add(Dense(10000,activation=\"elu\", input_shape=(X_train_with_val.shape[1],)))\n",
    "model2.add(BatchNormalization())\n",
    "model2.add(Dropout(0.3))\n",
    "model2.add(Dense(5000,activation=\"elu\"))\n",
    "model2.add(BatchNormalization())\n",
    "model2.add(Dropout(0.3))\n",
    "model2.add(Dense(2500,activation=\"elu\"))\n",
    "model2.add(BatchNormalization())\n",
    "model2.add(Dropout(0.3))\n",
    "model2.add(Dense(1500,activation=\"selu\"))\n",
    "model2.add(BatchNormalization())\n",
    "model2.add(Dropout(0.3))\n",
    "model2.add(Dense(15,activation=\"elu\"))\n",
    "model2.add(BatchNormalization())\n",
    "model2.add(Dropout(0.6))\n",
    "model2.add(Dense(1,activation=\"sigmoid\"))\n",
    "model2.summary()\n",
    "\n",
    "model2.compile(loss=\"binary_crossentropy\",optimizer=keras.optimizers.RMSprop(lr=1e-4), metrics=[\"accuracy\"])\n",
    "early_stopping2 = EarlyStopping(monitor='accuracy', patience=10, mode='max', verbose=1)\n",
    "history2 = model2.fit(X_train_with_val, y_train_with_val, validation_data= (X_val, y_val), batch_size=128,epochs=1000, callbacks=[early_stopping2])"
   ]
  },
  {
   "cell_type": "code",
   "execution_count": 53,
   "metadata": {},
   "outputs": [],
   "source": [
    "from sklearn import metrics\n",
    "acc = metrics.accuracy_score(y_true= y_test, y_pred=(model.predict(preprocess_pipeline.transform(X_test)) > 0.5).astype(\"int32\"))\n",
    "accuracy_scores.append((\"Sequential neural network 1\", acc))"
   ]
  },
  {
   "cell_type": "code",
   "execution_count": 54,
   "metadata": {},
   "outputs": [],
   "source": [
    "acc = metrics.accuracy_score(y_true= y_test, y_pred=(model2.predict(preprocess_pipeline.transform(X_test)) > 0.5).astype(\"int32\"))\n",
    "accuracy_scores.append((\"Sequential neural network 2\", acc))"
   ]
  },
  {
   "cell_type": "code",
   "execution_count": 55,
   "metadata": {},
   "outputs": [
    {
     "name": "stdout",
     "output_type": "stream",
     "text": [
      "MLPClassifier\n",
      "accuracy_score: 0.53\n",
      "MLPRegressor\n",
      "accuracy_score: 0.495\n",
      "Sequential neural network 1\n",
      "accuracy_score: 0.515\n",
      "Sequential neural network 2\n",
      "accuracy_score: 0.495\n"
     ]
    }
   ],
   "source": [
    "for name, accuracy in accuracy_scores:\n",
    "    print(name)\n",
    "    print(\"accuracy_score: {}\".format( accuracy ))"
   ]
  },
  {
   "cell_type": "code",
   "execution_count": 56,
   "metadata": {},
   "outputs": [
    {
     "data": {
      "image/png": "[encoded data removed]",
      "text/plain": [
       "<Figure size 432x288 with 1 Axes>"
      ]
     },
     "metadata": {
      "needs_background": "light"
     },
     "output_type": "display_data"
    },
    {
     "data": {
      "image/png": "[encoded data removed]",
      "text/plain": [
       "<Figure size 432x288 with 1 Axes>"
      ]
     },
     "metadata": {
      "needs_background": "light"
     },
     "output_type": "display_data"
    },
    {
     "data": {
      "image/png": "[encoded data removed]",
      "text/plain": [
       "<Figure size 432x288 with 1 Axes>"
      ]
     },
     "metadata": {
      "needs_background": "light"
     },
     "output_type": "display_data"
    },
    {
     "data": {
      "image/png": "[encoded data removed]",
      "text/plain": [
       "<Figure size 432x288 with 1 Axes>"
      ]
     },
     "metadata": {
      "needs_background": "light"
     },
     "output_type": "display_data"
    }
   ],
   "source": [
    "plt.plot(history.history['accuracy'])\n",
    "plt.plot(history2.history['accuracy'])\n",
    "plt.title('accuracy')\n",
    "plt.ylabel('accuracy')\n",
    "plt.xlabel('epoch')\n",
    "plt.show()\n",
    "\n",
    "plt.plot(history.history['loss'])\n",
    "plt.plot(history2.history['loss'])\n",
    "plt.title('loss')\n",
    "plt.ylabel('loss')\n",
    "plt.xlabel('epoch')\n",
    "plt.show()\n",
    "\n",
    "plt.plot(history.history['val_accuracy'])\n",
    "plt.plot(history2.history['val_accuracy'])\n",
    "plt.title('val accuracy')\n",
    "plt.ylabel('val accuracy')\n",
    "plt.xlabel('epoch')\n",
    "plt.show()\n",
    "\n",
    "plt.plot(history.history['val_loss'])\n",
    "plt.plot(history2.history['val_loss'])\n",
    "plt.title('val loss')\n",
    "plt.ylabel('val loss')\n",
    "plt.xlabel('epoch')\n",
    "plt.show()"
   ]
  },
  {
   "cell_type": "code",
   "execution_count": 57,
   "metadata": {},
   "outputs": [
    {
     "name": "stdout",
     "output_type": "stream",
     "text": [
      "MLPClassifier\n"
     ]
    },
    {
     "data": {
      "image/png": "[encoded data removed]",
      "text/plain": [
       "<Figure size 432x288 with 1 Axes>"
      ]
     },
     "metadata": {
      "needs_background": "light"
     },
     "output_type": "display_data"
    },
    {
     "name": "stdout",
     "output_type": "stream",
     "text": [
      "MLPRegressor\n"
     ]
    },
    {
     "data": {
      "image/png": "[encoded data removed]",
      "text/plain": [
       "<Figure size 432x288 with 1 Axes>"
      ]
     },
     "metadata": {
      "needs_background": "light"
     },
     "output_type": "display_data"
    },
    {
     "name": "stdout",
     "output_type": "stream",
     "text": [
      "Sequential Model 1\n"
     ]
    },
    {
     "data": {
      "image/png": "[encoded data removed]",
      "text/plain": [
       "<Figure size 432x288 with 1 Axes>"
      ]
     },
     "metadata": {
      "needs_background": "light"
     },
     "output_type": "display_data"
    },
    {
     "name": "stdout",
     "output_type": "stream",
     "text": [
      "Sequential Model 2\n"
     ]
    },
    {
     "data": {
      "image/png": "[encoded data removed]",
      "text/plain": [
       "<Figure size 432x288 with 1 Axes>"
      ]
     },
     "metadata": {
      "needs_background": "light"
     },
     "output_type": "display_data"
    }
   ],
   "source": [
    "from sklearn.metrics import roc_curve, auc\n",
    "\n",
    "for mod in [(\"MLPClassifier\", grid_mlpclass.best_estimator_), (\"MLPRegressor\", grid_mlpreg.best_estimator_)]:\n",
    "    print(mod[0])\n",
    "    RocCurveDisplay.from_predictions(y_true=y_test, y_pred=mod[1].predict(X_test))\n",
    "    plt.show()\n",
    "\n",
    "\n",
    "for mod in [(\"Sequential Model 1\", model), (\"Sequential Model 2\", model2)]:\n",
    "    print(mod[0])\n",
    "    RocCurveDisplay.from_predictions(y_true=y_test, y_pred=mod[1].predict(preprocess_pipeline.transform(X_test)))\n",
    "    plt.show()"
   ]
  }
 ],
 "metadata": {
  "interpreter": {
   "hash": "c099189df266928fc07d2e93076ff23971f290db635ac9fd012df5d52f8f22b0"
  },
  "kernelspec": {
   "display_name": "Python 3.9.12 ('TFGPU')",
   "language": "python",
   "name": "python3"
  },
  "language_info": {
   "codemirror_mode": {
    "name": "ipython",
    "version": 3
   },
   "file_extension": ".py",
   "mimetype": "text/x-python",
   "name": "python",
   "nbconvert_exporter": "python",
   "pygments_lexer": "ipython3",
   "version": "3.9.12"
  },
  "orig_nbformat": 4
 },
 "nbformat": 4,
 "nbformat_minor": 2
}
